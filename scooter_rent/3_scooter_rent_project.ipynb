{
 "cells": [
  {
   "cell_type": "markdown",
   "id": "21220074",
   "metadata": {},
   "source": [
    "**Цель исследования**"
   ]
  },
  {
   "cell_type": "markdown",
   "id": "0cf7ed1a",
   "metadata": {},
   "source": [
    "В данном проекте проводится исследование данных сервиса аренды самокатов. \n",
    "\n",
    "Данные представлены информацией о: \n",
    "- пользователях - имя, возраст, город, тип подписки \n",
    "- поездках - дистанция, продолжительность, дата\n",
    "- подписках - стоимость минуты поездки, стоимость начала поездки, месячная стоимость подписки.\n",
    "\n",
    "Цель - проверить гипотезы продакт-менеджеров для увеличения клиентов с подпиской и проведения соответствующих акций.\n",
    "\n",
    "План исследований:\n",
    "- предобработка данных\n",
    "- исследовательский анализ данных\n",
    "- подсчет выручки от клиентов с подпиской и без\n",
    "- проверка гипотез продакт-менеджеров\n",
    "- выполнение расчетов для отдела маркетинга\n",
    "- сформировать вывод по результатам работы"
   ]
  },
  {
   "cell_type": "code",
   "execution_count": 1,
   "id": "72576667",
   "metadata": {},
   "outputs": [],
   "source": [
    "import pandas as pd\n",
    "import seaborn as sns\n",
    "import matplotlib.pyplot as plt\n",
    "import scipy.stats as st\n",
    "import numpy as np"
   ]
  },
  {
   "cell_type": "markdown",
   "id": "c42cbe00",
   "metadata": {},
   "source": [
    "## Шаг 1. Загрузка данных"
   ]
  },
  {
   "cell_type": "markdown",
   "id": "d12747fd",
   "metadata": {},
   "source": [
    "**Прочитаем файлы и создадим датафреймы**"
   ]
  },
  {
   "cell_type": "code",
   "execution_count": 2,
   "id": "eff9f206",
   "metadata": {},
   "outputs": [],
   "source": [
    "try:\n",
    "    users = pd.read_csv('/datasets/users_go.csv', sep=',')\n",
    "except:\n",
    "    users = pd.read_csv('https://code.s3.yandex.net/datasets/users_go.csv', sep=',')"
   ]
  },
  {
   "cell_type": "code",
   "execution_count": 3,
   "id": "b079535f",
   "metadata": {},
   "outputs": [],
   "source": [
    "try:\n",
    "    rides = pd.read_csv('/datasets/rides_go.csv', sep=',')\n",
    "except:\n",
    "    rides = pd.read_csv('https://code.s3.yandex.net/datasets/rides_go.csv', sep=',')"
   ]
  },
  {
   "cell_type": "code",
   "execution_count": 4,
   "id": "76994de7",
   "metadata": {},
   "outputs": [],
   "source": [
    "try:\n",
    "    subscriptions = pd.read_csv('/datasets/subscriptions_go.csv', sep=',')\n",
    "except:\n",
    "    subscriptions = pd.read_csv('https://code.s3.yandex.net/datasets/subscriptions_go.csv', sep=',')"
   ]
  },
  {
   "cell_type": "markdown",
   "id": "3cfe4c12",
   "metadata": {},
   "source": [
    "**Выведем информацию по каждому датафрейму**"
   ]
  },
  {
   "cell_type": "code",
   "execution_count": 5,
   "id": "6e0b28c1",
   "metadata": {},
   "outputs": [
    {
     "data": {
      "text/html": [
       "<div>\n",
       "<style scoped>\n",
       "    .dataframe tbody tr th:only-of-type {\n",
       "        vertical-align: middle;\n",
       "    }\n",
       "\n",
       "    .dataframe tbody tr th {\n",
       "        vertical-align: top;\n",
       "    }\n",
       "\n",
       "    .dataframe thead th {\n",
       "        text-align: right;\n",
       "    }\n",
       "</style>\n",
       "<table border=\"1\" class=\"dataframe\">\n",
       "  <thead>\n",
       "    <tr style=\"text-align: right;\">\n",
       "      <th></th>\n",
       "      <th>user_id</th>\n",
       "      <th>name</th>\n",
       "      <th>age</th>\n",
       "      <th>city</th>\n",
       "      <th>subscription_type</th>\n",
       "    </tr>\n",
       "  </thead>\n",
       "  <tbody>\n",
       "    <tr>\n",
       "      <th>0</th>\n",
       "      <td>1</td>\n",
       "      <td>Кира</td>\n",
       "      <td>22</td>\n",
       "      <td>Тюмень</td>\n",
       "      <td>ultra</td>\n",
       "    </tr>\n",
       "    <tr>\n",
       "      <th>1</th>\n",
       "      <td>2</td>\n",
       "      <td>Станислав</td>\n",
       "      <td>31</td>\n",
       "      <td>Омск</td>\n",
       "      <td>ultra</td>\n",
       "    </tr>\n",
       "    <tr>\n",
       "      <th>2</th>\n",
       "      <td>3</td>\n",
       "      <td>Алексей</td>\n",
       "      <td>20</td>\n",
       "      <td>Москва</td>\n",
       "      <td>ultra</td>\n",
       "    </tr>\n",
       "    <tr>\n",
       "      <th>3</th>\n",
       "      <td>4</td>\n",
       "      <td>Константин</td>\n",
       "      <td>26</td>\n",
       "      <td>Ростов-на-Дону</td>\n",
       "      <td>ultra</td>\n",
       "    </tr>\n",
       "    <tr>\n",
       "      <th>4</th>\n",
       "      <td>5</td>\n",
       "      <td>Адель</td>\n",
       "      <td>28</td>\n",
       "      <td>Омск</td>\n",
       "      <td>ultra</td>\n",
       "    </tr>\n",
       "    <tr>\n",
       "      <th>5</th>\n",
       "      <td>6</td>\n",
       "      <td>Регина</td>\n",
       "      <td>25</td>\n",
       "      <td>Краснодар</td>\n",
       "      <td>ultra</td>\n",
       "    </tr>\n",
       "    <tr>\n",
       "      <th>6</th>\n",
       "      <td>7</td>\n",
       "      <td>Игорь</td>\n",
       "      <td>23</td>\n",
       "      <td>Омск</td>\n",
       "      <td>ultra</td>\n",
       "    </tr>\n",
       "    <tr>\n",
       "      <th>7</th>\n",
       "      <td>8</td>\n",
       "      <td>Юрий</td>\n",
       "      <td>23</td>\n",
       "      <td>Краснодар</td>\n",
       "      <td>ultra</td>\n",
       "    </tr>\n",
       "    <tr>\n",
       "      <th>8</th>\n",
       "      <td>9</td>\n",
       "      <td>Ян</td>\n",
       "      <td>21</td>\n",
       "      <td>Пятигорск</td>\n",
       "      <td>ultra</td>\n",
       "    </tr>\n",
       "    <tr>\n",
       "      <th>9</th>\n",
       "      <td>10</td>\n",
       "      <td>Валерий</td>\n",
       "      <td>18</td>\n",
       "      <td>Екатеринбург</td>\n",
       "      <td>ultra</td>\n",
       "    </tr>\n",
       "  </tbody>\n",
       "</table>\n",
       "</div>"
      ],
      "text/plain": [
       "   user_id        name  age            city subscription_type\n",
       "0        1        Кира   22          Тюмень             ultra\n",
       "1        2   Станислав   31            Омск             ultra\n",
       "2        3     Алексей   20          Москва             ultra\n",
       "3        4  Константин   26  Ростов-на-Дону             ultra\n",
       "4        5       Адель   28            Омск             ultra\n",
       "5        6      Регина   25       Краснодар             ultra\n",
       "6        7       Игорь   23            Омск             ultra\n",
       "7        8        Юрий   23       Краснодар             ultra\n",
       "8        9          Ян   21       Пятигорск             ultra\n",
       "9       10     Валерий   18    Екатеринбург             ultra"
      ]
     },
     "execution_count": 5,
     "metadata": {},
     "output_type": "execute_result"
    }
   ],
   "source": [
    "users.head(10)"
   ]
  },
  {
   "cell_type": "code",
   "execution_count": 6,
   "id": "5bfd58df",
   "metadata": {},
   "outputs": [
    {
     "name": "stdout",
     "output_type": "stream",
     "text": [
      "<class 'pandas.core.frame.DataFrame'>\n",
      "RangeIndex: 1565 entries, 0 to 1564\n",
      "Data columns (total 5 columns):\n",
      " #   Column             Non-Null Count  Dtype \n",
      "---  ------             --------------  ----- \n",
      " 0   user_id            1565 non-null   int64 \n",
      " 1   name               1565 non-null   object\n",
      " 2   age                1565 non-null   int64 \n",
      " 3   city               1565 non-null   object\n",
      " 4   subscription_type  1565 non-null   object\n",
      "dtypes: int64(2), object(3)\n",
      "memory usage: 61.3+ KB\n"
     ]
    }
   ],
   "source": [
    "users.info()"
   ]
  },
  {
   "cell_type": "code",
   "execution_count": 7,
   "id": "dfc13240",
   "metadata": {},
   "outputs": [
    {
     "data": {
      "text/html": [
       "<div>\n",
       "<style scoped>\n",
       "    .dataframe tbody tr th:only-of-type {\n",
       "        vertical-align: middle;\n",
       "    }\n",
       "\n",
       "    .dataframe tbody tr th {\n",
       "        vertical-align: top;\n",
       "    }\n",
       "\n",
       "    .dataframe thead th {\n",
       "        text-align: right;\n",
       "    }\n",
       "</style>\n",
       "<table border=\"1\" class=\"dataframe\">\n",
       "  <thead>\n",
       "    <tr style=\"text-align: right;\">\n",
       "      <th></th>\n",
       "      <th>user_id</th>\n",
       "      <th>distance</th>\n",
       "      <th>duration</th>\n",
       "      <th>date</th>\n",
       "    </tr>\n",
       "  </thead>\n",
       "  <tbody>\n",
       "    <tr>\n",
       "      <th>0</th>\n",
       "      <td>1</td>\n",
       "      <td>4409.92</td>\n",
       "      <td>25.60</td>\n",
       "      <td>2021-01-01</td>\n",
       "    </tr>\n",
       "    <tr>\n",
       "      <th>1</th>\n",
       "      <td>1</td>\n",
       "      <td>2617.59</td>\n",
       "      <td>15.82</td>\n",
       "      <td>2021-01-18</td>\n",
       "    </tr>\n",
       "    <tr>\n",
       "      <th>2</th>\n",
       "      <td>1</td>\n",
       "      <td>754.16</td>\n",
       "      <td>6.23</td>\n",
       "      <td>2021-04-20</td>\n",
       "    </tr>\n",
       "    <tr>\n",
       "      <th>3</th>\n",
       "      <td>1</td>\n",
       "      <td>2694.78</td>\n",
       "      <td>18.51</td>\n",
       "      <td>2021-08-11</td>\n",
       "    </tr>\n",
       "    <tr>\n",
       "      <th>4</th>\n",
       "      <td>1</td>\n",
       "      <td>4028.69</td>\n",
       "      <td>26.27</td>\n",
       "      <td>2021-08-28</td>\n",
       "    </tr>\n",
       "    <tr>\n",
       "      <th>5</th>\n",
       "      <td>1</td>\n",
       "      <td>2770.89</td>\n",
       "      <td>16.65</td>\n",
       "      <td>2021-10-09</td>\n",
       "    </tr>\n",
       "    <tr>\n",
       "      <th>6</th>\n",
       "      <td>1</td>\n",
       "      <td>3039.02</td>\n",
       "      <td>14.93</td>\n",
       "      <td>2021-10-19</td>\n",
       "    </tr>\n",
       "    <tr>\n",
       "      <th>7</th>\n",
       "      <td>1</td>\n",
       "      <td>2842.12</td>\n",
       "      <td>23.12</td>\n",
       "      <td>2021-11-06</td>\n",
       "    </tr>\n",
       "    <tr>\n",
       "      <th>8</th>\n",
       "      <td>1</td>\n",
       "      <td>3412.69</td>\n",
       "      <td>15.24</td>\n",
       "      <td>2021-11-14</td>\n",
       "    </tr>\n",
       "    <tr>\n",
       "      <th>9</th>\n",
       "      <td>1</td>\n",
       "      <td>748.69</td>\n",
       "      <td>15.04</td>\n",
       "      <td>2021-11-22</td>\n",
       "    </tr>\n",
       "  </tbody>\n",
       "</table>\n",
       "</div>"
      ],
      "text/plain": [
       "   user_id  distance  duration        date\n",
       "0        1   4409.92     25.60  2021-01-01\n",
       "1        1   2617.59     15.82  2021-01-18\n",
       "2        1    754.16      6.23  2021-04-20\n",
       "3        1   2694.78     18.51  2021-08-11\n",
       "4        1   4028.69     26.27  2021-08-28\n",
       "5        1   2770.89     16.65  2021-10-09\n",
       "6        1   3039.02     14.93  2021-10-19\n",
       "7        1   2842.12     23.12  2021-11-06\n",
       "8        1   3412.69     15.24  2021-11-14\n",
       "9        1    748.69     15.04  2021-11-22"
      ]
     },
     "execution_count": 7,
     "metadata": {},
     "output_type": "execute_result"
    }
   ],
   "source": [
    "round(rides.head(10), 2)"
   ]
  },
  {
   "cell_type": "code",
   "execution_count": 8,
   "id": "2cd140da",
   "metadata": {},
   "outputs": [
    {
     "name": "stdout",
     "output_type": "stream",
     "text": [
      "<class 'pandas.core.frame.DataFrame'>\n",
      "RangeIndex: 18068 entries, 0 to 18067\n",
      "Data columns (total 4 columns):\n",
      " #   Column    Non-Null Count  Dtype  \n",
      "---  ------    --------------  -----  \n",
      " 0   user_id   18068 non-null  int64  \n",
      " 1   distance  18068 non-null  float64\n",
      " 2   duration  18068 non-null  float64\n",
      " 3   date      18068 non-null  object \n",
      "dtypes: float64(2), int64(1), object(1)\n",
      "memory usage: 564.8+ KB\n"
     ]
    }
   ],
   "source": [
    "rides.info()"
   ]
  },
  {
   "cell_type": "code",
   "execution_count": 9,
   "id": "bd6a3367",
   "metadata": {},
   "outputs": [
    {
     "data": {
      "text/html": [
       "<div>\n",
       "<style scoped>\n",
       "    .dataframe tbody tr th:only-of-type {\n",
       "        vertical-align: middle;\n",
       "    }\n",
       "\n",
       "    .dataframe tbody tr th {\n",
       "        vertical-align: top;\n",
       "    }\n",
       "\n",
       "    .dataframe thead th {\n",
       "        text-align: right;\n",
       "    }\n",
       "</style>\n",
       "<table border=\"1\" class=\"dataframe\">\n",
       "  <thead>\n",
       "    <tr style=\"text-align: right;\">\n",
       "      <th></th>\n",
       "      <th>subscription_type</th>\n",
       "      <th>minute_price</th>\n",
       "      <th>start_ride_price</th>\n",
       "      <th>subscription_fee</th>\n",
       "    </tr>\n",
       "  </thead>\n",
       "  <tbody>\n",
       "    <tr>\n",
       "      <th>0</th>\n",
       "      <td>free</td>\n",
       "      <td>8</td>\n",
       "      <td>50</td>\n",
       "      <td>0</td>\n",
       "    </tr>\n",
       "    <tr>\n",
       "      <th>1</th>\n",
       "      <td>ultra</td>\n",
       "      <td>6</td>\n",
       "      <td>0</td>\n",
       "      <td>199</td>\n",
       "    </tr>\n",
       "  </tbody>\n",
       "</table>\n",
       "</div>"
      ],
      "text/plain": [
       "  subscription_type  minute_price  start_ride_price  subscription_fee\n",
       "0              free             8                50                 0\n",
       "1             ultra             6                 0               199"
      ]
     },
     "execution_count": 9,
     "metadata": {},
     "output_type": "execute_result"
    }
   ],
   "source": [
    "subscriptions.head()"
   ]
  },
  {
   "cell_type": "code",
   "execution_count": 10,
   "id": "3406343f",
   "metadata": {},
   "outputs": [
    {
     "name": "stdout",
     "output_type": "stream",
     "text": [
      "<class 'pandas.core.frame.DataFrame'>\n",
      "RangeIndex: 2 entries, 0 to 1\n",
      "Data columns (total 4 columns):\n",
      " #   Column             Non-Null Count  Dtype \n",
      "---  ------             --------------  ----- \n",
      " 0   subscription_type  2 non-null      object\n",
      " 1   minute_price       2 non-null      int64 \n",
      " 2   start_ride_price   2 non-null      int64 \n",
      " 3   subscription_fee   2 non-null      int64 \n",
      "dtypes: int64(3), object(1)\n",
      "memory usage: 192.0+ bytes\n"
     ]
    }
   ],
   "source": [
    "subscriptions.info()"
   ]
  },
  {
   "cell_type": "markdown",
   "id": "fe770202",
   "metadata": {},
   "source": [
    "В датафреймах представлена информация о 1565 клиентах сервиса аренды самокатов. Самый большой датафрейм с данными о поездках содержит 18068 записей. В данных о подписках представлено два тарифа. Пропущенных данных в таблицах нет. В датафрейме с информацией о поездках дата хранится в строчном формате, потребуется поменять на формат даты."
   ]
  },
  {
   "cell_type": "markdown",
   "id": "e95ebca7",
   "metadata": {},
   "source": [
    "## Шаг 2. Предобработка данных"
   ]
  },
  {
   "cell_type": "markdown",
   "id": "ea6f920e",
   "metadata": {},
   "source": [
    "**Проверим корректность названий столбцов**"
   ]
  },
  {
   "cell_type": "code",
   "execution_count": 11,
   "id": "af6d202c",
   "metadata": {},
   "outputs": [
    {
     "data": {
      "text/plain": [
       "Index(['user_id', 'name', 'age', 'city', 'subscription_type'], dtype='object')"
      ]
     },
     "execution_count": 11,
     "metadata": {},
     "output_type": "execute_result"
    }
   ],
   "source": [
    "users.columns"
   ]
  },
  {
   "cell_type": "code",
   "execution_count": 12,
   "id": "bde993da",
   "metadata": {},
   "outputs": [
    {
     "data": {
      "text/plain": [
       "Index(['user_id', 'distance', 'duration', 'date'], dtype='object')"
      ]
     },
     "execution_count": 12,
     "metadata": {},
     "output_type": "execute_result"
    }
   ],
   "source": [
    "rides.columns"
   ]
  },
  {
   "cell_type": "code",
   "execution_count": 13,
   "id": "4bf1b525",
   "metadata": {},
   "outputs": [
    {
     "data": {
      "text/plain": [
       "Index(['subscription_type', 'minute_price', 'start_ride_price',\n",
       "       'subscription_fee'],\n",
       "      dtype='object')"
      ]
     },
     "execution_count": 13,
     "metadata": {},
     "output_type": "execute_result"
    }
   ],
   "source": [
    "subscriptions.columns"
   ]
  },
  {
   "cell_type": "markdown",
   "id": "3b27c409",
   "metadata": {},
   "source": [
    "Корректировать названия столбцов необходимости нет."
   ]
  },
  {
   "cell_type": "markdown",
   "id": "057b381c",
   "metadata": {},
   "source": [
    "**Приведем столбец `date` в `rides` к типу даты**"
   ]
  },
  {
   "cell_type": "code",
   "execution_count": 14,
   "id": "d39426d5",
   "metadata": {},
   "outputs": [],
   "source": [
    "rides['date'] = pd.to_datetime(\n",
    "    rides['date'], format='%Y-%m-%d'\n",
    ")"
   ]
  },
  {
   "cell_type": "code",
   "execution_count": 15,
   "id": "b56ef3a5",
   "metadata": {},
   "outputs": [
    {
     "data": {
      "text/plain": [
       "user_id              int64\n",
       "distance           float64\n",
       "duration           float64\n",
       "date        datetime64[ns]\n",
       "dtype: object"
      ]
     },
     "execution_count": 15,
     "metadata": {},
     "output_type": "execute_result"
    }
   ],
   "source": [
    "rides.dtypes"
   ]
  },
  {
   "cell_type": "markdown",
   "id": "ad1164b1",
   "metadata": {},
   "source": [
    "**Создадим новый столбец с номером месяца на основе столбца `date`**"
   ]
  },
  {
   "cell_type": "code",
   "execution_count": 16,
   "id": "9daa4426",
   "metadata": {},
   "outputs": [],
   "source": [
    "rides['month'] = rides['date'].dt.month"
   ]
  },
  {
   "cell_type": "code",
   "execution_count": 17,
   "id": "e23689e5",
   "metadata": {},
   "outputs": [
    {
     "data": {
      "text/html": [
       "<div>\n",
       "<style scoped>\n",
       "    .dataframe tbody tr th:only-of-type {\n",
       "        vertical-align: middle;\n",
       "    }\n",
       "\n",
       "    .dataframe tbody tr th {\n",
       "        vertical-align: top;\n",
       "    }\n",
       "\n",
       "    .dataframe thead th {\n",
       "        text-align: right;\n",
       "    }\n",
       "</style>\n",
       "<table border=\"1\" class=\"dataframe\">\n",
       "  <thead>\n",
       "    <tr style=\"text-align: right;\">\n",
       "      <th></th>\n",
       "      <th>user_id</th>\n",
       "      <th>distance</th>\n",
       "      <th>duration</th>\n",
       "      <th>date</th>\n",
       "      <th>month</th>\n",
       "    </tr>\n",
       "  </thead>\n",
       "  <tbody>\n",
       "    <tr>\n",
       "      <th>0</th>\n",
       "      <td>1</td>\n",
       "      <td>4409.92</td>\n",
       "      <td>25.60</td>\n",
       "      <td>2021-01-01</td>\n",
       "      <td>1</td>\n",
       "    </tr>\n",
       "    <tr>\n",
       "      <th>1</th>\n",
       "      <td>1</td>\n",
       "      <td>2617.59</td>\n",
       "      <td>15.82</td>\n",
       "      <td>2021-01-18</td>\n",
       "      <td>1</td>\n",
       "    </tr>\n",
       "    <tr>\n",
       "      <th>2</th>\n",
       "      <td>1</td>\n",
       "      <td>754.16</td>\n",
       "      <td>6.23</td>\n",
       "      <td>2021-04-20</td>\n",
       "      <td>4</td>\n",
       "    </tr>\n",
       "    <tr>\n",
       "      <th>3</th>\n",
       "      <td>1</td>\n",
       "      <td>2694.78</td>\n",
       "      <td>18.51</td>\n",
       "      <td>2021-08-11</td>\n",
       "      <td>8</td>\n",
       "    </tr>\n",
       "    <tr>\n",
       "      <th>4</th>\n",
       "      <td>1</td>\n",
       "      <td>4028.69</td>\n",
       "      <td>26.27</td>\n",
       "      <td>2021-08-28</td>\n",
       "      <td>8</td>\n",
       "    </tr>\n",
       "  </tbody>\n",
       "</table>\n",
       "</div>"
      ],
      "text/plain": [
       "   user_id  distance  duration       date  month\n",
       "0        1   4409.92     25.60 2021-01-01      1\n",
       "1        1   2617.59     15.82 2021-01-18      1\n",
       "2        1    754.16      6.23 2021-04-20      4\n",
       "3        1   2694.78     18.51 2021-08-11      8\n",
       "4        1   4028.69     26.27 2021-08-28      8"
      ]
     },
     "execution_count": 17,
     "metadata": {},
     "output_type": "execute_result"
    }
   ],
   "source": [
    "round(rides.head(), 2)"
   ]
  },
  {
   "cell_type": "markdown",
   "id": "1bc3d2d8",
   "metadata": {},
   "source": [
    "Проверим в каком диапазоне находятся даты. Выведем минимальное и максимальное значения."
   ]
  },
  {
   "cell_type": "code",
   "execution_count": 18,
   "id": "d6ac4237",
   "metadata": {},
   "outputs": [
    {
     "data": {
      "text/plain": [
       "Timestamp('2021-01-01 00:00:00')"
      ]
     },
     "execution_count": 18,
     "metadata": {},
     "output_type": "execute_result"
    }
   ],
   "source": [
    "rides['date'].min()"
   ]
  },
  {
   "cell_type": "code",
   "execution_count": 19,
   "id": "c327933f",
   "metadata": {},
   "outputs": [
    {
     "data": {
      "text/plain": [
       "Timestamp('2021-12-30 00:00:00')"
      ]
     },
     "execution_count": 19,
     "metadata": {},
     "output_type": "execute_result"
    }
   ],
   "source": [
    "rides['date'].max()"
   ]
  },
  {
   "cell_type": "markdown",
   "id": "7a48544b",
   "metadata": {},
   "source": [
    "Все даты находятся в пределах одного года, таким образом все значения столбца месяц также относятся к одному году."
   ]
  },
  {
   "cell_type": "markdown",
   "id": "e523a9ed",
   "metadata": {},
   "source": [
    "**Проверим наличие пропущенных значений и дубликатов в датафреймах**"
   ]
  },
  {
   "cell_type": "code",
   "execution_count": 20,
   "id": "3c78e74d",
   "metadata": {},
   "outputs": [
    {
     "data": {
      "text/plain": [
       "user_id              0\n",
       "name                 0\n",
       "age                  0\n",
       "city                 0\n",
       "subscription_type    0\n",
       "dtype: int64"
      ]
     },
     "execution_count": 20,
     "metadata": {},
     "output_type": "execute_result"
    }
   ],
   "source": [
    "users.isna().sum()"
   ]
  },
  {
   "cell_type": "code",
   "execution_count": 21,
   "id": "1eee7f44",
   "metadata": {},
   "outputs": [
    {
     "data": {
      "text/plain": [
       "user_id     0\n",
       "distance    0\n",
       "duration    0\n",
       "date        0\n",
       "month       0\n",
       "dtype: int64"
      ]
     },
     "execution_count": 21,
     "metadata": {},
     "output_type": "execute_result"
    }
   ],
   "source": [
    "rides.isna().sum()"
   ]
  },
  {
   "cell_type": "code",
   "execution_count": 22,
   "id": "db31f69a",
   "metadata": {},
   "outputs": [
    {
     "data": {
      "text/plain": [
       "subscription_type    0\n",
       "minute_price         0\n",
       "start_ride_price     0\n",
       "subscription_fee     0\n",
       "dtype: int64"
      ]
     },
     "execution_count": 22,
     "metadata": {},
     "output_type": "execute_result"
    }
   ],
   "source": [
    "subscriptions.isna().sum()"
   ]
  },
  {
   "cell_type": "markdown",
   "id": "50cc85d7",
   "metadata": {},
   "source": [
    "Пропущенных значений не обнаружено."
   ]
  },
  {
   "cell_type": "code",
   "execution_count": 23,
   "id": "76db7242",
   "metadata": {},
   "outputs": [
    {
     "data": {
      "text/plain": [
       "31"
      ]
     },
     "execution_count": 23,
     "metadata": {},
     "output_type": "execute_result"
    }
   ],
   "source": [
    "users.duplicated().sum()"
   ]
  },
  {
   "cell_type": "code",
   "execution_count": 24,
   "id": "aebcad17",
   "metadata": {},
   "outputs": [
    {
     "data": {
      "text/plain": [
       "0"
      ]
     },
     "execution_count": 24,
     "metadata": {},
     "output_type": "execute_result"
    }
   ],
   "source": [
    "rides.duplicated().sum()"
   ]
  },
  {
   "cell_type": "code",
   "execution_count": 25,
   "id": "dd706749",
   "metadata": {},
   "outputs": [
    {
     "data": {
      "text/plain": [
       "0"
      ]
     },
     "execution_count": 25,
     "metadata": {},
     "output_type": "execute_result"
    }
   ],
   "source": [
    "subscriptions.duplicated().sum()"
   ]
  },
  {
   "cell_type": "markdown",
   "id": "d36249e3",
   "metadata": {},
   "source": [
    "Обнаружены дубликаты в датафрейме `users` в количестве 31. Удалим их из датафрейма."
   ]
  },
  {
   "cell_type": "code",
   "execution_count": 26,
   "id": "8a7bafde",
   "metadata": {},
   "outputs": [],
   "source": [
    "users.drop_duplicates(inplace=True)"
   ]
  },
  {
   "cell_type": "code",
   "execution_count": 27,
   "id": "d69891cd",
   "metadata": {},
   "outputs": [
    {
     "data": {
      "text/plain": [
       "0"
      ]
     },
     "execution_count": 27,
     "metadata": {},
     "output_type": "execute_result"
    }
   ],
   "source": [
    "users.duplicated().sum()"
   ]
  },
  {
   "cell_type": "markdown",
   "id": "212593c7",
   "metadata": {},
   "source": [
    "## Шаг 3. Исследовательский анализ данных"
   ]
  },
  {
   "cell_type": "markdown",
   "id": "8c86c431",
   "metadata": {},
   "source": [
    "### Частота встречаемости городов"
   ]
  },
  {
   "cell_type": "code",
   "execution_count": 28,
   "id": "62f2d77a",
   "metadata": {},
   "outputs": [],
   "source": [
    "city_pivot_table = users.pivot_table(index='city', values='name', aggfunc='count')"
   ]
  },
  {
   "cell_type": "code",
   "execution_count": 29,
   "id": "6372199c",
   "metadata": {},
   "outputs": [],
   "source": [
    "city_pivot_table['Процент'] = round(city_pivot_table['name'] / city_pivot_table['name'].sum(), 3)*100"
   ]
  },
  {
   "cell_type": "code",
   "execution_count": 30,
   "id": "8a3f0abe",
   "metadata": {},
   "outputs": [],
   "source": [
    "city_pivot_table = city_pivot_table.rename(columns={'name': 'Кол-во клиентов'})\n",
    "city_pivot_table = city_pivot_table.rename_axis('Город')"
   ]
  },
  {
   "cell_type": "code",
   "execution_count": 31,
   "id": "24c5148d",
   "metadata": {},
   "outputs": [],
   "source": [
    "city_pivot_table = city_pivot_table.sort_values(by='Кол-во клиентов', ascending=False)"
   ]
  },
  {
   "cell_type": "code",
   "execution_count": 32,
   "id": "47adb862",
   "metadata": {},
   "outputs": [
    {
     "data": {
      "text/html": [
       "<div>\n",
       "<style scoped>\n",
       "    .dataframe tbody tr th:only-of-type {\n",
       "        vertical-align: middle;\n",
       "    }\n",
       "\n",
       "    .dataframe tbody tr th {\n",
       "        vertical-align: top;\n",
       "    }\n",
       "\n",
       "    .dataframe thead th {\n",
       "        text-align: right;\n",
       "    }\n",
       "</style>\n",
       "<table border=\"1\" class=\"dataframe\">\n",
       "  <thead>\n",
       "    <tr style=\"text-align: right;\">\n",
       "      <th></th>\n",
       "      <th>Кол-во клиентов</th>\n",
       "      <th>Процент</th>\n",
       "    </tr>\n",
       "    <tr>\n",
       "      <th>Город</th>\n",
       "      <th></th>\n",
       "      <th></th>\n",
       "    </tr>\n",
       "  </thead>\n",
       "  <tbody>\n",
       "    <tr>\n",
       "      <th>Пятигорск</th>\n",
       "      <td>219</td>\n",
       "      <td>14.3</td>\n",
       "    </tr>\n",
       "    <tr>\n",
       "      <th>Екатеринбург</th>\n",
       "      <td>204</td>\n",
       "      <td>13.3</td>\n",
       "    </tr>\n",
       "    <tr>\n",
       "      <th>Ростов-на-Дону</th>\n",
       "      <td>198</td>\n",
       "      <td>12.9</td>\n",
       "    </tr>\n",
       "    <tr>\n",
       "      <th>Краснодар</th>\n",
       "      <td>193</td>\n",
       "      <td>12.6</td>\n",
       "    </tr>\n",
       "    <tr>\n",
       "      <th>Сочи</th>\n",
       "      <td>189</td>\n",
       "      <td>12.3</td>\n",
       "    </tr>\n",
       "    <tr>\n",
       "      <th>Омск</th>\n",
       "      <td>183</td>\n",
       "      <td>11.9</td>\n",
       "    </tr>\n",
       "    <tr>\n",
       "      <th>Тюмень</th>\n",
       "      <td>180</td>\n",
       "      <td>11.7</td>\n",
       "    </tr>\n",
       "    <tr>\n",
       "      <th>Москва</th>\n",
       "      <td>168</td>\n",
       "      <td>11.0</td>\n",
       "    </tr>\n",
       "  </tbody>\n",
       "</table>\n",
       "</div>"
      ],
      "text/plain": [
       "                Кол-во клиентов  Процент\n",
       "Город                                   \n",
       "Пятигорск                   219     14.3\n",
       "Екатеринбург                204     13.3\n",
       "Ростов-на-Дону              198     12.9\n",
       "Краснодар                   193     12.6\n",
       "Сочи                        189     12.3\n",
       "Омск                        183     11.9\n",
       "Тюмень                      180     11.7\n",
       "Москва                      168     11.0"
      ]
     },
     "execution_count": 32,
     "metadata": {},
     "output_type": "execute_result"
    }
   ],
   "source": [
    "city_pivot_table"
   ]
  },
  {
   "cell_type": "code",
   "execution_count": 33,
   "id": "2ad498e3",
   "metadata": {},
   "outputs": [
    {
     "data": {
      "image/png": "[encoded data removed]",
      "text/plain": [
       "<Figure size 1080x576 with 1 Axes>"
      ]
     },
     "metadata": {
      "needs_background": "light"
     },
     "output_type": "display_data"
    }
   ],
   "source": [
    "city_pivot_table['Кол-во клиентов'].plot(kind='bar', figsize=(15, 8), rot=0)\n",
    "plt.title('Распределение клиентов по городам', fontsize=20)\n",
    "plt.grid(True)\n",
    "plt.yticks(range(0, 250, 25))\n",
    "plt.ylabel('Кол-во клиентов', fontsize=15)\n",
    "plt.xlabel('Город', fontsize=15)\n",
    "plt.tick_params(axis='x', labelsize=12)\n",
    "plt.tick_params(axis='y', labelsize=12);"
   ]
  },
  {
   "cell_type": "markdown",
   "id": "ebe01716",
   "metadata": {},
   "source": [
    "Больше всего клентов у сервиса в городе Пятигорск - 219, на втором месте город Екатеринбург - 204 клиента. В остальных городах количество менее 200. Меньше всего клиентов в Москве - 168."
   ]
  },
  {
   "cell_type": "markdown",
   "id": "b9216aa4",
   "metadata": {},
   "source": [
    "### Соотношение пользователей с подпиской и без подписки"
   ]
  },
  {
   "cell_type": "code",
   "execution_count": 34,
   "id": "ee73fb3f",
   "metadata": {},
   "outputs": [],
   "source": [
    "sub_pivot_table = users.pivot_table(index='subscription_type', values='name', aggfunc='count')"
   ]
  },
  {
   "cell_type": "code",
   "execution_count": 35,
   "id": "02765aaa",
   "metadata": {},
   "outputs": [],
   "source": [
    "sub_pivot_table['Процент'] = round(sub_pivot_table['name'] / sub_pivot_table['name'].sum(), 2)*100"
   ]
  },
  {
   "cell_type": "code",
   "execution_count": 36,
   "id": "6d8c16d8",
   "metadata": {},
   "outputs": [],
   "source": [
    "sub_pivot_table = sub_pivot_table.rename(columns={'name': 'Кол-во клиентов'})\n",
    "sub_pivot_table = sub_pivot_table.rename_axis('Тип подписки')"
   ]
  },
  {
   "cell_type": "code",
   "execution_count": 37,
   "id": "f63e6663",
   "metadata": {},
   "outputs": [
    {
     "data": {
      "text/html": [
       "<div>\n",
       "<style scoped>\n",
       "    .dataframe tbody tr th:only-of-type {\n",
       "        vertical-align: middle;\n",
       "    }\n",
       "\n",
       "    .dataframe tbody tr th {\n",
       "        vertical-align: top;\n",
       "    }\n",
       "\n",
       "    .dataframe thead th {\n",
       "        text-align: right;\n",
       "    }\n",
       "</style>\n",
       "<table border=\"1\" class=\"dataframe\">\n",
       "  <thead>\n",
       "    <tr style=\"text-align: right;\">\n",
       "      <th></th>\n",
       "      <th>Кол-во клиентов</th>\n",
       "      <th>Процент</th>\n",
       "    </tr>\n",
       "    <tr>\n",
       "      <th>Тип подписки</th>\n",
       "      <th></th>\n",
       "      <th></th>\n",
       "    </tr>\n",
       "  </thead>\n",
       "  <tbody>\n",
       "    <tr>\n",
       "      <th>free</th>\n",
       "      <td>835</td>\n",
       "      <td>54.0</td>\n",
       "    </tr>\n",
       "    <tr>\n",
       "      <th>ultra</th>\n",
       "      <td>699</td>\n",
       "      <td>46.0</td>\n",
       "    </tr>\n",
       "  </tbody>\n",
       "</table>\n",
       "</div>"
      ],
      "text/plain": [
       "              Кол-во клиентов  Процент\n",
       "Тип подписки                          \n",
       "free                      835     54.0\n",
       "ultra                     699     46.0"
      ]
     },
     "execution_count": 37,
     "metadata": {},
     "output_type": "execute_result"
    }
   ],
   "source": [
    "sub_pivot_table"
   ]
  },
  {
   "cell_type": "code",
   "execution_count": 38,
   "id": "03d896a0",
   "metadata": {},
   "outputs": [
    {
     "data": {
      "image/png": "[encoded data removed]",
      "text/plain": [
       "<Figure size 576x576 with 1 Axes>"
      ]
     },
     "metadata": {},
     "output_type": "display_data"
    }
   ],
   "source": [
    "sub_pivot_table['Кол-во клиентов'].plot(\n",
    "    kind='pie', figsize=(8, 8), subplots=True, autopct='%1.0f%%', textprops={'fontsize': 17}\n",
    ")\n",
    "plt.title('Соотношение пользователей с подпиской и без', fontsize=20)\n",
    "plt.rcParams['font.size'] = 15.0\n",
    "plt.ylabel('');"
   ]
  },
  {
   "cell_type": "markdown",
   "id": "04d516a2",
   "metadata": {},
   "source": [
    "54% клиентов пользуются сервисом без подписки, 46% - с подпиской."
   ]
  },
  {
   "cell_type": "markdown",
   "id": "fa73e6ee",
   "metadata": {},
   "source": [
    "### Возраст пользователей"
   ]
  },
  {
   "cell_type": "code",
   "execution_count": 39,
   "id": "744ae601",
   "metadata": {},
   "outputs": [],
   "source": [
    "age_pivot_table = users.pivot_table(index='age', values='name', aggfunc='count')"
   ]
  },
  {
   "cell_type": "code",
   "execution_count": 40,
   "id": "44106337",
   "metadata": {},
   "outputs": [],
   "source": [
    "age_pivot_table = age_pivot_table.rename(columns={'name': 'quantity'})"
   ]
  },
  {
   "cell_type": "code",
   "execution_count": 41,
   "id": "2671c6e1",
   "metadata": {},
   "outputs": [
    {
     "data": {
      "image/png": "[encoded data removed]",
      "text/plain": [
       "<Figure size 1080x576 with 1 Axes>"
      ]
     },
     "metadata": {
      "needs_background": "light"
     },
     "output_type": "display_data"
    }
   ],
   "source": [
    "age_pivot_table.plot(kind='bar', figsize=(15, 8), legend=False)\n",
    "plt.grid(True)\n",
    "plt.title('Распределение клиентов по возрасту', fontsize=20)\n",
    "plt.tick_params(axis='x', labelsize=14)\n",
    "plt.tick_params(axis='y', labelsize=14)\n",
    "plt.ylabel('Кол-во клиентов', fontsize=15)\n",
    "plt.xlabel('Возраст', fontsize=15)\n",
    "plt.yticks(range(0, 150, 10));"
   ]
  },
  {
   "cell_type": "code",
   "execution_count": 42,
   "id": "874b1cff",
   "metadata": {},
   "outputs": [
    {
     "data": {
      "text/plain": [
       "count    1534.0\n",
       "mean       24.9\n",
       "std         4.6\n",
       "min        12.0\n",
       "25%        22.0\n",
       "50%        25.0\n",
       "75%        28.0\n",
       "max        43.0\n",
       "Name: age, dtype: float64"
      ]
     },
     "execution_count": 42,
     "metadata": {},
     "output_type": "execute_result"
    }
   ],
   "source": [
    "round(users['age'].describe(), 1)"
   ]
  },
  {
   "cell_type": "markdown",
   "id": "00e4a25d",
   "metadata": {},
   "source": [
    "Возраст клиентов сервиса от 12 до 43 лет. 50% пользователей в возрасте от 22 до 28 лет. Больше всего пользователей в возрасте 25 лет."
   ]
  },
  {
   "cell_type": "markdown",
   "id": "96b95c45",
   "metadata": {},
   "source": [
    "### Расстояние, которое пользователь преодолел за одну поездку"
   ]
  },
  {
   "cell_type": "code",
   "execution_count": 43,
   "id": "0022e7ef",
   "metadata": {},
   "outputs": [
    {
     "data": {
      "image/png": "[encoded data removed]",
      "text/plain": [
       "<Figure size 1080x576 with 1 Axes>"
      ]
     },
     "metadata": {
      "needs_background": "light"
     },
     "output_type": "display_data"
    }
   ],
   "source": [
    "rides['distance'].hist(bins=140, figsize=(15, 8))\n",
    "plt.title('Распределение поездок по расстоянию')\n",
    "plt.xlabel('Расстояние (м)', fontsize=15)\n",
    "plt.ylabel('Кол-во поездок', fontsize=15)\n",
    "plt.grid(True)\n",
    "plt.yticks(range(0, 500, 50))\n",
    "plt.xticks(range(0, 7500, 500));"
   ]
  },
  {
   "cell_type": "code",
   "execution_count": 44,
   "id": "f95588f8",
   "metadata": {},
   "outputs": [
    {
     "data": {
      "text/plain": [
       "count    18068.0\n",
       "mean      3071.0\n",
       "std       1117.0\n",
       "min          1.0\n",
       "25%       2543.0\n",
       "50%       3134.0\n",
       "75%       3776.0\n",
       "max       7211.0\n",
       "Name: distance, dtype: float64"
      ]
     },
     "execution_count": 44,
     "metadata": {},
     "output_type": "execute_result"
    }
   ],
   "source": [
    "round(rides['distance'].describe())"
   ]
  },
  {
   "cell_type": "code",
   "execution_count": 45,
   "id": "bf4417e4",
   "metadata": {},
   "outputs": [
    {
     "data": {
      "text/html": [
       "<style  type=\"text/css\" >\n",
       "</style><table id=\"T_ab855_\" ><thead>    <tr>        <th class=\"blank level0\" ></th>        <th class=\"col_heading level0 col0\" >distance</th>    </tr></thead><tbody>\n",
       "                <tr>\n",
       "                        <th id=\"T_ab855_level0_row0\" class=\"row_heading level0 row0\" >0.0012</th>\n",
       "                        <td id=\"T_ab855_row0_col0\" class=\"data row0 col0\" >36.38</td>\n",
       "            </tr>\n",
       "            <tr>\n",
       "                        <th id=\"T_ab855_level0_row1\" class=\"row_heading level0 row1\" >0.01</th>\n",
       "                        <td id=\"T_ab855_row1_col0\" class=\"data row1 col0\" >208.08</td>\n",
       "            </tr>\n",
       "            <tr>\n",
       "                        <th id=\"T_ab855_level0_row2\" class=\"row_heading level0 row2\" >0.5</th>\n",
       "                        <td id=\"T_ab855_row2_col0\" class=\"data row2 col0\" >3,133.61</td>\n",
       "            </tr>\n",
       "            <tr>\n",
       "                        <th id=\"T_ab855_level0_row3\" class=\"row_heading level0 row3\" >0.99</th>\n",
       "                        <td id=\"T_ab855_row3_col0\" class=\"data row3 col0\" >5,478.62</td>\n",
       "            </tr>\n",
       "            <tr>\n",
       "                        <th id=\"T_ab855_level0_row4\" class=\"row_heading level0 row4\" >0.9988</th>\n",
       "                        <td id=\"T_ab855_row4_col0\" class=\"data row4 col0\" >6,251.50</td>\n",
       "            </tr>\n",
       "    </tbody></table>"
      ],
      "text/plain": [
       "<pandas.io.formats.style.Styler at 0x7f648a7f18e0>"
      ]
     },
     "execution_count": 45,
     "metadata": {},
     "output_type": "execute_result"
    }
   ],
   "source": [
    "(\n",
    "    rides[['distance',]]\n",
    "    .quantile([0.0012, 0.01, .5, .99, .9988]) \n",
    "    .style.format(\"{:,.2f}\")\n",
    ")"
   ]
  },
  {
   "cell_type": "markdown",
   "id": "5a8bd9c9",
   "metadata": {},
   "source": [
    "Данные о дальности поездок представлены значениями от 1 до 7211. Среднее значение - 3071, медиана - 3134. 50% поездок находятся в диапазоне от 2543 до 3776. Поездки менее 200 м и более 5500 крайне редки. Присутствует локальный максимум около значения 700 м, возможно это поездки до ближайшей остановки общественного транспорта от дома и обратно."
   ]
  },
  {
   "cell_type": "markdown",
   "id": "e92f12d7",
   "metadata": {},
   "source": [
    "### Продолжительность поездок"
   ]
  },
  {
   "cell_type": "code",
   "execution_count": 46,
   "id": "f48f3e84",
   "metadata": {},
   "outputs": [
    {
     "data": {
      "image/png": "[encoded data removed]",
      "text/plain": [
       "<Figure size 1080x576 with 1 Axes>"
      ]
     },
     "metadata": {
      "needs_background": "light"
     },
     "output_type": "display_data"
    }
   ],
   "source": [
    "rides['duration'].hist(bins=120, figsize=(15, 8))\n",
    "plt.title('Распределение поездок по длительности')\n",
    "plt.xlabel('Длительность (минуты)', fontsize=15)\n",
    "plt.ylabel('Кол-во поездок', fontsize=15)\n",
    "plt.grid(True)\n",
    "plt.xticks(range(0, 44, 2));"
   ]
  },
  {
   "cell_type": "code",
   "execution_count": 47,
   "id": "50956ef5",
   "metadata": {},
   "outputs": [
    {
     "data": {
      "text/plain": [
       "count    18068.0\n",
       "mean        17.8\n",
       "std          6.1\n",
       "min          0.5\n",
       "25%         13.6\n",
       "50%         17.7\n",
       "75%         21.7\n",
       "max         40.8\n",
       "Name: duration, dtype: float64"
      ]
     },
     "execution_count": 47,
     "metadata": {},
     "output_type": "execute_result"
    }
   ],
   "source": [
    "round(rides['duration'].describe(), 1)"
   ]
  },
  {
   "cell_type": "code",
   "execution_count": 48,
   "id": "6422f9fc",
   "metadata": {},
   "outputs": [
    {
     "data": {
      "text/html": [
       "<style  type=\"text/css\" >\n",
       "</style><table id=\"T_0f102_\" ><thead>    <tr>        <th class=\"blank level0\" ></th>        <th class=\"col_heading level0 col0\" >duration</th>    </tr></thead><tbody>\n",
       "                <tr>\n",
       "                        <th id=\"T_0f102_level0_row0\" class=\"row_heading level0 row0\" >0.0012</th>\n",
       "                        <td id=\"T_0f102_row0_col0\" class=\"data row0 col0\" >0.50</td>\n",
       "            </tr>\n",
       "            <tr>\n",
       "                        <th id=\"T_0f102_level0_row1\" class=\"row_heading level0 row1\" >0.01</th>\n",
       "                        <td id=\"T_0f102_row1_col0\" class=\"data row1 col0\" >3.98</td>\n",
       "            </tr>\n",
       "            <tr>\n",
       "                        <th id=\"T_0f102_level0_row2\" class=\"row_heading level0 row2\" >0.5</th>\n",
       "                        <td id=\"T_0f102_row2_col0\" class=\"data row2 col0\" >17.68</td>\n",
       "            </tr>\n",
       "            <tr>\n",
       "                        <th id=\"T_0f102_level0_row3\" class=\"row_heading level0 row3\" >0.99</th>\n",
       "                        <td id=\"T_0f102_row3_col0\" class=\"data row3 col0\" >32.50</td>\n",
       "            </tr>\n",
       "            <tr>\n",
       "                        <th id=\"T_0f102_level0_row4\" class=\"row_heading level0 row4\" >0.9988</th>\n",
       "                        <td id=\"T_0f102_row4_col0\" class=\"data row4 col0\" >35.43</td>\n",
       "            </tr>\n",
       "    </tbody></table>"
      ],
      "text/plain": [
       "<pandas.io.formats.style.Styler at 0x7f64824a44f0>"
      ]
     },
     "execution_count": 48,
     "metadata": {},
     "output_type": "execute_result"
    }
   ],
   "source": [
    "(\n",
    "    rides[['duration',]]\n",
    "    .quantile([0.0012, 0.01, .5, .99, .9988]) \n",
    "    .style.format(\"{:,.2f}\")\n",
    ")"
   ]
  },
  {
   "cell_type": "markdown",
   "id": "87b3b46b",
   "metadata": {},
   "source": [
    "Длительность поездок лежит в диапазоне от 0.5 до 40.8 минут. Присутствует значение 0.5.\n",
    "\n",
    "50% данных находятся в диапазоне от 13.7 до 21.7 минут. Среднее значение и медиана находятся около 18 минут.\n",
    "Значения менее 4 и более 33 минут встречаются редко."
   ]
  },
  {
   "cell_type": "code",
   "execution_count": 49,
   "id": "859f9135",
   "metadata": {},
   "outputs": [
    {
     "data": {
      "text/plain": [
       "95"
      ]
     },
     "execution_count": 49,
     "metadata": {},
     "output_type": "execute_result"
    }
   ],
   "source": [
    "rides.query('duration < 2')['distance'].count()"
   ]
  },
  {
   "cell_type": "code",
   "execution_count": 50,
   "id": "0a1a6e1f",
   "metadata": {},
   "outputs": [
    {
     "data": {
      "text/plain": [
       "[4030.308008428866,\n",
       " 4103.998873945571,\n",
       " 4106.278268490103,\n",
       " 4169.066800329714,\n",
       " 4177.139335778978,\n",
       " 4178.876257756492,\n",
       " 4196.445200706328,\n",
       " 4204.302074139819,\n",
       " 4247.502137403129,\n",
       " 4324.48243864755,\n",
       " 4375.042407511912,\n",
       " 4406.95481174576,\n",
       " 4430.51076797022,\n",
       " 4434.740681133375,\n",
       " 4445.481069809114,\n",
       " 4452.491518375624,\n",
       " 4520.123806596047,\n",
       " 4533.964590826548,\n",
       " 4539.088309585886,\n",
       " 4544.668988942118,\n",
       " 4578.711073452204,\n",
       " 4593.389021928714,\n",
       " 4599.798655561068,\n",
       " 4602.122400778389,\n",
       " 4620.899239324063,\n",
       " 4633.256106235665,\n",
       " 4684.004396727481,\n",
       " 4688.979944600036,\n",
       " 4697.638429990268,\n",
       " 4703.905427252714,\n",
       " 4704.878191531725,\n",
       " 4718.820995798903,\n",
       " 4753.927777781776,\n",
       " 4762.120492992623,\n",
       " 4770.172208171858,\n",
       " 4807.103751282805,\n",
       " 4830.824371154857,\n",
       " 4835.931553283828,\n",
       " 4848.485014335245,\n",
       " 4857.412919857679,\n",
       " 4881.391865205429,\n",
       " 4899.706877327956,\n",
       " 4907.14075094942,\n",
       " 4935.07104540572,\n",
       " 4958.922076969682,\n",
       " 5035.1041144936935,\n",
       " 5052.410424837328,\n",
       " 5052.769410992954,\n",
       " 5059.187374936329,\n",
       " 5071.5772479299,\n",
       " 5095.432817948578,\n",
       " 5121.403391510226,\n",
       " 5129.337386988743,\n",
       " 5180.551522941,\n",
       " 5197.436649284527,\n",
       " 5202.556656950511,\n",
       " 5202.815712495506,\n",
       " 5215.642709788822,\n",
       " 5245.629782929501,\n",
       " 5258.160916956289,\n",
       " 5286.167732200008,\n",
       " 5306.346398291492,\n",
       " 5314.186906620533,\n",
       " 5353.189286789808,\n",
       " 5375.139265425872,\n",
       " 5409.750250492789,\n",
       " 5466.110839492959,\n",
       " 5466.265687035892,\n",
       " 5486.745507284554,\n",
       " 5487.630622852338,\n",
       " 5488.141902560633,\n",
       " 5488.776295885257,\n",
       " 5505.41866219266,\n",
       " 5531.33584538552,\n",
       " 5537.09526438226,\n",
       " 5547.830030737277,\n",
       " 5636.253153124967,\n",
       " 5666.735492198545,\n",
       " 5722.551786880455,\n",
       " 5780.316092350951,\n",
       " 5830.705169819625,\n",
       " 5894.633314119946,\n",
       " 5905.524822316431,\n",
       " 5913.0335781537015,\n",
       " 5944.789947031106,\n",
       " 6002.236437634401,\n",
       " 6112.644835144841,\n",
       " 6120.06769652624,\n",
       " 6225.520342086212,\n",
       " 6262.30274663413,\n",
       " 6316.574814475163,\n",
       " 6414.516026441386,\n",
       " 6601.197575315775,\n",
       " 6724.932981432227,\n",
       " 7211.007744598519]"
      ]
     },
     "execution_count": 50,
     "metadata": {},
     "output_type": "execute_result"
    }
   ],
   "source": [
    "sorted(rides.query('duration < 2')['distance'].unique())"
   ]
  },
  {
   "cell_type": "markdown",
   "id": "ca734a34",
   "metadata": {},
   "source": [
    "Поездки с длительностью 0.5 были совершены на большую дальность от 4000 до 7200 м. Это говорит о наличие какого то программного сбоя и разработчикам стоит обратить на это внимание. Компания теряет деньги на длительных поездках.\n",
    "\n",
    "Удалим эти данные т.к. они составляют 0,5% выборки."
   ]
  },
  {
   "cell_type": "code",
   "execution_count": 51,
   "id": "4d5e5fef",
   "metadata": {},
   "outputs": [],
   "source": [
    "index_drop_duration = rides.query('duration < 2').index"
   ]
  },
  {
   "cell_type": "code",
   "execution_count": 52,
   "id": "4595b232",
   "metadata": {},
   "outputs": [],
   "source": [
    "rides.drop(index_drop_duration, inplace=True)"
   ]
  },
  {
   "cell_type": "markdown",
   "id": "b95b397e",
   "metadata": {},
   "source": [
    "Распределение после удаления данных"
   ]
  },
  {
   "cell_type": "code",
   "execution_count": 53,
   "id": "a9a69eeb",
   "metadata": {},
   "outputs": [
    {
     "data": {
      "image/png": "[encoded data removed]",
      "text/plain": [
       "<Figure size 1080x576 with 1 Axes>"
      ]
     },
     "metadata": {
      "needs_background": "light"
     },
     "output_type": "display_data"
    }
   ],
   "source": [
    "rides['duration'].hist(bins=120, figsize=(15, 8))\n",
    "plt.title('Распределение поездок по длительности')\n",
    "plt.xlabel('Длительность (минуты)', fontsize=15)\n",
    "plt.ylabel('Кол-во поездок', fontsize=15)\n",
    "plt.grid(True)\n",
    "plt.xticks(range(0, 44, 2));"
   ]
  },
  {
   "cell_type": "code",
   "execution_count": 54,
   "id": "bd634916",
   "metadata": {},
   "outputs": [
    {
     "data": {
      "text/plain": [
       "count    17973.0\n",
       "mean        17.9\n",
       "std          6.0\n",
       "min          2.0\n",
       "25%         13.7\n",
       "50%         17.7\n",
       "75%         21.7\n",
       "max         40.8\n",
       "Name: duration, dtype: float64"
      ]
     },
     "execution_count": 54,
     "metadata": {},
     "output_type": "execute_result"
    }
   ],
   "source": [
    "round(rides['duration'].describe(), 1)"
   ]
  },
  {
   "cell_type": "markdown",
   "id": "4ef51331",
   "metadata": {},
   "source": [
    "## Шаг 4. Объединение данных"
   ]
  },
  {
   "cell_type": "markdown",
   "id": "61c2e12b",
   "metadata": {},
   "source": [
    "### Объединие данные о пользователях, поездках и подписках в один датафрейм"
   ]
  },
  {
   "cell_type": "code",
   "execution_count": 55,
   "id": "a0edc2fb",
   "metadata": {},
   "outputs": [],
   "source": [
    "data = users.copy()"
   ]
  },
  {
   "cell_type": "code",
   "execution_count": 56,
   "id": "683cc301",
   "metadata": {},
   "outputs": [],
   "source": [
    "data = data.merge(rides, on='user_id')"
   ]
  },
  {
   "cell_type": "code",
   "execution_count": 57,
   "id": "359af542",
   "metadata": {},
   "outputs": [
    {
     "data": {
      "text/html": [
       "<div>\n",
       "<style scoped>\n",
       "    .dataframe tbody tr th:only-of-type {\n",
       "        vertical-align: middle;\n",
       "    }\n",
       "\n",
       "    .dataframe tbody tr th {\n",
       "        vertical-align: top;\n",
       "    }\n",
       "\n",
       "    .dataframe thead th {\n",
       "        text-align: right;\n",
       "    }\n",
       "</style>\n",
       "<table border=\"1\" class=\"dataframe\">\n",
       "  <thead>\n",
       "    <tr style=\"text-align: right;\">\n",
       "      <th></th>\n",
       "      <th>user_id</th>\n",
       "      <th>name</th>\n",
       "      <th>age</th>\n",
       "      <th>city</th>\n",
       "      <th>subscription_type</th>\n",
       "      <th>distance</th>\n",
       "      <th>duration</th>\n",
       "      <th>date</th>\n",
       "      <th>month</th>\n",
       "    </tr>\n",
       "  </thead>\n",
       "  <tbody>\n",
       "    <tr>\n",
       "      <th>0</th>\n",
       "      <td>1</td>\n",
       "      <td>Кира</td>\n",
       "      <td>22</td>\n",
       "      <td>Тюмень</td>\n",
       "      <td>ultra</td>\n",
       "      <td>4409.919140</td>\n",
       "      <td>25.599769</td>\n",
       "      <td>2021-01-01</td>\n",
       "      <td>1</td>\n",
       "    </tr>\n",
       "    <tr>\n",
       "      <th>1</th>\n",
       "      <td>1</td>\n",
       "      <td>Кира</td>\n",
       "      <td>22</td>\n",
       "      <td>Тюмень</td>\n",
       "      <td>ultra</td>\n",
       "      <td>2617.592153</td>\n",
       "      <td>15.816871</td>\n",
       "      <td>2021-01-18</td>\n",
       "      <td>1</td>\n",
       "    </tr>\n",
       "    <tr>\n",
       "      <th>2</th>\n",
       "      <td>1</td>\n",
       "      <td>Кира</td>\n",
       "      <td>22</td>\n",
       "      <td>Тюмень</td>\n",
       "      <td>ultra</td>\n",
       "      <td>754.159807</td>\n",
       "      <td>6.232113</td>\n",
       "      <td>2021-04-20</td>\n",
       "      <td>4</td>\n",
       "    </tr>\n",
       "    <tr>\n",
       "      <th>3</th>\n",
       "      <td>1</td>\n",
       "      <td>Кира</td>\n",
       "      <td>22</td>\n",
       "      <td>Тюмень</td>\n",
       "      <td>ultra</td>\n",
       "      <td>2694.783254</td>\n",
       "      <td>18.511000</td>\n",
       "      <td>2021-08-11</td>\n",
       "      <td>8</td>\n",
       "    </tr>\n",
       "    <tr>\n",
       "      <th>4</th>\n",
       "      <td>1</td>\n",
       "      <td>Кира</td>\n",
       "      <td>22</td>\n",
       "      <td>Тюмень</td>\n",
       "      <td>ultra</td>\n",
       "      <td>4028.687306</td>\n",
       "      <td>26.265803</td>\n",
       "      <td>2021-08-28</td>\n",
       "      <td>8</td>\n",
       "    </tr>\n",
       "    <tr>\n",
       "      <th>5</th>\n",
       "      <td>1</td>\n",
       "      <td>Кира</td>\n",
       "      <td>22</td>\n",
       "      <td>Тюмень</td>\n",
       "      <td>ultra</td>\n",
       "      <td>2770.890808</td>\n",
       "      <td>16.650138</td>\n",
       "      <td>2021-10-09</td>\n",
       "      <td>10</td>\n",
       "    </tr>\n",
       "    <tr>\n",
       "      <th>6</th>\n",
       "      <td>1</td>\n",
       "      <td>Кира</td>\n",
       "      <td>22</td>\n",
       "      <td>Тюмень</td>\n",
       "      <td>ultra</td>\n",
       "      <td>3039.020292</td>\n",
       "      <td>14.927879</td>\n",
       "      <td>2021-10-19</td>\n",
       "      <td>10</td>\n",
       "    </tr>\n",
       "    <tr>\n",
       "      <th>7</th>\n",
       "      <td>1</td>\n",
       "      <td>Кира</td>\n",
       "      <td>22</td>\n",
       "      <td>Тюмень</td>\n",
       "      <td>ultra</td>\n",
       "      <td>2842.118050</td>\n",
       "      <td>23.117468</td>\n",
       "      <td>2021-11-06</td>\n",
       "      <td>11</td>\n",
       "    </tr>\n",
       "    <tr>\n",
       "      <th>8</th>\n",
       "      <td>1</td>\n",
       "      <td>Кира</td>\n",
       "      <td>22</td>\n",
       "      <td>Тюмень</td>\n",
       "      <td>ultra</td>\n",
       "      <td>3412.690668</td>\n",
       "      <td>15.238072</td>\n",
       "      <td>2021-11-14</td>\n",
       "      <td>11</td>\n",
       "    </tr>\n",
       "    <tr>\n",
       "      <th>9</th>\n",
       "      <td>1</td>\n",
       "      <td>Кира</td>\n",
       "      <td>22</td>\n",
       "      <td>Тюмень</td>\n",
       "      <td>ultra</td>\n",
       "      <td>748.690645</td>\n",
       "      <td>15.041884</td>\n",
       "      <td>2021-11-22</td>\n",
       "      <td>11</td>\n",
       "    </tr>\n",
       "  </tbody>\n",
       "</table>\n",
       "</div>"
      ],
      "text/plain": [
       "   user_id  name  age    city subscription_type     distance   duration  \\\n",
       "0        1  Кира   22  Тюмень             ultra  4409.919140  25.599769   \n",
       "1        1  Кира   22  Тюмень             ultra  2617.592153  15.816871   \n",
       "2        1  Кира   22  Тюмень             ultra   754.159807   6.232113   \n",
       "3        1  Кира   22  Тюмень             ultra  2694.783254  18.511000   \n",
       "4        1  Кира   22  Тюмень             ultra  4028.687306  26.265803   \n",
       "5        1  Кира   22  Тюмень             ultra  2770.890808  16.650138   \n",
       "6        1  Кира   22  Тюмень             ultra  3039.020292  14.927879   \n",
       "7        1  Кира   22  Тюмень             ultra  2842.118050  23.117468   \n",
       "8        1  Кира   22  Тюмень             ultra  3412.690668  15.238072   \n",
       "9        1  Кира   22  Тюмень             ultra   748.690645  15.041884   \n",
       "\n",
       "        date  month  \n",
       "0 2021-01-01      1  \n",
       "1 2021-01-18      1  \n",
       "2 2021-04-20      4  \n",
       "3 2021-08-11      8  \n",
       "4 2021-08-28      8  \n",
       "5 2021-10-09     10  \n",
       "6 2021-10-19     10  \n",
       "7 2021-11-06     11  \n",
       "8 2021-11-14     11  \n",
       "9 2021-11-22     11  "
      ]
     },
     "execution_count": 57,
     "metadata": {},
     "output_type": "execute_result"
    }
   ],
   "source": [
    "data.head(10)"
   ]
  },
  {
   "cell_type": "code",
   "execution_count": 58,
   "id": "c7fa67f8",
   "metadata": {},
   "outputs": [
    {
     "data": {
      "text/plain": [
       "(17973, 9)"
      ]
     },
     "execution_count": 58,
     "metadata": {},
     "output_type": "execute_result"
    }
   ],
   "source": [
    "data.shape"
   ]
  },
  {
   "cell_type": "code",
   "execution_count": 59,
   "id": "e30a6a43",
   "metadata": {
    "scrolled": true
   },
   "outputs": [
    {
     "data": {
      "text/plain": [
       "(17973, 5)"
      ]
     },
     "execution_count": 59,
     "metadata": {},
     "output_type": "execute_result"
    }
   ],
   "source": [
    "rides.shape"
   ]
  },
  {
   "cell_type": "code",
   "execution_count": 60,
   "id": "2895b1a6",
   "metadata": {},
   "outputs": [
    {
     "data": {
      "text/plain": [
       "user_id              0\n",
       "name                 0\n",
       "age                  0\n",
       "city                 0\n",
       "subscription_type    0\n",
       "distance             0\n",
       "duration             0\n",
       "date                 0\n",
       "month                0\n",
       "dtype: int64"
      ]
     },
     "execution_count": 60,
     "metadata": {},
     "output_type": "execute_result"
    }
   ],
   "source": [
    "data.isna().sum()"
   ]
  },
  {
   "cell_type": "code",
   "execution_count": 61,
   "id": "33b760ad",
   "metadata": {},
   "outputs": [
    {
     "data": {
      "text/plain": [
       "0"
      ]
     },
     "execution_count": 61,
     "metadata": {},
     "output_type": "execute_result"
    }
   ],
   "source": [
    "data.duplicated().sum()"
   ]
  },
  {
   "cell_type": "markdown",
   "id": "7fc6c12e",
   "metadata": {},
   "source": [
    "Количество строк в объеденном датафрейме соответствует максимальному из объединемых. Дубликатов и нулевых значений не обнаружено. Следовательно таблицы объеденены корректно."
   ]
  },
  {
   "cell_type": "code",
   "execution_count": 62,
   "id": "a6af9514",
   "metadata": {},
   "outputs": [],
   "source": [
    "data = data.merge(subscriptions, on='subscription_type')"
   ]
  },
  {
   "cell_type": "code",
   "execution_count": 63,
   "id": "89f76945",
   "metadata": {},
   "outputs": [
    {
     "data": {
      "text/html": [
       "<div>\n",
       "<style scoped>\n",
       "    .dataframe tbody tr th:only-of-type {\n",
       "        vertical-align: middle;\n",
       "    }\n",
       "\n",
       "    .dataframe tbody tr th {\n",
       "        vertical-align: top;\n",
       "    }\n",
       "\n",
       "    .dataframe thead th {\n",
       "        text-align: right;\n",
       "    }\n",
       "</style>\n",
       "<table border=\"1\" class=\"dataframe\">\n",
       "  <thead>\n",
       "    <tr style=\"text-align: right;\">\n",
       "      <th></th>\n",
       "      <th>user_id</th>\n",
       "      <th>name</th>\n",
       "      <th>age</th>\n",
       "      <th>city</th>\n",
       "      <th>subscription_type</th>\n",
       "      <th>distance</th>\n",
       "      <th>duration</th>\n",
       "      <th>date</th>\n",
       "      <th>month</th>\n",
       "      <th>minute_price</th>\n",
       "      <th>start_ride_price</th>\n",
       "      <th>subscription_fee</th>\n",
       "    </tr>\n",
       "  </thead>\n",
       "  <tbody>\n",
       "    <tr>\n",
       "      <th>0</th>\n",
       "      <td>1</td>\n",
       "      <td>Кира</td>\n",
       "      <td>22</td>\n",
       "      <td>Тюмень</td>\n",
       "      <td>ultra</td>\n",
       "      <td>4409.92</td>\n",
       "      <td>25.60</td>\n",
       "      <td>2021-01-01</td>\n",
       "      <td>1</td>\n",
       "      <td>6</td>\n",
       "      <td>0</td>\n",
       "      <td>199</td>\n",
       "    </tr>\n",
       "    <tr>\n",
       "      <th>1</th>\n",
       "      <td>1</td>\n",
       "      <td>Кира</td>\n",
       "      <td>22</td>\n",
       "      <td>Тюмень</td>\n",
       "      <td>ultra</td>\n",
       "      <td>2617.59</td>\n",
       "      <td>15.82</td>\n",
       "      <td>2021-01-18</td>\n",
       "      <td>1</td>\n",
       "      <td>6</td>\n",
       "      <td>0</td>\n",
       "      <td>199</td>\n",
       "    </tr>\n",
       "    <tr>\n",
       "      <th>2</th>\n",
       "      <td>1</td>\n",
       "      <td>Кира</td>\n",
       "      <td>22</td>\n",
       "      <td>Тюмень</td>\n",
       "      <td>ultra</td>\n",
       "      <td>754.16</td>\n",
       "      <td>6.23</td>\n",
       "      <td>2021-04-20</td>\n",
       "      <td>4</td>\n",
       "      <td>6</td>\n",
       "      <td>0</td>\n",
       "      <td>199</td>\n",
       "    </tr>\n",
       "    <tr>\n",
       "      <th>3</th>\n",
       "      <td>1</td>\n",
       "      <td>Кира</td>\n",
       "      <td>22</td>\n",
       "      <td>Тюмень</td>\n",
       "      <td>ultra</td>\n",
       "      <td>2694.78</td>\n",
       "      <td>18.51</td>\n",
       "      <td>2021-08-11</td>\n",
       "      <td>8</td>\n",
       "      <td>6</td>\n",
       "      <td>0</td>\n",
       "      <td>199</td>\n",
       "    </tr>\n",
       "    <tr>\n",
       "      <th>4</th>\n",
       "      <td>1</td>\n",
       "      <td>Кира</td>\n",
       "      <td>22</td>\n",
       "      <td>Тюмень</td>\n",
       "      <td>ultra</td>\n",
       "      <td>4028.69</td>\n",
       "      <td>26.27</td>\n",
       "      <td>2021-08-28</td>\n",
       "      <td>8</td>\n",
       "      <td>6</td>\n",
       "      <td>0</td>\n",
       "      <td>199</td>\n",
       "    </tr>\n",
       "    <tr>\n",
       "      <th>5</th>\n",
       "      <td>1</td>\n",
       "      <td>Кира</td>\n",
       "      <td>22</td>\n",
       "      <td>Тюмень</td>\n",
       "      <td>ultra</td>\n",
       "      <td>2770.89</td>\n",
       "      <td>16.65</td>\n",
       "      <td>2021-10-09</td>\n",
       "      <td>10</td>\n",
       "      <td>6</td>\n",
       "      <td>0</td>\n",
       "      <td>199</td>\n",
       "    </tr>\n",
       "    <tr>\n",
       "      <th>6</th>\n",
       "      <td>1</td>\n",
       "      <td>Кира</td>\n",
       "      <td>22</td>\n",
       "      <td>Тюмень</td>\n",
       "      <td>ultra</td>\n",
       "      <td>3039.02</td>\n",
       "      <td>14.93</td>\n",
       "      <td>2021-10-19</td>\n",
       "      <td>10</td>\n",
       "      <td>6</td>\n",
       "      <td>0</td>\n",
       "      <td>199</td>\n",
       "    </tr>\n",
       "    <tr>\n",
       "      <th>7</th>\n",
       "      <td>1</td>\n",
       "      <td>Кира</td>\n",
       "      <td>22</td>\n",
       "      <td>Тюмень</td>\n",
       "      <td>ultra</td>\n",
       "      <td>2842.12</td>\n",
       "      <td>23.12</td>\n",
       "      <td>2021-11-06</td>\n",
       "      <td>11</td>\n",
       "      <td>6</td>\n",
       "      <td>0</td>\n",
       "      <td>199</td>\n",
       "    </tr>\n",
       "    <tr>\n",
       "      <th>8</th>\n",
       "      <td>1</td>\n",
       "      <td>Кира</td>\n",
       "      <td>22</td>\n",
       "      <td>Тюмень</td>\n",
       "      <td>ultra</td>\n",
       "      <td>3412.69</td>\n",
       "      <td>15.24</td>\n",
       "      <td>2021-11-14</td>\n",
       "      <td>11</td>\n",
       "      <td>6</td>\n",
       "      <td>0</td>\n",
       "      <td>199</td>\n",
       "    </tr>\n",
       "    <tr>\n",
       "      <th>9</th>\n",
       "      <td>1</td>\n",
       "      <td>Кира</td>\n",
       "      <td>22</td>\n",
       "      <td>Тюмень</td>\n",
       "      <td>ultra</td>\n",
       "      <td>748.69</td>\n",
       "      <td>15.04</td>\n",
       "      <td>2021-11-22</td>\n",
       "      <td>11</td>\n",
       "      <td>6</td>\n",
       "      <td>0</td>\n",
       "      <td>199</td>\n",
       "    </tr>\n",
       "  </tbody>\n",
       "</table>\n",
       "</div>"
      ],
      "text/plain": [
       "   user_id  name  age    city subscription_type  distance  duration  \\\n",
       "0        1  Кира   22  Тюмень             ultra   4409.92     25.60   \n",
       "1        1  Кира   22  Тюмень             ultra   2617.59     15.82   \n",
       "2        1  Кира   22  Тюмень             ultra    754.16      6.23   \n",
       "3        1  Кира   22  Тюмень             ultra   2694.78     18.51   \n",
       "4        1  Кира   22  Тюмень             ultra   4028.69     26.27   \n",
       "5        1  Кира   22  Тюмень             ultra   2770.89     16.65   \n",
       "6        1  Кира   22  Тюмень             ultra   3039.02     14.93   \n",
       "7        1  Кира   22  Тюмень             ultra   2842.12     23.12   \n",
       "8        1  Кира   22  Тюмень             ultra   3412.69     15.24   \n",
       "9        1  Кира   22  Тюмень             ultra    748.69     15.04   \n",
       "\n",
       "        date  month  minute_price  start_ride_price  subscription_fee  \n",
       "0 2021-01-01      1             6                 0               199  \n",
       "1 2021-01-18      1             6                 0               199  \n",
       "2 2021-04-20      4             6                 0               199  \n",
       "3 2021-08-11      8             6                 0               199  \n",
       "4 2021-08-28      8             6                 0               199  \n",
       "5 2021-10-09     10             6                 0               199  \n",
       "6 2021-10-19     10             6                 0               199  \n",
       "7 2021-11-06     11             6                 0               199  \n",
       "8 2021-11-14     11             6                 0               199  \n",
       "9 2021-11-22     11             6                 0               199  "
      ]
     },
     "execution_count": 63,
     "metadata": {},
     "output_type": "execute_result"
    }
   ],
   "source": [
    "round(data.head(10), 2)"
   ]
  },
  {
   "cell_type": "code",
   "execution_count": 64,
   "id": "655d60e5",
   "metadata": {},
   "outputs": [
    {
     "data": {
      "text/plain": [
       "(17973, 12)"
      ]
     },
     "execution_count": 64,
     "metadata": {},
     "output_type": "execute_result"
    }
   ],
   "source": [
    "data.shape"
   ]
  },
  {
   "cell_type": "code",
   "execution_count": 65,
   "id": "3787e0e4",
   "metadata": {},
   "outputs": [
    {
     "data": {
      "text/plain": [
       "0"
      ]
     },
     "execution_count": 65,
     "metadata": {},
     "output_type": "execute_result"
    }
   ],
   "source": [
    "data.duplicated().sum()"
   ]
  },
  {
   "cell_type": "code",
   "execution_count": 66,
   "id": "b4888662",
   "metadata": {},
   "outputs": [
    {
     "data": {
      "text/plain": [
       "user_id              0\n",
       "name                 0\n",
       "age                  0\n",
       "city                 0\n",
       "subscription_type    0\n",
       "distance             0\n",
       "duration             0\n",
       "date                 0\n",
       "month                0\n",
       "minute_price         0\n",
       "start_ride_price     0\n",
       "subscription_fee     0\n",
       "dtype: int64"
      ]
     },
     "execution_count": 66,
     "metadata": {},
     "output_type": "execute_result"
    }
   ],
   "source": [
    "data.isna().sum()"
   ]
  },
  {
   "cell_type": "markdown",
   "id": "6d460490",
   "metadata": {},
   "source": [
    "Количество строк в объеденном датафрейме соответствует максимальному из объединемых. Дубликатов и нулевых значений не обнаружено. Следовательно таблицы объеденены корректно."
   ]
  },
  {
   "cell_type": "markdown",
   "id": "fde145cc",
   "metadata": {},
   "source": [
    "### Создание датафреймов из датафрейма, созданного на этапе 4.1"
   ]
  },
  {
   "cell_type": "markdown",
   "id": "1428cf85",
   "metadata": {},
   "source": [
    "**Создание датафрейма c данными о пользователях без подписки**"
   ]
  },
  {
   "cell_type": "code",
   "execution_count": 67,
   "id": "197815a4",
   "metadata": {},
   "outputs": [],
   "source": [
    "data_free = data.query('subscription_type == \"free\"')"
   ]
  },
  {
   "cell_type": "code",
   "execution_count": 68,
   "id": "f7e3fe97",
   "metadata": {},
   "outputs": [
    {
     "data": {
      "text/plain": [
       "(11473, 12)"
      ]
     },
     "execution_count": 68,
     "metadata": {},
     "output_type": "execute_result"
    }
   ],
   "source": [
    "data_free.shape"
   ]
  },
  {
   "cell_type": "code",
   "execution_count": 69,
   "id": "162d239b",
   "metadata": {},
   "outputs": [
    {
     "data": {
      "text/html": [
       "<div>\n",
       "<style scoped>\n",
       "    .dataframe tbody tr th:only-of-type {\n",
       "        vertical-align: middle;\n",
       "    }\n",
       "\n",
       "    .dataframe tbody tr th {\n",
       "        vertical-align: top;\n",
       "    }\n",
       "\n",
       "    .dataframe thead th {\n",
       "        text-align: right;\n",
       "    }\n",
       "</style>\n",
       "<table border=\"1\" class=\"dataframe\">\n",
       "  <thead>\n",
       "    <tr style=\"text-align: right;\">\n",
       "      <th></th>\n",
       "      <th>user_id</th>\n",
       "      <th>name</th>\n",
       "      <th>age</th>\n",
       "      <th>city</th>\n",
       "      <th>subscription_type</th>\n",
       "      <th>distance</th>\n",
       "      <th>duration</th>\n",
       "      <th>date</th>\n",
       "      <th>month</th>\n",
       "      <th>minute_price</th>\n",
       "      <th>start_ride_price</th>\n",
       "      <th>subscription_fee</th>\n",
       "    </tr>\n",
       "  </thead>\n",
       "  <tbody>\n",
       "    <tr>\n",
       "      <th>6500</th>\n",
       "      <td>700</td>\n",
       "      <td>Айдар</td>\n",
       "      <td>22</td>\n",
       "      <td>Омск</td>\n",
       "      <td>free</td>\n",
       "      <td>2515.69</td>\n",
       "      <td>14.94</td>\n",
       "      <td>2021-01-02</td>\n",
       "      <td>1</td>\n",
       "      <td>8</td>\n",
       "      <td>50</td>\n",
       "      <td>0</td>\n",
       "    </tr>\n",
       "    <tr>\n",
       "      <th>6501</th>\n",
       "      <td>700</td>\n",
       "      <td>Айдар</td>\n",
       "      <td>22</td>\n",
       "      <td>Омск</td>\n",
       "      <td>free</td>\n",
       "      <td>846.93</td>\n",
       "      <td>16.23</td>\n",
       "      <td>2021-02-01</td>\n",
       "      <td>2</td>\n",
       "      <td>8</td>\n",
       "      <td>50</td>\n",
       "      <td>0</td>\n",
       "    </tr>\n",
       "    <tr>\n",
       "      <th>6502</th>\n",
       "      <td>700</td>\n",
       "      <td>Айдар</td>\n",
       "      <td>22</td>\n",
       "      <td>Омск</td>\n",
       "      <td>free</td>\n",
       "      <td>4004.43</td>\n",
       "      <td>20.02</td>\n",
       "      <td>2021-02-04</td>\n",
       "      <td>2</td>\n",
       "      <td>8</td>\n",
       "      <td>50</td>\n",
       "      <td>0</td>\n",
       "    </tr>\n",
       "    <tr>\n",
       "      <th>6503</th>\n",
       "      <td>700</td>\n",
       "      <td>Айдар</td>\n",
       "      <td>22</td>\n",
       "      <td>Омск</td>\n",
       "      <td>free</td>\n",
       "      <td>1205.91</td>\n",
       "      <td>9.78</td>\n",
       "      <td>2021-02-10</td>\n",
       "      <td>2</td>\n",
       "      <td>8</td>\n",
       "      <td>50</td>\n",
       "      <td>0</td>\n",
       "    </tr>\n",
       "    <tr>\n",
       "      <th>6504</th>\n",
       "      <td>700</td>\n",
       "      <td>Айдар</td>\n",
       "      <td>22</td>\n",
       "      <td>Омск</td>\n",
       "      <td>free</td>\n",
       "      <td>3047.38</td>\n",
       "      <td>17.43</td>\n",
       "      <td>2021-02-14</td>\n",
       "      <td>2</td>\n",
       "      <td>8</td>\n",
       "      <td>50</td>\n",
       "      <td>0</td>\n",
       "    </tr>\n",
       "  </tbody>\n",
       "</table>\n",
       "</div>"
      ],
      "text/plain": [
       "      user_id   name  age  city subscription_type  distance  duration  \\\n",
       "6500      700  Айдар   22  Омск              free   2515.69     14.94   \n",
       "6501      700  Айдар   22  Омск              free    846.93     16.23   \n",
       "6502      700  Айдар   22  Омск              free   4004.43     20.02   \n",
       "6503      700  Айдар   22  Омск              free   1205.91      9.78   \n",
       "6504      700  Айдар   22  Омск              free   3047.38     17.43   \n",
       "\n",
       "           date  month  minute_price  start_ride_price  subscription_fee  \n",
       "6500 2021-01-02      1             8                50                 0  \n",
       "6501 2021-02-01      2             8                50                 0  \n",
       "6502 2021-02-04      2             8                50                 0  \n",
       "6503 2021-02-10      2             8                50                 0  \n",
       "6504 2021-02-14      2             8                50                 0  "
      ]
     },
     "execution_count": 69,
     "metadata": {},
     "output_type": "execute_result"
    }
   ],
   "source": [
    "round(data_free.head(), 2)"
   ]
  },
  {
   "cell_type": "markdown",
   "id": "a2bd1abc",
   "metadata": {},
   "source": [
    "**Создание датафрейма c данными о пользователях с подпиской**"
   ]
  },
  {
   "cell_type": "code",
   "execution_count": 70,
   "id": "ba01d347",
   "metadata": {},
   "outputs": [],
   "source": [
    "data_ultra = data.query('subscription_type == \"ultra\"')"
   ]
  },
  {
   "cell_type": "code",
   "execution_count": 71,
   "id": "62b073b0",
   "metadata": {},
   "outputs": [
    {
     "data": {
      "text/plain": [
       "(6500, 12)"
      ]
     },
     "execution_count": 71,
     "metadata": {},
     "output_type": "execute_result"
    }
   ],
   "source": [
    "data_ultra.shape"
   ]
  },
  {
   "cell_type": "code",
   "execution_count": 72,
   "id": "4344f96b",
   "metadata": {},
   "outputs": [
    {
     "data": {
      "text/html": [
       "<div>\n",
       "<style scoped>\n",
       "    .dataframe tbody tr th:only-of-type {\n",
       "        vertical-align: middle;\n",
       "    }\n",
       "\n",
       "    .dataframe tbody tr th {\n",
       "        vertical-align: top;\n",
       "    }\n",
       "\n",
       "    .dataframe thead th {\n",
       "        text-align: right;\n",
       "    }\n",
       "</style>\n",
       "<table border=\"1\" class=\"dataframe\">\n",
       "  <thead>\n",
       "    <tr style=\"text-align: right;\">\n",
       "      <th></th>\n",
       "      <th>user_id</th>\n",
       "      <th>name</th>\n",
       "      <th>age</th>\n",
       "      <th>city</th>\n",
       "      <th>subscription_type</th>\n",
       "      <th>distance</th>\n",
       "      <th>duration</th>\n",
       "      <th>date</th>\n",
       "      <th>month</th>\n",
       "      <th>minute_price</th>\n",
       "      <th>start_ride_price</th>\n",
       "      <th>subscription_fee</th>\n",
       "    </tr>\n",
       "  </thead>\n",
       "  <tbody>\n",
       "    <tr>\n",
       "      <th>0</th>\n",
       "      <td>1</td>\n",
       "      <td>Кира</td>\n",
       "      <td>22</td>\n",
       "      <td>Тюмень</td>\n",
       "      <td>ultra</td>\n",
       "      <td>4409.92</td>\n",
       "      <td>25.60</td>\n",
       "      <td>2021-01-01</td>\n",
       "      <td>1</td>\n",
       "      <td>6</td>\n",
       "      <td>0</td>\n",
       "      <td>199</td>\n",
       "    </tr>\n",
       "    <tr>\n",
       "      <th>1</th>\n",
       "      <td>1</td>\n",
       "      <td>Кира</td>\n",
       "      <td>22</td>\n",
       "      <td>Тюмень</td>\n",
       "      <td>ultra</td>\n",
       "      <td>2617.59</td>\n",
       "      <td>15.82</td>\n",
       "      <td>2021-01-18</td>\n",
       "      <td>1</td>\n",
       "      <td>6</td>\n",
       "      <td>0</td>\n",
       "      <td>199</td>\n",
       "    </tr>\n",
       "    <tr>\n",
       "      <th>2</th>\n",
       "      <td>1</td>\n",
       "      <td>Кира</td>\n",
       "      <td>22</td>\n",
       "      <td>Тюмень</td>\n",
       "      <td>ultra</td>\n",
       "      <td>754.16</td>\n",
       "      <td>6.23</td>\n",
       "      <td>2021-04-20</td>\n",
       "      <td>4</td>\n",
       "      <td>6</td>\n",
       "      <td>0</td>\n",
       "      <td>199</td>\n",
       "    </tr>\n",
       "    <tr>\n",
       "      <th>3</th>\n",
       "      <td>1</td>\n",
       "      <td>Кира</td>\n",
       "      <td>22</td>\n",
       "      <td>Тюмень</td>\n",
       "      <td>ultra</td>\n",
       "      <td>2694.78</td>\n",
       "      <td>18.51</td>\n",
       "      <td>2021-08-11</td>\n",
       "      <td>8</td>\n",
       "      <td>6</td>\n",
       "      <td>0</td>\n",
       "      <td>199</td>\n",
       "    </tr>\n",
       "    <tr>\n",
       "      <th>4</th>\n",
       "      <td>1</td>\n",
       "      <td>Кира</td>\n",
       "      <td>22</td>\n",
       "      <td>Тюмень</td>\n",
       "      <td>ultra</td>\n",
       "      <td>4028.69</td>\n",
       "      <td>26.27</td>\n",
       "      <td>2021-08-28</td>\n",
       "      <td>8</td>\n",
       "      <td>6</td>\n",
       "      <td>0</td>\n",
       "      <td>199</td>\n",
       "    </tr>\n",
       "  </tbody>\n",
       "</table>\n",
       "</div>"
      ],
      "text/plain": [
       "   user_id  name  age    city subscription_type  distance  duration  \\\n",
       "0        1  Кира   22  Тюмень             ultra   4409.92     25.60   \n",
       "1        1  Кира   22  Тюмень             ultra   2617.59     15.82   \n",
       "2        1  Кира   22  Тюмень             ultra    754.16      6.23   \n",
       "3        1  Кира   22  Тюмень             ultra   2694.78     18.51   \n",
       "4        1  Кира   22  Тюмень             ultra   4028.69     26.27   \n",
       "\n",
       "        date  month  minute_price  start_ride_price  subscription_fee  \n",
       "0 2021-01-01      1             6                 0               199  \n",
       "1 2021-01-18      1             6                 0               199  \n",
       "2 2021-04-20      4             6                 0               199  \n",
       "3 2021-08-11      8             6                 0               199  \n",
       "4 2021-08-28      8             6                 0               199  "
      ]
     },
     "execution_count": 72,
     "metadata": {},
     "output_type": "execute_result"
    }
   ],
   "source": [
    "round(data_ultra.head(), 2)"
   ]
  },
  {
   "cell_type": "markdown",
   "id": "e965414a",
   "metadata": {},
   "source": [
    "**Визуализация информации о расстоянии и времени поездок для пользователей обеих категорий**"
   ]
  },
  {
   "cell_type": "code",
   "execution_count": 73,
   "id": "01b51dc3",
   "metadata": {},
   "outputs": [
    {
     "data": {
      "image/png": "[encoded data removed]",
      "text/plain": [
       "<Figure size 1080x576 with 1 Axes>"
      ]
     },
     "metadata": {
      "needs_background": "light"
     },
     "output_type": "display_data"
    }
   ],
   "source": [
    "data_free['distance'].hist(bins=100, figsize=(15, 8))\n",
    "plt.title('Распределение поездок без подписки по расстоянию')\n",
    "plt.xlabel('Расстояние (м)', fontsize=15)\n",
    "plt.ylabel('Кол-во поездок', fontsize=15)\n",
    "plt.grid(True)\n",
    "plt.yticks(range(0, 350, 50))\n",
    "plt.xticks(range(0, 7500, 500));"
   ]
  },
  {
   "cell_type": "code",
   "execution_count": 74,
   "id": "71c711e7",
   "metadata": {},
   "outputs": [
    {
     "data": {
      "text/plain": [
       "count    11473.0\n",
       "mean      3028.0\n",
       "std       1236.0\n",
       "min          1.0\n",
       "25%       2361.0\n",
       "50%       3102.0\n",
       "75%       3884.0\n",
       "max       7066.0\n",
       "Name: distance, dtype: float64"
      ]
     },
     "execution_count": 74,
     "metadata": {},
     "output_type": "execute_result"
    }
   ],
   "source": [
    "round(data_free['distance'].describe())"
   ]
  },
  {
   "cell_type": "markdown",
   "id": "4532b7cb",
   "metadata": {},
   "source": [
    "Распределение поездок по дистанции схоже с распределением всех поездок. Пик смещен ближе к значению 2500 м. Также присутствует локальный пик около 700 м.\n",
    "\n",
    "Среднее значение - 3028, медиана - 3102.\n",
    "50% поездок находятся в диапазоне от 2361 до 3884 м."
   ]
  },
  {
   "cell_type": "code",
   "execution_count": 75,
   "id": "4974a4fc",
   "metadata": {},
   "outputs": [
    {
     "data": {
      "image/png": "[encoded data removed]",
      "text/plain": [
       "<Figure size 1080x576 with 1 Axes>"
      ]
     },
     "metadata": {
      "needs_background": "light"
     },
     "output_type": "display_data"
    }
   ],
   "source": [
    "data_free['duration'].hist(bins=100, figsize=(15, 8))\n",
    "plt.title('Распределение поездок без подписки по длительности')\n",
    "plt.xlabel('Длительность (мин.)', fontsize=15)\n",
    "plt.ylabel('Кол-во поездок', fontsize=15)\n",
    "plt.grid(True)\n",
    "plt.yticks(range(0, 300, 25))\n",
    "plt.xticks(range(0, 40, 2));"
   ]
  },
  {
   "cell_type": "code",
   "execution_count": 76,
   "id": "8217ff18",
   "metadata": {},
   "outputs": [
    {
     "data": {
      "text/plain": [
       "count    11473.0\n",
       "mean        17.5\n",
       "std          6.2\n",
       "min          2.0\n",
       "25%         13.1\n",
       "50%         17.4\n",
       "75%         21.6\n",
       "max         34.9\n",
       "Name: duration, dtype: float64"
      ]
     },
     "execution_count": 76,
     "metadata": {},
     "output_type": "execute_result"
    }
   ],
   "source": [
    "round(data_free['duration'].describe(), 1)"
   ]
  },
  {
   "cell_type": "markdown",
   "id": "7e9c889c",
   "metadata": {},
   "source": [
    "Распределение поездок клиентов без подписки по длительности схоже с распределением поездок по длительности всех клиентов.\n",
    "\n",
    "Среднее значение - 17.5 мин., медиана - 17.4 мин.\n",
    "50% поездок по длительности находятся в диапазоне от 13.1 до 21.6 мин."
   ]
  },
  {
   "cell_type": "code",
   "execution_count": 77,
   "id": "91d33ce2",
   "metadata": {},
   "outputs": [
    {
     "data": {
      "image/png": "[encoded data removed]",
      "text/plain": [
       "<Figure size 1080x576 with 1 Axes>"
      ]
     },
     "metadata": {
      "needs_background": "light"
     },
     "output_type": "display_data"
    }
   ],
   "source": [
    "data_ultra['distance'].hist(bins=100, figsize=(15, 8))\n",
    "plt.title('Распределение поездок с подпиской по расстоянию')\n",
    "plt.xlabel('Расстояние (м)', fontsize=15)\n",
    "plt.ylabel('Кол-во поездок', fontsize=15)\n",
    "plt.grid(True)\n",
    "plt.yticks(range(0, 300, 25))\n",
    "plt.xticks(range(0, 5500, 500));"
   ]
  },
  {
   "cell_type": "code",
   "execution_count": 78,
   "id": "2ecab4d3",
   "metadata": {},
   "outputs": [
    {
     "data": {
      "text/plain": [
       "count    6500.0\n",
       "mean     3115.0\n",
       "std       837.0\n",
       "min       244.0\n",
       "25%      2785.0\n",
       "50%      3149.0\n",
       "75%      3561.0\n",
       "max      5700.0\n",
       "Name: distance, dtype: float64"
      ]
     },
     "execution_count": 78,
     "metadata": {},
     "output_type": "execute_result"
    }
   ],
   "source": [
    "round(data_ultra['distance'].describe())"
   ]
  },
  {
   "cell_type": "markdown",
   "id": "0d048da8",
   "metadata": {},
   "source": [
    "Поездки с подпиской по расстоянию распределены с меньшим стандартным отклонением по сравнению с поездками без подписки - 837 против 1236. Данные более плотно сгруппированы около 3000 м с пиком около 3200 м. Один локальный пик смещен ближе к 1000 м, также присутствует локальный пик около 4000 м.\n",
    "\n",
    "Среднее значение - 3115 м., медиана - 3149 м.\n",
    "50% поездок находятся в диапазоне от 2785 до 3561 м."
   ]
  },
  {
   "cell_type": "code",
   "execution_count": 79,
   "id": "e3b19b75",
   "metadata": {},
   "outputs": [
    {
     "data": {
      "image/png": "[encoded data removed]",
      "text/plain": [
       "<Figure size 1080x576 with 1 Axes>"
      ]
     },
     "metadata": {
      "needs_background": "light"
     },
     "output_type": "display_data"
    }
   ],
   "source": [
    "data_ultra['duration'].hist(bins=100, figsize=(15, 8))\n",
    "plt.title('Распределение поездок с подпиской по длительности')\n",
    "plt.xlabel('Длительность (мин.)', fontsize=15)\n",
    "plt.ylabel('Кол-во поездок', fontsize=15)\n",
    "plt.grid(True)\n",
    "plt.yticks(range(0, 200, 25))\n",
    "plt.xticks(range(0, 40, 2));"
   ]
  },
  {
   "cell_type": "code",
   "execution_count": 80,
   "id": "1c9c7a65",
   "metadata": {},
   "outputs": [
    {
     "data": {
      "text/plain": [
       "count    6500.0\n",
       "mean       18.5\n",
       "std         5.6\n",
       "min         3.8\n",
       "25%        14.5\n",
       "50%        18.2\n",
       "75%        21.9\n",
       "max        40.8\n",
       "Name: duration, dtype: float64"
      ]
     },
     "execution_count": 80,
     "metadata": {},
     "output_type": "execute_result"
    }
   ],
   "source": [
    "round(data_ultra['duration'].describe(), 1)"
   ]
  },
  {
   "cell_type": "markdown",
   "id": "6ea364fb",
   "metadata": {},
   "source": [
    "Распределение поездок без подписки по длительности схоже с распределением поездок без подписки.\n",
    "\n",
    "Среднее значение - 18.5, медиана - 18.2 мин.\n",
    "50% поездок по длительности находятся в диапазоне от 14.5 до 21.9 мин."
   ]
  },
  {
   "cell_type": "code",
   "execution_count": 81,
   "id": "ede75033",
   "metadata": {},
   "outputs": [
    {
     "data": {
      "image/png": "[encoded data removed]",
      "text/plain": [
       "<Figure size 1080x576 with 1 Axes>"
      ]
     },
     "metadata": {
      "needs_background": "light"
     },
     "output_type": "display_data"
    }
   ],
   "source": [
    "data_free['distance'].hist(bins=100, figsize=(15, 8))\n",
    "data_ultra['distance'].hist(bins=100, figsize=(15, 8))\n",
    "plt.title('Распределение поездок с подпиской и без по дальности')\n",
    "plt.xlabel('Расстояние (м)', fontsize=15)\n",
    "plt.ylabel('Кол-во поездок', fontsize=15)\n",
    "plt.legend(['Поездки без подписки', 'Поездки с подпиской'])\n",
    "plt.grid(True)\n",
    "plt.yticks(range(0, 350, 25))\n",
    "plt.xticks(range(0, 7000, 500));"
   ]
  },
  {
   "cell_type": "code",
   "execution_count": 82,
   "id": "11bca8c3",
   "metadata": {},
   "outputs": [
    {
     "data": {
      "image/png": "[encoded data removed]",
      "text/plain": [
       "<Figure size 1080x576 with 1 Axes>"
      ]
     },
     "metadata": {
      "needs_background": "light"
     },
     "output_type": "display_data"
    }
   ],
   "source": [
    "data_free['duration'].hist(bins=100, figsize=(15, 8))\n",
    "data_ultra['duration'].hist(bins=100, figsize=(15, 8))\n",
    "plt.title('Распределение поездок с подпиской по длительности')\n",
    "plt.xlabel('Длительность (мин.)', fontsize=15)\n",
    "plt.ylabel('Кол-во поездок', fontsize=15)\n",
    "plt.grid(True)\n",
    "plt.yticks(range(0, 300, 25))\n",
    "plt.xticks(range(0, 40, 2))\n",
    "plt.legend(['Поездки без подписки', 'Поездки с подпиской']);"
   ]
  },
  {
   "cell_type": "markdown",
   "id": "402d620f",
   "metadata": {},
   "source": [
    "## Шаг 5. Подсчёт выручки"
   ]
  },
  {
   "cell_type": "markdown",
   "id": "ce447329",
   "metadata": {},
   "source": [
    "### Создайте датафрейм с агрегированными данными о поездках "
   ]
  },
  {
   "cell_type": "code",
   "execution_count": 83,
   "id": "870188c5",
   "metadata": {},
   "outputs": [
    {
     "data": {
      "text/html": [
       "<div>\n",
       "<style scoped>\n",
       "    .dataframe tbody tr th:only-of-type {\n",
       "        vertical-align: middle;\n",
       "    }\n",
       "\n",
       "    .dataframe tbody tr th {\n",
       "        vertical-align: top;\n",
       "    }\n",
       "\n",
       "    .dataframe thead th {\n",
       "        text-align: right;\n",
       "    }\n",
       "</style>\n",
       "<table border=\"1\" class=\"dataframe\">\n",
       "  <thead>\n",
       "    <tr style=\"text-align: right;\">\n",
       "      <th></th>\n",
       "      <th>user_id</th>\n",
       "      <th>name</th>\n",
       "      <th>age</th>\n",
       "      <th>city</th>\n",
       "      <th>subscription_type</th>\n",
       "      <th>distance</th>\n",
       "      <th>duration</th>\n",
       "      <th>date</th>\n",
       "      <th>month</th>\n",
       "      <th>minute_price</th>\n",
       "      <th>start_ride_price</th>\n",
       "      <th>subscription_fee</th>\n",
       "    </tr>\n",
       "  </thead>\n",
       "  <tbody>\n",
       "    <tr>\n",
       "      <th>0</th>\n",
       "      <td>1</td>\n",
       "      <td>Кира</td>\n",
       "      <td>22</td>\n",
       "      <td>Тюмень</td>\n",
       "      <td>ultra</td>\n",
       "      <td>4409.919140</td>\n",
       "      <td>25.599769</td>\n",
       "      <td>2021-01-01</td>\n",
       "      <td>1</td>\n",
       "      <td>6</td>\n",
       "      <td>0</td>\n",
       "      <td>199</td>\n",
       "    </tr>\n",
       "    <tr>\n",
       "      <th>1</th>\n",
       "      <td>1</td>\n",
       "      <td>Кира</td>\n",
       "      <td>22</td>\n",
       "      <td>Тюмень</td>\n",
       "      <td>ultra</td>\n",
       "      <td>2617.592153</td>\n",
       "      <td>15.816871</td>\n",
       "      <td>2021-01-18</td>\n",
       "      <td>1</td>\n",
       "      <td>6</td>\n",
       "      <td>0</td>\n",
       "      <td>199</td>\n",
       "    </tr>\n",
       "    <tr>\n",
       "      <th>2</th>\n",
       "      <td>1</td>\n",
       "      <td>Кира</td>\n",
       "      <td>22</td>\n",
       "      <td>Тюмень</td>\n",
       "      <td>ultra</td>\n",
       "      <td>754.159807</td>\n",
       "      <td>6.232113</td>\n",
       "      <td>2021-04-20</td>\n",
       "      <td>4</td>\n",
       "      <td>6</td>\n",
       "      <td>0</td>\n",
       "      <td>199</td>\n",
       "    </tr>\n",
       "    <tr>\n",
       "      <th>3</th>\n",
       "      <td>1</td>\n",
       "      <td>Кира</td>\n",
       "      <td>22</td>\n",
       "      <td>Тюмень</td>\n",
       "      <td>ultra</td>\n",
       "      <td>2694.783254</td>\n",
       "      <td>18.511000</td>\n",
       "      <td>2021-08-11</td>\n",
       "      <td>8</td>\n",
       "      <td>6</td>\n",
       "      <td>0</td>\n",
       "      <td>199</td>\n",
       "    </tr>\n",
       "    <tr>\n",
       "      <th>4</th>\n",
       "      <td>1</td>\n",
       "      <td>Кира</td>\n",
       "      <td>22</td>\n",
       "      <td>Тюмень</td>\n",
       "      <td>ultra</td>\n",
       "      <td>4028.687306</td>\n",
       "      <td>26.265803</td>\n",
       "      <td>2021-08-28</td>\n",
       "      <td>8</td>\n",
       "      <td>6</td>\n",
       "      <td>0</td>\n",
       "      <td>199</td>\n",
       "    </tr>\n",
       "  </tbody>\n",
       "</table>\n",
       "</div>"
      ],
      "text/plain": [
       "   user_id  name  age    city subscription_type     distance   duration  \\\n",
       "0        1  Кира   22  Тюмень             ultra  4409.919140  25.599769   \n",
       "1        1  Кира   22  Тюмень             ultra  2617.592153  15.816871   \n",
       "2        1  Кира   22  Тюмень             ultra   754.159807   6.232113   \n",
       "3        1  Кира   22  Тюмень             ultra  2694.783254  18.511000   \n",
       "4        1  Кира   22  Тюмень             ultra  4028.687306  26.265803   \n",
       "\n",
       "        date  month  minute_price  start_ride_price  subscription_fee  \n",
       "0 2021-01-01      1             6                 0               199  \n",
       "1 2021-01-18      1             6                 0               199  \n",
       "2 2021-04-20      4             6                 0               199  \n",
       "3 2021-08-11      8             6                 0               199  \n",
       "4 2021-08-28      8             6                 0               199  "
      ]
     },
     "execution_count": 83,
     "metadata": {},
     "output_type": "execute_result"
    }
   ],
   "source": [
    "data.head()"
   ]
  },
  {
   "cell_type": "code",
   "execution_count": 84,
   "id": "aed138f7",
   "metadata": {},
   "outputs": [],
   "source": [
    "agg_data = data.groupby(['user_id', 'month']).agg(\n",
    "    total_distance=('distance', 'sum'), total_rides=('distance', 'count'), total_duration=('duration', 'sum')\n",
    ")"
   ]
  },
  {
   "cell_type": "code",
   "execution_count": 85,
   "id": "dcc5866e",
   "metadata": {},
   "outputs": [
    {
     "data": {
      "text/html": [
       "<div>\n",
       "<style scoped>\n",
       "    .dataframe tbody tr th:only-of-type {\n",
       "        vertical-align: middle;\n",
       "    }\n",
       "\n",
       "    .dataframe tbody tr th {\n",
       "        vertical-align: top;\n",
       "    }\n",
       "\n",
       "    .dataframe thead th {\n",
       "        text-align: right;\n",
       "    }\n",
       "</style>\n",
       "<table border=\"1\" class=\"dataframe\">\n",
       "  <thead>\n",
       "    <tr style=\"text-align: right;\">\n",
       "      <th></th>\n",
       "      <th></th>\n",
       "      <th>total_distance</th>\n",
       "      <th>total_rides</th>\n",
       "      <th>total_duration</th>\n",
       "    </tr>\n",
       "    <tr>\n",
       "      <th>user_id</th>\n",
       "      <th>month</th>\n",
       "      <th></th>\n",
       "      <th></th>\n",
       "      <th></th>\n",
       "    </tr>\n",
       "  </thead>\n",
       "  <tbody>\n",
       "    <tr>\n",
       "      <th rowspan=\"6\" valign=\"top\">1</th>\n",
       "      <th>1</th>\n",
       "      <td>7027.5</td>\n",
       "      <td>2</td>\n",
       "      <td>41.4</td>\n",
       "    </tr>\n",
       "    <tr>\n",
       "      <th>4</th>\n",
       "      <td>754.2</td>\n",
       "      <td>1</td>\n",
       "      <td>6.2</td>\n",
       "    </tr>\n",
       "    <tr>\n",
       "      <th>8</th>\n",
       "      <td>6723.5</td>\n",
       "      <td>2</td>\n",
       "      <td>44.8</td>\n",
       "    </tr>\n",
       "    <tr>\n",
       "      <th>10</th>\n",
       "      <td>5809.9</td>\n",
       "      <td>2</td>\n",
       "      <td>31.6</td>\n",
       "    </tr>\n",
       "    <tr>\n",
       "      <th>11</th>\n",
       "      <td>7003.5</td>\n",
       "      <td>3</td>\n",
       "      <td>53.4</td>\n",
       "    </tr>\n",
       "    <tr>\n",
       "      <th>12</th>\n",
       "      <td>6751.6</td>\n",
       "      <td>2</td>\n",
       "      <td>27.2</td>\n",
       "    </tr>\n",
       "    <tr>\n",
       "      <th rowspan=\"4\" valign=\"top\">2</th>\n",
       "      <th>3</th>\n",
       "      <td>10187.7</td>\n",
       "      <td>3</td>\n",
       "      <td>61.0</td>\n",
       "    </tr>\n",
       "    <tr>\n",
       "      <th>4</th>\n",
       "      <td>6164.4</td>\n",
       "      <td>2</td>\n",
       "      <td>39.0</td>\n",
       "    </tr>\n",
       "    <tr>\n",
       "      <th>6</th>\n",
       "      <td>3255.3</td>\n",
       "      <td>1</td>\n",
       "      <td>13.9</td>\n",
       "    </tr>\n",
       "    <tr>\n",
       "      <th>7</th>\n",
       "      <td>6780.7</td>\n",
       "      <td>2</td>\n",
       "      <td>46.2</td>\n",
       "    </tr>\n",
       "  </tbody>\n",
       "</table>\n",
       "</div>"
      ],
      "text/plain": [
       "               total_distance  total_rides  total_duration\n",
       "user_id month                                             \n",
       "1       1              7027.5            2            41.4\n",
       "        4               754.2            1             6.2\n",
       "        8              6723.5            2            44.8\n",
       "        10             5809.9            2            31.6\n",
       "        11             7003.5            3            53.4\n",
       "        12             6751.6            2            27.2\n",
       "2       3             10187.7            3            61.0\n",
       "        4              6164.4            2            39.0\n",
       "        6              3255.3            1            13.9\n",
       "        7              6780.7            2            46.2"
      ]
     },
     "execution_count": 85,
     "metadata": {},
     "output_type": "execute_result"
    }
   ],
   "source": [
    "round(agg_data.head(10), 1)"
   ]
  },
  {
   "cell_type": "code",
   "execution_count": 86,
   "id": "eaefe6d5",
   "metadata": {},
   "outputs": [
    {
     "data": {
      "text/plain": [
       "total_distance    0\n",
       "total_rides       0\n",
       "total_duration    0\n",
       "dtype: int64"
      ]
     },
     "execution_count": 86,
     "metadata": {},
     "output_type": "execute_result"
    }
   ],
   "source": [
    "agg_data.isna().sum()"
   ]
  },
  {
   "cell_type": "markdown",
   "id": "93652bd1",
   "metadata": {},
   "source": [
    "Пропусков в таблице не обнаружено."
   ]
  },
  {
   "cell_type": "markdown",
   "id": "ca3de5e2",
   "metadata": {},
   "source": [
    "### Добавление столбца с помесячной выручкой, которую принёс каждый пользователь"
   ]
  },
  {
   "cell_type": "markdown",
   "id": "ae52dd77",
   "metadata": {},
   "source": [
    "Функция, которая расчитывает доход с каждого клиента за месяц"
   ]
  },
  {
   "cell_type": "code",
   "execution_count": 87,
   "id": "5abdc2c8",
   "metadata": {},
   "outputs": [],
   "source": [
    "def calculate_income(user_id, month):\n",
    "    income_data = data.query('user_id == @user_id and month == @month')\n",
    "    total_duration = np.ceil(income_data['duration']).sum()\n",
    "    income = total_duration * income_data['minute_price'].iloc[0] + \\\n",
    "    income_data['duration'].count() * income_data['start_ride_price'].iloc[0] + \\\n",
    "    income_data['subscription_fee'].iloc[0]\n",
    "    return income"
   ]
  },
  {
   "cell_type": "markdown",
   "id": "7ebbb910",
   "metadata": {},
   "source": [
    "Создадим новый столбец и расчитаем значения с помощью функции"
   ]
  },
  {
   "cell_type": "code",
   "execution_count": 88,
   "id": "348639a9",
   "metadata": {},
   "outputs": [],
   "source": [
    "agg_data['income'] = agg_data.apply(\n",
    "    lambda row: calculate_income(row.name[0], row.name[1]), axis=1\n",
    ")"
   ]
  },
  {
   "cell_type": "code",
   "execution_count": 89,
   "id": "f24dafcd",
   "metadata": {},
   "outputs": [
    {
     "data": {
      "text/html": [
       "<div>\n",
       "<style scoped>\n",
       "    .dataframe tbody tr th:only-of-type {\n",
       "        vertical-align: middle;\n",
       "    }\n",
       "\n",
       "    .dataframe tbody tr th {\n",
       "        vertical-align: top;\n",
       "    }\n",
       "\n",
       "    .dataframe thead th {\n",
       "        text-align: right;\n",
       "    }\n",
       "</style>\n",
       "<table border=\"1\" class=\"dataframe\">\n",
       "  <thead>\n",
       "    <tr style=\"text-align: right;\">\n",
       "      <th></th>\n",
       "      <th></th>\n",
       "      <th>total_distance</th>\n",
       "      <th>total_rides</th>\n",
       "      <th>total_duration</th>\n",
       "      <th>income</th>\n",
       "    </tr>\n",
       "    <tr>\n",
       "      <th>user_id</th>\n",
       "      <th>month</th>\n",
       "      <th></th>\n",
       "      <th></th>\n",
       "      <th></th>\n",
       "      <th></th>\n",
       "    </tr>\n",
       "  </thead>\n",
       "  <tbody>\n",
       "    <tr>\n",
       "      <th rowspan=\"6\" valign=\"top\">1</th>\n",
       "      <th>1</th>\n",
       "      <td>7027.5</td>\n",
       "      <td>2</td>\n",
       "      <td>41.4</td>\n",
       "      <td>451.0</td>\n",
       "    </tr>\n",
       "    <tr>\n",
       "      <th>4</th>\n",
       "      <td>754.2</td>\n",
       "      <td>1</td>\n",
       "      <td>6.2</td>\n",
       "      <td>241.0</td>\n",
       "    </tr>\n",
       "    <tr>\n",
       "      <th>8</th>\n",
       "      <td>6723.5</td>\n",
       "      <td>2</td>\n",
       "      <td>44.8</td>\n",
       "      <td>475.0</td>\n",
       "    </tr>\n",
       "    <tr>\n",
       "      <th>10</th>\n",
       "      <td>5809.9</td>\n",
       "      <td>2</td>\n",
       "      <td>31.6</td>\n",
       "      <td>391.0</td>\n",
       "    </tr>\n",
       "    <tr>\n",
       "      <th>11</th>\n",
       "      <td>7003.5</td>\n",
       "      <td>3</td>\n",
       "      <td>53.4</td>\n",
       "      <td>535.0</td>\n",
       "    </tr>\n",
       "    <tr>\n",
       "      <th>12</th>\n",
       "      <td>6751.6</td>\n",
       "      <td>2</td>\n",
       "      <td>27.2</td>\n",
       "      <td>367.0</td>\n",
       "    </tr>\n",
       "    <tr>\n",
       "      <th rowspan=\"4\" valign=\"top\">2</th>\n",
       "      <th>3</th>\n",
       "      <td>10187.7</td>\n",
       "      <td>3</td>\n",
       "      <td>61.0</td>\n",
       "      <td>577.0</td>\n",
       "    </tr>\n",
       "    <tr>\n",
       "      <th>4</th>\n",
       "      <td>6164.4</td>\n",
       "      <td>2</td>\n",
       "      <td>39.0</td>\n",
       "      <td>439.0</td>\n",
       "    </tr>\n",
       "    <tr>\n",
       "      <th>6</th>\n",
       "      <td>3255.3</td>\n",
       "      <td>1</td>\n",
       "      <td>13.9</td>\n",
       "      <td>283.0</td>\n",
       "    </tr>\n",
       "    <tr>\n",
       "      <th>7</th>\n",
       "      <td>6780.7</td>\n",
       "      <td>2</td>\n",
       "      <td>46.2</td>\n",
       "      <td>487.0</td>\n",
       "    </tr>\n",
       "  </tbody>\n",
       "</table>\n",
       "</div>"
      ],
      "text/plain": [
       "               total_distance  total_rides  total_duration  income\n",
       "user_id month                                                     \n",
       "1       1              7027.5            2            41.4   451.0\n",
       "        4               754.2            1             6.2   241.0\n",
       "        8              6723.5            2            44.8   475.0\n",
       "        10             5809.9            2            31.6   391.0\n",
       "        11             7003.5            3            53.4   535.0\n",
       "        12             6751.6            2            27.2   367.0\n",
       "2       3             10187.7            3            61.0   577.0\n",
       "        4              6164.4            2            39.0   439.0\n",
       "        6              3255.3            1            13.9   283.0\n",
       "        7              6780.7            2            46.2   487.0"
      ]
     },
     "execution_count": 89,
     "metadata": {},
     "output_type": "execute_result"
    }
   ],
   "source": [
    "round(agg_data.head(10), 1)"
   ]
  },
  {
   "cell_type": "code",
   "execution_count": 90,
   "id": "e0384f3f",
   "metadata": {},
   "outputs": [
    {
     "data": {
      "image/png": "[encoded data removed]",
      "text/plain": [
       "<Figure size 1080x576 with 1 Axes>"
      ]
     },
     "metadata": {
      "needs_background": "light"
     },
     "output_type": "display_data"
    }
   ],
   "source": [
    "agg_data['income'].hist(bins=100, figsize=(15, 8))\n",
    "plt.title('Распределение месячной выручки')\n",
    "plt.xlabel('Месячная выручка (руб)', fontsize=15)\n",
    "plt.ylabel('Кол-во', fontsize=15)\n",
    "plt.grid(True)\n",
    "plt.yticks(range(0, 850, 50))\n",
    "plt.xticks(range(0, 1500, 100));"
   ]
  },
  {
   "cell_type": "code",
   "execution_count": 91,
   "id": "cf395eec",
   "metadata": {},
   "outputs": [
    {
     "data": {
      "text/plain": [
       "count    11300.0\n",
       "mean       343.0\n",
       "std        153.0\n",
       "min         74.0\n",
       "25%        234.0\n",
       "50%        319.0\n",
       "75%        415.0\n",
       "max       1444.0\n",
       "Name: income, dtype: float64"
      ]
     },
     "execution_count": 91,
     "metadata": {},
     "output_type": "execute_result"
    }
   ],
   "source": [
    "round(agg_data.describe()['income'])"
   ]
  },
  {
   "cell_type": "markdown",
   "id": "22200ffb",
   "metadata": {},
   "source": [
    "Пик находится около 320 руб.\n",
    "Среднее значение - 343, медиана - 319.\n",
    "50% значений выручки находится в диапазоне от 234 до 415 руб."
   ]
  },
  {
   "cell_type": "markdown",
   "id": "41545ac0",
   "metadata": {},
   "source": [
    "## Шаг 6. Проверка гипотез"
   ]
  },
  {
   "cell_type": "markdown",
   "id": "4d3c977a",
   "metadata": {},
   "source": [
    "### Тратят ли пользователи с подпиской больше времени на поездки"
   ]
  },
  {
   "cell_type": "markdown",
   "id": "c726b19c",
   "metadata": {},
   "source": [
    "Нулевая гипотеза: выборочное среднее длительности поездки пользователей с подпиской равно выборочному среднему пользователей без подписки.\n",
    "\n",
    "Альтернативная гипотеза: выборочное среднее длительности поездки пользователей с подпиской больше выборочного среднего пользователей без подписки.\n",
    "\n",
    "Определим порог статистической значимости на уровне 0,05."
   ]
  },
  {
   "cell_type": "code",
   "execution_count": 92,
   "id": "7e9300f7",
   "metadata": {},
   "outputs": [],
   "source": [
    "duration_test = st.ttest_ind(data_ultra['duration'], data_free['duration'], alternative='greater')"
   ]
  },
  {
   "cell_type": "code",
   "execution_count": 93,
   "id": "b0a3cc6d",
   "metadata": {},
   "outputs": [
    {
     "data": {
      "text/plain": [
       "4.704468074453899e-28"
      ]
     },
     "execution_count": 93,
     "metadata": {},
     "output_type": "execute_result"
    }
   ],
   "source": [
    "duration_test.pvalue"
   ]
  },
  {
   "cell_type": "markdown",
   "id": "4b24786d",
   "metadata": {},
   "source": [
    "Так как полученное значение меньше порога статистической значимости, есть основания отвергнуть нулевую гипотезу и принять альтернативную гипотезу о том, что пользователи с подпиской тратят больше времени на поездки."
   ]
  },
  {
   "cell_type": "markdown",
   "id": "c90011bb",
   "metadata": {},
   "source": [
    "Характеристики распределения длительности поездок клиентов с подпиской"
   ]
  },
  {
   "cell_type": "code",
   "execution_count": 94,
   "id": "92fe2ff4",
   "metadata": {},
   "outputs": [
    {
     "data": {
      "text/plain": [
       "count    6500.0\n",
       "mean       18.5\n",
       "std         5.6\n",
       "min         3.8\n",
       "25%        14.5\n",
       "50%        18.2\n",
       "75%        21.9\n",
       "max        40.8\n",
       "Name: duration, dtype: float64"
      ]
     },
     "execution_count": 94,
     "metadata": {},
     "output_type": "execute_result"
    }
   ],
   "source": [
    "round(data_ultra.describe()['duration'], 1)"
   ]
  },
  {
   "cell_type": "markdown",
   "id": "a110ebb6",
   "metadata": {},
   "source": [
    "Характеристики распределения длительности поездок клиентов без подписки"
   ]
  },
  {
   "cell_type": "code",
   "execution_count": 95,
   "id": "440f53b6",
   "metadata": {},
   "outputs": [
    {
     "data": {
      "text/plain": [
       "count    11473.0\n",
       "mean        17.5\n",
       "std          6.2\n",
       "min          2.0\n",
       "25%         13.1\n",
       "50%         17.4\n",
       "75%         21.6\n",
       "max         34.9\n",
       "Name: duration, dtype: float64"
      ]
     },
     "execution_count": 95,
     "metadata": {},
     "output_type": "execute_result"
    }
   ],
   "source": [
    "round(data_free.describe()['duration'], 1)"
   ]
  },
  {
   "cell_type": "markdown",
   "id": "0586d9ab",
   "metadata": {},
   "source": [
    "Среднее выборочное длительности поездки клиентов с подпиской больше среднего выборочного поездок клиентов без подписки - 18.5 против 17.5, и также имеет меньшее стандартное отклонение - 5.6 против 6.2.\n",
    "\n",
    "Таким образом подтверждается теория о том, что клиенты с подпиской тратят больше времени на поездки."
   ]
  },
  {
   "cell_type": "markdown",
   "id": "16428912",
   "metadata": {},
   "source": [
    "### Можно ли сказать, что среднее расстояние, которое проезжают пользователи с подпиской за одну поездку, не превышает 3130 метров"
   ]
  },
  {
   "cell_type": "markdown",
   "id": "ba58e571",
   "metadata": {},
   "source": [
    "Нулевая гипотеза: среднее расстояние, которое проезжают пользователи с подпиской, равно 3130\n",
    "\n",
    "Альтернативная теория: среднее расстояние, которое проезжают пользователи с подпиской, больше 3130\n",
    "\n",
    "Определим порог статистической значимости на уровне 0,05."
   ]
  },
  {
   "cell_type": "code",
   "execution_count": 96,
   "id": "745b79af",
   "metadata": {},
   "outputs": [],
   "source": [
    "distance_test = st.ttest_1samp(data_ultra['distance'], 3130, alternative='greater')"
   ]
  },
  {
   "cell_type": "code",
   "execution_count": 97,
   "id": "99133087",
   "metadata": {},
   "outputs": [
    {
     "data": {
      "text/plain": [
       "0.9195368847849785"
      ]
     },
     "execution_count": 97,
     "metadata": {},
     "output_type": "execute_result"
    }
   ],
   "source": [
    "distance_test.pvalue"
   ]
  },
  {
   "cell_type": "markdown",
   "id": "19578e67",
   "metadata": {},
   "source": [
    "Полученное значение больше порога статистической значимости, поэтому нет оснований отвергать нулевую гипотезу. Таким образом среднее расстояние, которое проезжают пользователи с подпиской, составляет не более 3130 м."
   ]
  },
  {
   "cell_type": "markdown",
   "id": "cfbe8f5f",
   "metadata": {},
   "source": [
    "Характеристики распределения дальности поездок клиентов с подпиской"
   ]
  },
  {
   "cell_type": "code",
   "execution_count": 98,
   "id": "df2eb23b",
   "metadata": {},
   "outputs": [
    {
     "data": {
      "text/plain": [
       "count    6500.0\n",
       "mean     3115.4\n",
       "std       836.9\n",
       "min       244.2\n",
       "25%      2785.4\n",
       "50%      3148.6\n",
       "75%      3560.6\n",
       "max      5699.8\n",
       "Name: distance, dtype: float64"
      ]
     },
     "execution_count": 98,
     "metadata": {},
     "output_type": "execute_result"
    }
   ],
   "source": [
    "round(data_ultra.describe()['distance'], 1)"
   ]
  },
  {
   "cell_type": "markdown",
   "id": "f0f6b488",
   "metadata": {},
   "source": [
    "Среднее значение дальности поездок клиентов с подпиской составляет 3115.4 м.\n",
    "\n",
    "Таким образом подтверждается теория о том, что среднее. расстояние, которое проезжают пользователи с подпиской за одну поездку, не превышает 3130 метров."
   ]
  },
  {
   "cell_type": "markdown",
   "id": "53dc9d70",
   "metadata": {},
   "source": [
    "### Будет ли помесячная выручка от пользователей с подпиской по месяцам выше, чем выручка от пользователей без подписки"
   ]
  },
  {
   "cell_type": "markdown",
   "id": "4ebd334a",
   "metadata": {},
   "source": [
    "Нулевая гипотеза: выборочное среднее помесячной выручки от пользователей с подпиской равно выборочному среднему выручки от пользователей без подписки.\n",
    "\n",
    "Альтернативная теория: выборочное среднее помесячной выручки от пользователей с подпиской больше, чем выборочное среднее выручки от пользователей без подписки.\n",
    "\n",
    "Определим порог статистической значимости на уровне 0,05."
   ]
  },
  {
   "cell_type": "code",
   "execution_count": 99,
   "id": "daedf42e",
   "metadata": {},
   "outputs": [],
   "source": [
    "def add_subscription(user_id, month):\n",
    "    income_data = data.query('user_id == @user_id and month == @month')\n",
    "    return income_data['subscription_type'].iloc[0]"
   ]
  },
  {
   "cell_type": "code",
   "execution_count": 100,
   "id": "38c2ee3b",
   "metadata": {},
   "outputs": [],
   "source": [
    "agg_data['subscription_type'] = agg_data.apply(\n",
    "    lambda row: add_subscription(row.name[0], row.name[1]), axis=1\n",
    ")"
   ]
  },
  {
   "cell_type": "code",
   "execution_count": 101,
   "id": "edecee45",
   "metadata": {},
   "outputs": [
    {
     "data": {
      "text/html": [
       "<div>\n",
       "<style scoped>\n",
       "    .dataframe tbody tr th:only-of-type {\n",
       "        vertical-align: middle;\n",
       "    }\n",
       "\n",
       "    .dataframe tbody tr th {\n",
       "        vertical-align: top;\n",
       "    }\n",
       "\n",
       "    .dataframe thead th {\n",
       "        text-align: right;\n",
       "    }\n",
       "</style>\n",
       "<table border=\"1\" class=\"dataframe\">\n",
       "  <thead>\n",
       "    <tr style=\"text-align: right;\">\n",
       "      <th></th>\n",
       "      <th></th>\n",
       "      <th>total_distance</th>\n",
       "      <th>total_rides</th>\n",
       "      <th>total_duration</th>\n",
       "      <th>income</th>\n",
       "      <th>subscription_type</th>\n",
       "    </tr>\n",
       "    <tr>\n",
       "      <th>user_id</th>\n",
       "      <th>month</th>\n",
       "      <th></th>\n",
       "      <th></th>\n",
       "      <th></th>\n",
       "      <th></th>\n",
       "      <th></th>\n",
       "    </tr>\n",
       "  </thead>\n",
       "  <tbody>\n",
       "    <tr>\n",
       "      <th rowspan=\"6\" valign=\"top\">1</th>\n",
       "      <th>1</th>\n",
       "      <td>7027.5</td>\n",
       "      <td>2</td>\n",
       "      <td>41.4</td>\n",
       "      <td>451.0</td>\n",
       "      <td>ultra</td>\n",
       "    </tr>\n",
       "    <tr>\n",
       "      <th>4</th>\n",
       "      <td>754.2</td>\n",
       "      <td>1</td>\n",
       "      <td>6.2</td>\n",
       "      <td>241.0</td>\n",
       "      <td>ultra</td>\n",
       "    </tr>\n",
       "    <tr>\n",
       "      <th>8</th>\n",
       "      <td>6723.5</td>\n",
       "      <td>2</td>\n",
       "      <td>44.8</td>\n",
       "      <td>475.0</td>\n",
       "      <td>ultra</td>\n",
       "    </tr>\n",
       "    <tr>\n",
       "      <th>10</th>\n",
       "      <td>5809.9</td>\n",
       "      <td>2</td>\n",
       "      <td>31.6</td>\n",
       "      <td>391.0</td>\n",
       "      <td>ultra</td>\n",
       "    </tr>\n",
       "    <tr>\n",
       "      <th>11</th>\n",
       "      <td>7003.5</td>\n",
       "      <td>3</td>\n",
       "      <td>53.4</td>\n",
       "      <td>535.0</td>\n",
       "      <td>ultra</td>\n",
       "    </tr>\n",
       "    <tr>\n",
       "      <th>12</th>\n",
       "      <td>6751.6</td>\n",
       "      <td>2</td>\n",
       "      <td>27.2</td>\n",
       "      <td>367.0</td>\n",
       "      <td>ultra</td>\n",
       "    </tr>\n",
       "    <tr>\n",
       "      <th rowspan=\"4\" valign=\"top\">2</th>\n",
       "      <th>3</th>\n",
       "      <td>10187.7</td>\n",
       "      <td>3</td>\n",
       "      <td>61.0</td>\n",
       "      <td>577.0</td>\n",
       "      <td>ultra</td>\n",
       "    </tr>\n",
       "    <tr>\n",
       "      <th>4</th>\n",
       "      <td>6164.4</td>\n",
       "      <td>2</td>\n",
       "      <td>39.0</td>\n",
       "      <td>439.0</td>\n",
       "      <td>ultra</td>\n",
       "    </tr>\n",
       "    <tr>\n",
       "      <th>6</th>\n",
       "      <td>3255.3</td>\n",
       "      <td>1</td>\n",
       "      <td>13.9</td>\n",
       "      <td>283.0</td>\n",
       "      <td>ultra</td>\n",
       "    </tr>\n",
       "    <tr>\n",
       "      <th>7</th>\n",
       "      <td>6780.7</td>\n",
       "      <td>2</td>\n",
       "      <td>46.2</td>\n",
       "      <td>487.0</td>\n",
       "      <td>ultra</td>\n",
       "    </tr>\n",
       "  </tbody>\n",
       "</table>\n",
       "</div>"
      ],
      "text/plain": [
       "               total_distance  total_rides  total_duration  income  \\\n",
       "user_id month                                                        \n",
       "1       1              7027.5            2            41.4   451.0   \n",
       "        4               754.2            1             6.2   241.0   \n",
       "        8              6723.5            2            44.8   475.0   \n",
       "        10             5809.9            2            31.6   391.0   \n",
       "        11             7003.5            3            53.4   535.0   \n",
       "        12             6751.6            2            27.2   367.0   \n",
       "2       3             10187.7            3            61.0   577.0   \n",
       "        4              6164.4            2            39.0   439.0   \n",
       "        6              3255.3            1            13.9   283.0   \n",
       "        7              6780.7            2            46.2   487.0   \n",
       "\n",
       "              subscription_type  \n",
       "user_id month                    \n",
       "1       1                 ultra  \n",
       "        4                 ultra  \n",
       "        8                 ultra  \n",
       "        10                ultra  \n",
       "        11                ultra  \n",
       "        12                ultra  \n",
       "2       3                 ultra  \n",
       "        4                 ultra  \n",
       "        6                 ultra  \n",
       "        7                 ultra  "
      ]
     },
     "execution_count": 101,
     "metadata": {},
     "output_type": "execute_result"
    }
   ],
   "source": [
    "round(agg_data.head(10), 1)"
   ]
  },
  {
   "cell_type": "code",
   "execution_count": 102,
   "id": "761d0d51",
   "metadata": {},
   "outputs": [],
   "source": [
    "agg_data_ultra = agg_data.query('subscription_type == \"ultra\"')"
   ]
  },
  {
   "cell_type": "code",
   "execution_count": 103,
   "id": "2a3f12ea",
   "metadata": {},
   "outputs": [],
   "source": [
    "agg_data_free = agg_data.query('subscription_type == \"free\"')"
   ]
  },
  {
   "cell_type": "code",
   "execution_count": 104,
   "id": "7e20830e",
   "metadata": {},
   "outputs": [],
   "source": [
    "income_test = st.ttest_ind(agg_data_ultra['income'], agg_data_free['income'], alternative='greater')"
   ]
  },
  {
   "cell_type": "code",
   "execution_count": 105,
   "id": "68dd88a1",
   "metadata": {},
   "outputs": [
    {
     "data": {
      "text/plain": [
       "2.0314113674863288e-30"
      ]
     },
     "execution_count": 105,
     "metadata": {},
     "output_type": "execute_result"
    }
   ],
   "source": [
    "income_test.pvalue"
   ]
  },
  {
   "cell_type": "markdown",
   "id": "74776b2d",
   "metadata": {},
   "source": [
    "Полученное значение ниже порога статистической значимости, поэтому нулевую гипотезу о равенстве выборочных средних выручки следует отвергнуть и принять альтернативную гипотезу о том, что пользователи с подпиской приносят больше выручки, чем пользователи без подписки."
   ]
  },
  {
   "cell_type": "markdown",
   "id": "9d90ac32",
   "metadata": {},
   "source": [
    "Характеристики распределения выручки с клиентов с подпиской"
   ]
  },
  {
   "cell_type": "code",
   "execution_count": 106,
   "id": "9b844c13",
   "metadata": {},
   "outputs": [
    {
     "data": {
      "text/plain": [
       "count    4533.0\n",
       "mean      362.8\n",
       "std        88.3\n",
       "min       223.0\n",
       "25%       301.0\n",
       "50%       337.0\n",
       "75%       409.0\n",
       "max       955.0\n",
       "Name: income, dtype: float64"
      ]
     },
     "execution_count": 106,
     "metadata": {},
     "output_type": "execute_result"
    }
   ],
   "source": [
    "round(agg_data.query('subscription_type == \"ultra\"').describe()['income'], 1)"
   ]
  },
  {
   "cell_type": "markdown",
   "id": "b01f2b19",
   "metadata": {},
   "source": [
    "Характеристики распределения выручки с клиентов без подписки"
   ]
  },
  {
   "cell_type": "code",
   "execution_count": 107,
   "id": "f94c23aa",
   "metadata": {},
   "outputs": [
    {
     "data": {
      "text/plain": [
       "count    6767.0\n",
       "mean      329.3\n",
       "std       183.3\n",
       "min        74.0\n",
       "25%       194.0\n",
       "50%       274.0\n",
       "75%       428.0\n",
       "max      1444.0\n",
       "Name: income, dtype: float64"
      ]
     },
     "execution_count": 107,
     "metadata": {},
     "output_type": "execute_result"
    }
   ],
   "source": [
    "round(agg_data.query('subscription_type == \"free\"').describe()['income'], 1)"
   ]
  },
  {
   "cell_type": "markdown",
   "id": "74555574",
   "metadata": {},
   "source": [
    "Средняя выручка с клиентов с подпиской выше, чем с клиентов без подписки - 362.8 против 329.3, и распределена с меньшим стандартным отклонением - 88.3 против 183.3.\n",
    "\n",
    "Таким оброазом, подтверждается теория о том, что пользователи с подпиской приносят больше выручки, чем пользователи без подписки."
   ]
  },
  {
   "cell_type": "markdown",
   "id": "521e7c4f",
   "metadata": {},
   "source": [
    "###  Техническая команда сервиса обновила сервера, с которыми взаимодействует мобильное приложение"
   ]
  },
  {
   "cell_type": "markdown",
   "id": "a34fa51f",
   "metadata": {},
   "source": [
    "Представьте такую ситуацию: техническая команда сервиса обновила сервера, с которыми взаимодействует мобильное приложение. Она надеется, что из-за этого количество обращений в техподдержку значимо снизилось. Некоторый файл содержит для каждого пользователя данные о количестве обращений до обновления и после него. Какой тест вам понадобился бы для проверки этой гипотезы?"
   ]
  },
  {
   "cell_type": "markdown",
   "id": "1b93c4ca",
   "metadata": {},
   "source": [
    "Для проверки подобной гипотезы потребуется выполнить тест для зависимых парных выборок.\n",
    "\n",
    "scipy.stats.ttest_rel()"
   ]
  },
  {
   "cell_type": "markdown",
   "id": "61213c5e",
   "metadata": {},
   "source": [
    "## Шаг 7. Распределения"
   ]
  },
  {
   "cell_type": "markdown",
   "id": "a34ccdda",
   "metadata": {},
   "source": [
    "### Нужно провести акцию с раздачей промокодов"
   ]
  },
  {
   "cell_type": "markdown",
   "id": "fc054ee7",
   "metadata": {},
   "source": [
    "Отделу маркетинга GoFast поставили задачу: нужно провести акцию с раздачей промокодов на один бесплатный месяц подписки, в рамках которой как минимум 100 существующих клиентов должны продлить эту подписку. То есть по завершении периода действия подписки пользователь может либо отказаться от неё, либо продлить, совершив соответствующий платёж. \n",
    "Эта акция уже проводилась ранее и по итогу выяснилось, что после бесплатного пробного периода подписку продлевают 10 % пользователей. Выясните, какое минимальное количество промокодов нужно разослать, чтобы вероятность не выполнить план была примерно 5 %. Подберите параметры распределения, описывающего эту ситуацию, постройте график распределения и сформулируйте ответ на вопрос о количестве промокодов."
   ]
  },
  {
   "cell_type": "markdown",
   "id": "37dad929",
   "metadata": {},
   "source": [
    "Т. к. цель стоит выполнить план в 100 подписок, то при вроятности 0.1 нужно раздать минимум 1000 промокодов."
   ]
  },
  {
   "cell_type": "code",
   "execution_count": 108,
   "id": "95cd1d51",
   "metadata": {},
   "outputs": [],
   "source": [
    "n = 1000\n",
    "p = 0.1\n",
    "k = 100"
   ]
  },
  {
   "cell_type": "markdown",
   "id": "27c6254e",
   "metadata": {},
   "source": [
    "Расчитаем вероятность выполнить план при исхоных данных."
   ]
  },
  {
   "cell_type": "code",
   "execution_count": 109,
   "id": "b0f1af9c",
   "metadata": {},
   "outputs": [],
   "source": [
    "prob = st.binom.cdf(k, n, p, loc=0)"
   ]
  },
  {
   "cell_type": "code",
   "execution_count": 110,
   "id": "f48e9f70",
   "metadata": {},
   "outputs": [
    {
     "data": {
      "text/plain": [
       "0.527"
      ]
     },
     "execution_count": 110,
     "metadata": {},
     "output_type": "execute_result"
    }
   ],
   "source": [
    "round(prob, 3)"
   ]
  },
  {
   "cell_type": "markdown",
   "id": "a3c101c1",
   "metadata": {},
   "source": [
    "Вероятность получить 100 и менее подписок - 53%.\n",
    "Запустим цикл, который будет прибавлять по 10 промокодов до тех пор, пока вероятность получить 100 и менее подписок не станет в пределах 5%."
   ]
  },
  {
   "cell_type": "code",
   "execution_count": 111,
   "id": "7cb36809",
   "metadata": {},
   "outputs": [],
   "source": [
    "while prob > 0.05:\n",
    "    prob = st.binom.cdf(k, n, p)\n",
    "    n += 10"
   ]
  },
  {
   "cell_type": "code",
   "execution_count": 112,
   "id": "76035d18",
   "metadata": {},
   "outputs": [
    {
     "data": {
      "text/plain": [
       "1190"
      ]
     },
     "execution_count": 112,
     "metadata": {},
     "output_type": "execute_result"
    }
   ],
   "source": [
    "n"
   ]
  },
  {
   "cell_type": "code",
   "execution_count": 113,
   "id": "8f198b48",
   "metadata": {},
   "outputs": [
    {
     "data": {
      "text/plain": [
       "0.042"
      ]
     },
     "execution_count": 113,
     "metadata": {},
     "output_type": "execute_result"
    }
   ],
   "source": [
    "round(prob, 3)"
   ]
  },
  {
   "cell_type": "markdown",
   "id": "152b7c8a",
   "metadata": {},
   "source": [
    "Таким образом, для того, чтобы вероятность выполнить план была в пределах 5% необходимо раздать 1190 промокодов."
   ]
  },
  {
   "cell_type": "code",
   "execution_count": 114,
   "id": "ab197358",
   "metadata": {},
   "outputs": [
    {
     "data": {
      "image/png": "[encoded data removed]",
      "text/plain": [
       "<Figure size 504x504 with 1 Axes>"
      ]
     },
     "metadata": {
      "needs_background": "light"
     },
     "output_type": "display_data"
    }
   ],
   "source": [
    "sns.displot(st.binom.rvs(k, p, size=n), bins=19, height=7, aspect=1)\n",
    "plt.title('Биномиальное распределение подписок')\n",
    "plt.xlabel('Кол-во подписок')\n",
    "plt.ylabel('Частота');"
   ]
  },
  {
   "cell_type": "markdown",
   "id": "f20e433e",
   "metadata": {},
   "source": [
    "### Отдел маркетинга рассылает клиентам push-уведомления"
   ]
  },
  {
   "cell_type": "markdown",
   "id": "ed1e4ae1",
   "metadata": {},
   "source": [
    "Отдел маркетинга рассылает клиентам push-уведомления в мобильном приложении. Клиенты могут открыть его или не открывать. Известно, что уведомления открывают около 40 % получивших клиентов. Отдел планирует разослать 1 млн уведомлений. С помощью аппроксимации постройте примерный график распределения и оцените вероятность того, что уведомление откроют не более 399,5 тыс. пользователей."
   ]
  },
  {
   "cell_type": "code",
   "execution_count": 115,
   "id": "548be1b2",
   "metadata": {},
   "outputs": [],
   "source": [
    "prob_not = st.binom.cdf(399500, 1000000, 0.4)"
   ]
  },
  {
   "cell_type": "code",
   "execution_count": 116,
   "id": "4224a1b8",
   "metadata": {},
   "outputs": [
    {
     "data": {
      "text/plain": [
       "0.154"
      ]
     },
     "execution_count": 116,
     "metadata": {},
     "output_type": "execute_result"
    }
   ],
   "source": [
    "round(prob_not, 3)"
   ]
  },
  {
   "cell_type": "markdown",
   "id": "86c908f8",
   "metadata": {},
   "source": [
    "Вероятность того, что уведомление откроют не более 339,5 тыс. пользователей составляет 15.4%."
   ]
  },
  {
   "cell_type": "code",
   "execution_count": 117,
   "id": "b1cbcb00",
   "metadata": {},
   "outputs": [],
   "source": [
    "n = 1000000\n",
    "p = 0.4"
   ]
  },
  {
   "cell_type": "code",
   "execution_count": 118,
   "id": "5dc2b444",
   "metadata": {},
   "outputs": [],
   "source": [
    "m = n * p"
   ]
  },
  {
   "cell_type": "code",
   "execution_count": 119,
   "id": "2e5d393c",
   "metadata": {},
   "outputs": [],
   "source": [
    "se = (n * p * (1 - p))**0.5"
   ]
  },
  {
   "cell_type": "code",
   "execution_count": 120,
   "id": "a25ba71d",
   "metadata": {},
   "outputs": [],
   "source": [
    "left = int(m - 4 *se)"
   ]
  },
  {
   "cell_type": "code",
   "execution_count": 121,
   "id": "1ffa1f33",
   "metadata": {},
   "outputs": [],
   "source": [
    "right = int(m + 4 *se)"
   ]
  },
  {
   "cell_type": "code",
   "execution_count": 122,
   "id": "4170e48b",
   "metadata": {},
   "outputs": [],
   "source": [
    "def linspace(start, stop, num):\n",
    "    step = (stop - start) / (num - 1)\n",
    "    result = []\n",
    "    for i in range(num):\n",
    "        result.append(start + step * i)\n",
    "    return result"
   ]
  },
  {
   "cell_type": "code",
   "execution_count": 123,
   "id": "a8f975d1",
   "metadata": {},
   "outputs": [],
   "source": [
    "x = linspace(left, right, 100)"
   ]
  },
  {
   "cell_type": "code",
   "execution_count": 124,
   "id": "25d79d44",
   "metadata": {},
   "outputs": [
    {
     "data": {
      "image/png": "[encoded data removed]",
      "text/plain": [
       "<Figure size 1080x576 with 1 Axes>"
      ]
     },
     "metadata": {
      "needs_background": "light"
     },
     "output_type": "display_data"
    }
   ],
   "source": [
    "plt.figure(figsize=(15,8))\n",
    "plt.plot(x, st.norm.pdf(x, m, se))\n",
    "plt.title('Аппроксимация нормальным распределением');"
   ]
  },
  {
   "cell_type": "markdown",
   "id": "2983f1ad",
   "metadata": {},
   "source": [
    "## Общий вывод"
   ]
  },
  {
   "cell_type": "markdown",
   "id": "8f4058f4",
   "metadata": {},
   "source": [
    "В данной работе была проведена работа по анализу данных сервиса по аренде самокатов.\n",
    "\n",
    "Стояла задача проверить гипотезы продакт-менеджеров и выполнить расчеты для отдела маркетинга.\n",
    "\n",
    "На этапе предобработки данных было сделано следующее:\n",
    "- приведен столбец `date` в `rides` к типу даты\n",
    "- создан новый столбец с номером месяца в `rides`\n",
    "- удалены дубликаты в датафрейме `users` в количестве 31\n",
    "- удалены записи с длительностью поездки менее минуты. Разработчикам надо внимательно изучить эти случаи т.к. дистанции на данных поездках были большие и происходит потеря выручки.\n",
    "\n",
    "Был проведен исследовательский анализ данных.\n",
    "\n",
    "Частота встречаемости городов.\n",
    "\n",
    "Больше всего клентов зафиксировано в городе Пятигорске - 219, на втором месте город Екатеринбург - 204 клиента. В остальных городах количество менее 200. Минимльное количчество клиентов в Москве - 168.\n",
    "\n",
    "Соотношение клиентов с подпиской и без подписки.\n",
    "\n",
    "54% клиентов пользуются сервисом без подписки, 46% - с подпиской. У компании есть большой потенциал по увеличению доли клиентов с подпиской.\n",
    "\n",
    "Возраст пользователей.\n",
    "\n",
    "Прокатом самокатов пользуются в основном молодые люди до 30 лет.\n",
    "Возраст клиентов сервиса от 12 до 43 лет. 50% пользователей в возрасте от 22 до 28 лет. Больше всего пользователей в возрасте 25 лет.\n",
    "\n",
    "Дальность поездки.\n",
    "\n",
    "Основная масса поездок совершается на расстояние около 3 км. Среднее значение - 3071, медиана - 3134. 50% поездок находятся в диапазоне от 2543 до 3776. Поездки менее 200 м и более 5500 крайне редки. Присутствует локальный максимум около значения 700 м, возможно это поездки до ближайшей остановки общественного транспорта от дома и обратно.\n",
    "\n",
    "Продолжительность поездки.\n",
    "\n",
    "50% данных находятся в диапазоне от 13.7 до 21.7 минут. Среднее значение и медиана находятся около 18 минут.\n",
    "Значения менее 4 и более 33 минут встречаются редко.\n",
    "\n",
    "На следующем этапе было осуществлено объединение данных.\n",
    "\n",
    "Создан датафрейм объединяющий информацию о клиентах, поездках и тарифах. Затем из него выделены два датафрейма с пользователями с подпиской и с пользователями без подписки.\n",
    "\n",
    "Проанализированы длительности и дальности поездок клиентов с подпиской и без нее.\n",
    "\n",
    "Распределение поездок без подписки по дистанции схоже с распределением всех поездок. Пик смещен ближе к значению 2500 м. Также присутствует локальный пик около 700 м.\n",
    "\n",
    "Среднее значение - 3028, медиана - 3102. 50% поездок находятся в диапазоне от 2361 до 3884 м.\n",
    "\n",
    "Поездки с подпиской по расстоянию распределены с меньшим стандартным отклонением по сравнению с поездками без подписки - 837 против 1236. Данные более плотно сгруппированы около 3000 м с пиком около 3200 м. Один локальный пик смещен ближе к 1000 м, также присутствует локальный пик около 4000 м.\n",
    "\n",
    "Среднее значение - 3115 м., медиана - 3149 м.\n",
    "50% поездок находятся в диапазоне от 2785 до 3561 м.\n",
    "\n",
    "Длительность поездок обоих групп схожа. 50% данных находятся в диапазоне от 13 до 22 минут.\n",
    "\n",
    "Были создан датафрейм с агрегированные данными о поездках по месяцам по каждому клиенту и расчитана выручка.\n",
    "\n",
    "Пик находится около 320 руб.\n",
    "Среднее значение - 343, медиана - 319.\n",
    "50% значений выручки находится в диапазоне от 234 до 415 руб.\n",
    "\n",
    "Были проверены следующие гипотезы:\n",
    "- Тратят ли пользователи с подпиской больше времени на поездки. Результаты подтвердили эту гипотезу.\n",
    "- Можно ли сказать, что среднее расстояние, которое проезжают пользователи с подпиской за одну поездку, не превышает 3130 метров. Оснований отвергнуть данную теорию не было.\n",
    "- Будет ли помесячная выручка от пользователей с подпиской по месяцам выше, чем выручка от пользователей без подписки. Данная гипотеза была принята.\n",
    "\n",
    "Были расчитаны данные для промоакций.\n",
    "\n",
    "Для того, чтобы вероятность выполнить план была в пределах 5% необходимо раздать 1190 промокодов.\n",
    "\n",
    "Вероятность того, что уведомление откроют не более 339,5 тыс. пользователей составляет 15.4%."
   ]
  }
 ],
 "metadata": {
  "ExecuteTimeLog": [
   {
    "duration": 239,
    "start_time": "2023-10-04T10:58:45.650Z"
   },
   {
    "duration": 1571,
    "start_time": "2023-10-04T10:58:51.208Z"
   },
   {
    "duration": 13,
    "start_time": "2023-10-04T10:58:59.018Z"
   },
   {
    "duration": 3,
    "start_time": "2023-10-04T10:59:05.480Z"
   },
   {
    "duration": 3,
    "start_time": "2023-10-04T10:59:09.153Z"
   },
   {
    "duration": 98,
    "start_time": "2023-10-04T11:00:59.193Z"
   },
   {
    "duration": 21,
    "start_time": "2023-10-04T11:01:09.821Z"
   },
   {
    "duration": 27,
    "start_time": "2023-10-04T11:01:27.167Z"
   },
   {
    "duration": 10,
    "start_time": "2023-10-04T11:01:27.467Z"
   },
   {
    "duration": 31,
    "start_time": "2023-10-04T11:01:33.949Z"
   },
   {
    "duration": 15,
    "start_time": "2023-10-04T11:01:34.247Z"
   },
   {
    "duration": 63,
    "start_time": "2023-10-04T11:02:59.553Z"
   },
   {
    "duration": 107,
    "start_time": "2023-10-04T11:03:01.872Z"
   },
   {
    "duration": 16,
    "start_time": "2023-10-04T11:03:02.073Z"
   },
   {
    "duration": 9,
    "start_time": "2023-10-04T11:03:07.347Z"
   },
   {
    "duration": 7,
    "start_time": "2023-10-04T11:03:22.779Z"
   },
   {
    "duration": 18,
    "start_time": "2023-10-04T11:07:47.522Z"
   },
   {
    "duration": 13,
    "start_time": "2023-10-04T11:08:08.012Z"
   },
   {
    "duration": 10,
    "start_time": "2023-10-04T11:08:42.980Z"
   },
   {
    "duration": 10,
    "start_time": "2023-10-04T11:08:51.407Z"
   },
   {
    "duration": 12,
    "start_time": "2023-10-04T11:08:53.003Z"
   },
   {
    "duration": 9,
    "start_time": "2023-10-04T11:08:58.139Z"
   },
   {
    "duration": 11,
    "start_time": "2023-10-04T11:08:58.839Z"
   },
   {
    "duration": 9,
    "start_time": "2023-10-04T11:09:04.195Z"
   },
   {
    "duration": 12,
    "start_time": "2023-10-04T11:09:22.202Z"
   },
   {
    "duration": 8,
    "start_time": "2023-10-04T11:10:00.869Z"
   },
   {
    "duration": 8,
    "start_time": "2023-10-04T11:10:07.538Z"
   },
   {
    "duration": 11,
    "start_time": "2023-10-04T11:10:18.980Z"
   },
   {
    "duration": 5,
    "start_time": "2023-10-04T11:17:59.996Z"
   },
   {
    "duration": 4,
    "start_time": "2023-10-04T11:18:36.649Z"
   },
   {
    "duration": 4,
    "start_time": "2023-10-04T11:18:52.450Z"
   },
   {
    "duration": 4,
    "start_time": "2023-10-04T11:19:06.481Z"
   },
   {
    "duration": 5,
    "start_time": "2023-10-04T11:19:25.801Z"
   },
   {
    "duration": 8,
    "start_time": "2023-10-04T11:24:24.764Z"
   },
   {
    "duration": 8,
    "start_time": "2023-10-04T11:24:47.964Z"
   },
   {
    "duration": 12,
    "start_time": "2023-10-04T11:24:58.077Z"
   },
   {
    "duration": 5,
    "start_time": "2023-10-04T11:25:24.773Z"
   },
   {
    "duration": 9,
    "start_time": "2023-10-04T11:25:30.596Z"
   },
   {
    "duration": 4,
    "start_time": "2023-10-04T11:26:01.485Z"
   },
   {
    "duration": 12,
    "start_time": "2023-10-04T11:26:08.323Z"
   },
   {
    "duration": 5,
    "start_time": "2023-10-04T11:31:43.103Z"
   },
   {
    "duration": 9,
    "start_time": "2023-10-04T11:31:58.752Z"
   },
   {
    "duration": 7,
    "start_time": "2023-10-04T11:33:07.199Z"
   },
   {
    "duration": 7,
    "start_time": "2023-10-04T11:33:21.180Z"
   },
   {
    "duration": 7,
    "start_time": "2023-10-04T11:33:45.303Z"
   },
   {
    "duration": 10,
    "start_time": "2023-10-04T11:34:27.324Z"
   },
   {
    "duration": 13,
    "start_time": "2023-10-04T11:34:30.856Z"
   },
   {
    "duration": 8,
    "start_time": "2023-10-04T11:35:02.007Z"
   },
   {
    "duration": 7,
    "start_time": "2023-10-04T11:35:08.112Z"
   },
   {
    "duration": 9,
    "start_time": "2023-10-04T11:35:40.037Z"
   },
   {
    "duration": 5,
    "start_time": "2023-10-04T11:35:58.406Z"
   },
   {
    "duration": 6,
    "start_time": "2023-10-04T11:44:43.689Z"
   },
   {
    "duration": 9,
    "start_time": "2023-10-04T11:45:11.376Z"
   },
   {
    "duration": 7,
    "start_time": "2023-10-04T11:45:17.216Z"
   },
   {
    "duration": 19,
    "start_time": "2023-10-04T11:53:07.887Z"
   },
   {
    "duration": 14,
    "start_time": "2023-10-04T11:53:24.805Z"
   },
   {
    "duration": 8,
    "start_time": "2023-10-04T11:53:55.609Z"
   },
   {
    "duration": 7,
    "start_time": "2023-10-04T11:54:10.307Z"
   },
   {
    "duration": 7,
    "start_time": "2023-10-04T11:55:41.109Z"
   },
   {
    "duration": 4,
    "start_time": "2023-10-04T11:56:10.144Z"
   },
   {
    "duration": 6,
    "start_time": "2023-10-04T11:56:11.384Z"
   },
   {
    "duration": 3,
    "start_time": "2023-10-04T11:59:21.309Z"
   },
   {
    "duration": 7,
    "start_time": "2023-10-04T11:59:22.970Z"
   },
   {
    "duration": 13,
    "start_time": "2023-10-04T12:01:06.944Z"
   },
   {
    "duration": 12,
    "start_time": "2023-10-04T12:02:00.053Z"
   },
   {
    "duration": 23,
    "start_time": "2023-10-04T12:02:05.124Z"
   },
   {
    "duration": 13,
    "start_time": "2023-10-04T12:02:13.378Z"
   },
   {
    "duration": 17,
    "start_time": "2023-10-04T12:02:25.761Z"
   },
   {
    "duration": 13,
    "start_time": "2023-10-04T12:02:35.092Z"
   },
   {
    "duration": 12,
    "start_time": "2023-10-04T12:03:44.683Z"
   },
   {
    "duration": 11,
    "start_time": "2023-10-04T12:03:45.103Z"
   },
   {
    "duration": 11,
    "start_time": "2023-10-04T12:03:55.882Z"
   },
   {
    "duration": 14,
    "start_time": "2023-10-04T12:03:56.186Z"
   },
   {
    "duration": 9,
    "start_time": "2023-10-04T12:04:04.611Z"
   },
   {
    "duration": 13,
    "start_time": "2023-10-04T12:04:04.877Z"
   },
   {
    "duration": 10,
    "start_time": "2023-10-04T12:04:33.959Z"
   },
   {
    "duration": 4,
    "start_time": "2023-10-04T12:04:34.252Z"
   },
   {
    "duration": 7,
    "start_time": "2023-10-04T12:04:34.475Z"
   },
   {
    "duration": 12,
    "start_time": "2023-10-04T12:04:50.415Z"
   },
   {
    "duration": 10,
    "start_time": "2023-10-04T12:05:11.002Z"
   },
   {
    "duration": 4,
    "start_time": "2023-10-04T12:05:11.273Z"
   },
   {
    "duration": 103,
    "start_time": "2023-10-04T12:05:22.288Z"
   },
   {
    "duration": 98,
    "start_time": "2023-10-04T12:05:27.941Z"
   },
   {
    "duration": 8,
    "start_time": "2023-10-04T12:05:32.064Z"
   },
   {
    "duration": 7,
    "start_time": "2023-10-04T12:05:44.313Z"
   },
   {
    "duration": 3,
    "start_time": "2023-10-04T12:05:59.577Z"
   },
   {
    "duration": 13,
    "start_time": "2023-10-04T12:06:07.026Z"
   },
   {
    "duration": 20,
    "start_time": "2023-10-04T12:07:04.739Z"
   },
   {
    "duration": 206,
    "start_time": "2023-10-04T12:07:09.482Z"
   },
   {
    "duration": 235,
    "start_time": "2023-10-04T12:07:31.183Z"
   },
   {
    "duration": 167,
    "start_time": "2023-10-04T12:08:02.157Z"
   },
   {
    "duration": 189,
    "start_time": "2023-10-04T12:08:47.613Z"
   },
   {
    "duration": 207,
    "start_time": "2023-10-04T12:08:59.656Z"
   },
   {
    "duration": 229,
    "start_time": "2023-10-04T12:09:18.301Z"
   },
   {
    "duration": 198,
    "start_time": "2023-10-04T12:09:33.534Z"
   },
   {
    "duration": 235,
    "start_time": "2023-10-04T12:10:49.179Z"
   },
   {
    "duration": 240,
    "start_time": "2023-10-04T12:12:27.149Z"
   },
   {
    "duration": 352,
    "start_time": "2023-10-04T12:13:09.385Z"
   },
   {
    "duration": 249,
    "start_time": "2023-10-04T12:13:14.080Z"
   },
   {
    "duration": 605,
    "start_time": "2023-10-04T12:13:43.549Z"
   },
   {
    "duration": 625,
    "start_time": "2023-10-04T12:14:04.418Z"
   },
   {
    "duration": 260,
    "start_time": "2023-10-04T12:14:09.503Z"
   },
   {
    "duration": 282,
    "start_time": "2023-10-04T12:14:16.781Z"
   },
   {
    "duration": 223,
    "start_time": "2023-10-04T12:14:26.965Z"
   },
   {
    "duration": 301,
    "start_time": "2023-10-04T12:16:01.959Z"
   },
   {
    "duration": 260,
    "start_time": "2023-10-04T12:16:08.707Z"
   },
   {
    "duration": 248,
    "start_time": "2023-10-04T12:16:14.404Z"
   },
   {
    "duration": 228,
    "start_time": "2023-10-04T12:16:19.257Z"
   },
   {
    "duration": 350,
    "start_time": "2023-10-04T12:17:01.348Z"
   },
   {
    "duration": 234,
    "start_time": "2023-10-04T12:17:13.684Z"
   },
   {
    "duration": 233,
    "start_time": "2023-10-04T12:17:27.079Z"
   },
   {
    "duration": 299,
    "start_time": "2023-10-04T12:17:35.893Z"
   },
   {
    "duration": 245,
    "start_time": "2023-10-04T12:18:06.546Z"
   },
   {
    "duration": 10,
    "start_time": "2023-10-04T12:58:12.041Z"
   },
   {
    "duration": 9,
    "start_time": "2023-10-04T12:58:17.407Z"
   },
   {
    "duration": 7,
    "start_time": "2023-10-04T12:58:23.170Z"
   },
   {
    "duration": 4,
    "start_time": "2023-10-04T12:59:12.234Z"
   },
   {
    "duration": 9,
    "start_time": "2023-10-04T12:59:25.415Z"
   },
   {
    "duration": 4,
    "start_time": "2023-10-04T12:59:25.638Z"
   },
   {
    "duration": 6,
    "start_time": "2023-10-04T12:59:29.437Z"
   },
   {
    "duration": 11,
    "start_time": "2023-10-04T13:00:40.213Z"
   },
   {
    "duration": 11,
    "start_time": "2023-10-04T13:01:02.145Z"
   },
   {
    "duration": 12,
    "start_time": "2023-10-04T13:01:12.875Z"
   },
   {
    "duration": 12,
    "start_time": "2023-10-04T13:01:24.469Z"
   },
   {
    "duration": 152,
    "start_time": "2023-10-04T13:01:34.964Z"
   },
   {
    "duration": 128,
    "start_time": "2023-10-04T13:01:48.959Z"
   },
   {
    "duration": 131,
    "start_time": "2023-10-04T13:02:29.533Z"
   },
   {
    "duration": 146,
    "start_time": "2023-10-04T13:02:39.972Z"
   },
   {
    "duration": 161,
    "start_time": "2023-10-04T13:03:45.258Z"
   },
   {
    "duration": 98,
    "start_time": "2023-10-04T13:04:43.837Z"
   },
   {
    "duration": 2415,
    "start_time": "2023-10-04T13:05:59.003Z"
   },
   {
    "duration": 12,
    "start_time": "2023-10-04T13:06:05.933Z"
   },
   {
    "duration": 4,
    "start_time": "2023-10-04T13:06:06.374Z"
   },
   {
    "duration": 4,
    "start_time": "2023-10-04T13:06:08.561Z"
   },
   {
    "duration": 7,
    "start_time": "2023-10-04T13:06:09.556Z"
   },
   {
    "duration": 10,
    "start_time": "2023-10-04T13:06:29.251Z"
   },
   {
    "duration": 4,
    "start_time": "2023-10-04T13:06:29.461Z"
   },
   {
    "duration": 4,
    "start_time": "2023-10-04T13:06:29.797Z"
   },
   {
    "duration": 8,
    "start_time": "2023-10-04T13:06:30.824Z"
   },
   {
    "duration": 8,
    "start_time": "2023-10-04T13:06:38.198Z"
   },
   {
    "duration": 5,
    "start_time": "2023-10-04T13:06:38.437Z"
   },
   {
    "duration": 4,
    "start_time": "2023-10-04T13:06:38.701Z"
   },
   {
    "duration": 7,
    "start_time": "2023-10-04T13:06:39.290Z"
   },
   {
    "duration": 8,
    "start_time": "2023-10-04T13:06:48.217Z"
   },
   {
    "duration": 4,
    "start_time": "2023-10-04T13:06:48.400Z"
   },
   {
    "duration": 4,
    "start_time": "2023-10-04T13:06:48.590Z"
   },
   {
    "duration": 7,
    "start_time": "2023-10-04T13:06:49.768Z"
   },
   {
    "duration": 10,
    "start_time": "2023-10-04T13:07:11.387Z"
   },
   {
    "duration": 6,
    "start_time": "2023-10-04T13:07:11.652Z"
   },
   {
    "duration": 4,
    "start_time": "2023-10-04T13:07:11.838Z"
   },
   {
    "duration": 8,
    "start_time": "2023-10-04T13:07:12.509Z"
   },
   {
    "duration": 112,
    "start_time": "2023-10-04T13:07:27.776Z"
   },
   {
    "duration": 8,
    "start_time": "2023-10-04T13:07:37.039Z"
   },
   {
    "duration": 198,
    "start_time": "2023-10-04T13:07:37.701Z"
   },
   {
    "duration": 104,
    "start_time": "2023-10-04T13:10:11.410Z"
   },
   {
    "duration": 134,
    "start_time": "2023-10-04T13:10:16.111Z"
   },
   {
    "duration": 101,
    "start_time": "2023-10-04T13:10:20.707Z"
   },
   {
    "duration": 98,
    "start_time": "2023-10-04T13:10:47.336Z"
   },
   {
    "duration": 106,
    "start_time": "2023-10-04T13:10:54.739Z"
   },
   {
    "duration": 2443,
    "start_time": "2023-10-04T13:11:00.115Z"
   },
   {
    "duration": 8,
    "start_time": "2023-10-04T13:11:03.572Z"
   },
   {
    "duration": 4,
    "start_time": "2023-10-04T13:11:03.871Z"
   },
   {
    "duration": 3,
    "start_time": "2023-10-04T13:11:04.934Z"
   },
   {
    "duration": 8,
    "start_time": "2023-10-04T13:11:06.103Z"
   },
   {
    "duration": 93,
    "start_time": "2023-10-04T13:11:07.377Z"
   },
   {
    "duration": 98,
    "start_time": "2023-10-04T13:12:17.626Z"
   },
   {
    "duration": 103,
    "start_time": "2023-10-04T13:12:23.010Z"
   },
   {
    "duration": 102,
    "start_time": "2023-10-04T13:12:52.005Z"
   },
   {
    "duration": 102,
    "start_time": "2023-10-04T13:13:03.178Z"
   },
   {
    "duration": 101,
    "start_time": "2023-10-04T13:13:09.340Z"
   },
   {
    "duration": 100,
    "start_time": "2023-10-04T13:13:19.861Z"
   },
   {
    "duration": 101,
    "start_time": "2023-10-04T13:13:23.755Z"
   },
   {
    "duration": 96,
    "start_time": "2023-10-04T13:13:39.567Z"
   },
   {
    "duration": 97,
    "start_time": "2023-10-04T13:13:57.241Z"
   },
   {
    "duration": 105,
    "start_time": "2023-10-04T13:17:24.725Z"
   },
   {
    "duration": 137,
    "start_time": "2023-10-04T13:17:58.147Z"
   },
   {
    "duration": 10,
    "start_time": "2023-10-04T13:23:00.329Z"
   },
   {
    "duration": 7,
    "start_time": "2023-10-04T13:23:05.282Z"
   },
   {
    "duration": 8,
    "start_time": "2023-10-04T13:24:13.337Z"
   },
   {
    "duration": 3,
    "start_time": "2023-10-04T13:24:13.571Z"
   },
   {
    "duration": 7,
    "start_time": "2023-10-04T13:24:13.754Z"
   },
   {
    "duration": 12,
    "start_time": "2023-10-04T13:24:20.346Z"
   },
   {
    "duration": 3,
    "start_time": "2023-10-04T13:24:20.863Z"
   },
   {
    "duration": 7,
    "start_time": "2023-10-04T13:24:21.547Z"
   },
   {
    "duration": 3,
    "start_time": "2023-10-04T13:24:52.761Z"
   },
   {
    "duration": 213,
    "start_time": "2023-10-04T13:24:52.768Z"
   },
   {
    "duration": 169,
    "start_time": "2023-10-04T13:24:52.983Z"
   },
   {
    "duration": 92,
    "start_time": "2023-10-04T13:24:53.153Z"
   },
   {
    "duration": 95,
    "start_time": "2023-10-04T13:24:53.247Z"
   },
   {
    "duration": 63,
    "start_time": "2023-10-04T13:24:53.343Z"
   },
   {
    "duration": 125,
    "start_time": "2023-10-04T13:24:53.408Z"
   },
   {
    "duration": 139,
    "start_time": "2023-10-04T13:24:53.534Z"
   },
   {
    "duration": 36,
    "start_time": "2023-10-04T13:24:53.675Z"
   },
   {
    "duration": 110,
    "start_time": "2023-10-04T13:24:53.713Z"
   },
   {
    "duration": 43,
    "start_time": "2023-10-04T13:24:53.911Z"
   },
   {
    "duration": 123,
    "start_time": "2023-10-04T13:24:53.955Z"
   },
   {
    "duration": 129,
    "start_time": "2023-10-04T13:24:54.079Z"
   },
   {
    "duration": 106,
    "start_time": "2023-10-04T13:24:54.210Z"
   },
   {
    "duration": 29,
    "start_time": "2023-10-04T13:24:54.318Z"
   },
   {
    "duration": 35,
    "start_time": "2023-10-04T13:24:54.349Z"
   },
   {
    "duration": 32,
    "start_time": "2023-10-04T13:24:54.386Z"
   },
   {
    "duration": 43,
    "start_time": "2023-10-04T13:24:54.420Z"
   },
   {
    "duration": 41,
    "start_time": "2023-10-04T13:24:54.465Z"
   },
   {
    "duration": 10,
    "start_time": "2023-10-04T13:24:54.508Z"
   },
   {
    "duration": 15,
    "start_time": "2023-10-04T13:24:54.519Z"
   },
   {
    "duration": 22,
    "start_time": "2023-10-04T13:24:54.535Z"
   },
   {
    "duration": 47,
    "start_time": "2023-10-04T13:24:54.559Z"
   },
   {
    "duration": 17,
    "start_time": "2023-10-04T13:24:54.608Z"
   },
   {
    "duration": 38,
    "start_time": "2023-10-04T13:24:54.627Z"
   },
   {
    "duration": 12,
    "start_time": "2023-10-04T13:24:54.667Z"
   },
   {
    "duration": 21,
    "start_time": "2023-10-04T13:24:54.681Z"
   },
   {
    "duration": 31,
    "start_time": "2023-10-04T13:24:54.704Z"
   },
   {
    "duration": 30,
    "start_time": "2023-10-04T13:24:54.738Z"
   },
   {
    "duration": 258,
    "start_time": "2023-10-04T13:24:54.769Z"
   },
   {
    "duration": 9,
    "start_time": "2023-10-04T13:24:55.028Z"
   },
   {
    "duration": 89,
    "start_time": "2023-10-04T13:24:55.039Z"
   },
   {
    "duration": 229,
    "start_time": "2023-10-04T13:24:55.130Z"
   },
   {
    "duration": 186,
    "start_time": "2023-10-04T13:24:55.361Z"
   },
   {
    "duration": 156,
    "start_time": "2023-10-04T13:24:55.549Z"
   },
   {
    "duration": 18,
    "start_time": "2023-10-04T13:24:55.706Z"
   },
   {
    "duration": 4,
    "start_time": "2023-10-04T13:24:55.725Z"
   },
   {
    "duration": 4,
    "start_time": "2023-10-04T13:25:01.384Z"
   },
   {
    "duration": 8,
    "start_time": "2023-10-04T13:25:01.867Z"
   },
   {
    "duration": 111,
    "start_time": "2023-10-04T13:25:19.051Z"
   },
   {
    "duration": 231,
    "start_time": "2023-10-04T13:25:32.817Z"
   },
   {
    "duration": 166,
    "start_time": "2023-10-04T13:25:36.265Z"
   },
   {
    "duration": 146,
    "start_time": "2023-10-04T13:26:11.995Z"
   },
   {
    "duration": 141,
    "start_time": "2023-10-04T13:27:29.640Z"
   },
   {
    "duration": 1433,
    "start_time": "2023-10-04T13:27:35.895Z"
   },
   {
    "duration": 25,
    "start_time": "2023-10-04T13:29:12.163Z"
   },
   {
    "duration": 7,
    "start_time": "2023-10-04T13:29:16.067Z"
   },
   {
    "duration": 4,
    "start_time": "2023-10-04T13:29:43.669Z"
   },
   {
    "duration": 148,
    "start_time": "2023-10-04T13:30:04.451Z"
   },
   {
    "duration": 150,
    "start_time": "2023-10-04T13:30:33.745Z"
   },
   {
    "duration": 226,
    "start_time": "2023-10-04T13:31:06.033Z"
   },
   {
    "duration": 1521,
    "start_time": "2023-10-04T13:33:00.906Z"
   },
   {
    "duration": 2116,
    "start_time": "2023-10-04T13:34:36.193Z"
   },
   {
    "duration": 245,
    "start_time": "2023-10-04T13:34:42.180Z"
   },
   {
    "duration": 305,
    "start_time": "2023-10-04T13:34:50.362Z"
   },
   {
    "duration": 289,
    "start_time": "2023-10-04T13:35:16.950Z"
   },
   {
    "duration": 297,
    "start_time": "2023-10-04T13:35:24.842Z"
   },
   {
    "duration": 334,
    "start_time": "2023-10-04T14:15:56.745Z"
   },
   {
    "duration": 370,
    "start_time": "2023-10-04T14:16:55.924Z"
   },
   {
    "duration": 381,
    "start_time": "2023-10-04T14:17:39.499Z"
   },
   {
    "duration": 436,
    "start_time": "2023-10-04T14:17:47.945Z"
   },
   {
    "duration": 328,
    "start_time": "2023-10-04T14:19:03.878Z"
   },
   {
    "duration": 356,
    "start_time": "2023-10-04T14:19:54.995Z"
   },
   {
    "duration": 308,
    "start_time": "2023-10-04T14:20:34.371Z"
   },
   {
    "duration": 371,
    "start_time": "2023-10-04T14:21:06.416Z"
   },
   {
    "duration": 9,
    "start_time": "2023-10-04T14:21:40.196Z"
   },
   {
    "duration": 10,
    "start_time": "2023-10-04T14:22:10.054Z"
   },
   {
    "duration": 10,
    "start_time": "2023-10-04T14:22:29.186Z"
   },
   {
    "duration": 14,
    "start_time": "2023-10-04T14:23:35.234Z"
   },
   {
    "duration": 1621,
    "start_time": "2023-10-04T14:23:56.950Z"
   },
   {
    "duration": 2064,
    "start_time": "2023-10-04T14:24:14.549Z"
   },
   {
    "duration": 9,
    "start_time": "2023-10-04T14:25:05.536Z"
   },
   {
    "duration": 9,
    "start_time": "2023-10-04T14:25:19.223Z"
   },
   {
    "duration": 16,
    "start_time": "2023-10-04T14:33:32.452Z"
   },
   {
    "duration": 13,
    "start_time": "2023-10-04T14:33:59.778Z"
   },
   {
    "duration": 220,
    "start_time": "2023-10-04T14:36:12.383Z"
   },
   {
    "duration": 216,
    "start_time": "2023-10-04T14:36:27.845Z"
   },
   {
    "duration": 237,
    "start_time": "2023-10-04T14:36:34.190Z"
   },
   {
    "duration": 224,
    "start_time": "2023-10-04T14:36:43.928Z"
   },
   {
    "duration": 287,
    "start_time": "2023-10-04T14:36:59.143Z"
   },
   {
    "duration": 326,
    "start_time": "2023-10-04T14:37:05.153Z"
   },
   {
    "duration": 373,
    "start_time": "2023-10-04T14:37:09.780Z"
   },
   {
    "duration": 407,
    "start_time": "2023-10-04T14:37:19.575Z"
   },
   {
    "duration": 335,
    "start_time": "2023-10-04T14:37:28.830Z"
   },
   {
    "duration": 404,
    "start_time": "2023-10-04T14:37:35.802Z"
   },
   {
    "duration": 476,
    "start_time": "2023-10-04T14:37:41.712Z"
   },
   {
    "duration": 96,
    "start_time": "2023-10-04T14:38:30.993Z"
   },
   {
    "duration": 306,
    "start_time": "2023-10-04T14:38:39.804Z"
   },
   {
    "duration": 312,
    "start_time": "2023-10-04T14:39:00.924Z"
   },
   {
    "duration": 322,
    "start_time": "2023-10-04T14:39:49.092Z"
   },
   {
    "duration": 351,
    "start_time": "2023-10-04T14:40:51.265Z"
   },
   {
    "duration": 557,
    "start_time": "2023-10-04T14:41:12.955Z"
   },
   {
    "duration": 9,
    "start_time": "2023-10-04T14:42:34.859Z"
   },
   {
    "duration": 11,
    "start_time": "2023-10-04T14:42:47.367Z"
   },
   {
    "duration": 46,
    "start_time": "2023-10-04T14:44:40.022Z"
   },
   {
    "duration": 389,
    "start_time": "2023-10-04T14:57:48.736Z"
   },
   {
    "duration": 404,
    "start_time": "2023-10-04T14:58:02.861Z"
   },
   {
    "duration": 369,
    "start_time": "2023-10-04T14:58:16.321Z"
   },
   {
    "duration": 332,
    "start_time": "2023-10-04T14:58:36.953Z"
   },
   {
    "duration": 471,
    "start_time": "2023-10-04T14:58:44.702Z"
   },
   {
    "duration": 332,
    "start_time": "2023-10-04T14:58:50.595Z"
   },
   {
    "duration": 408,
    "start_time": "2023-10-04T14:59:51.513Z"
   },
   {
    "duration": 434,
    "start_time": "2023-10-04T15:00:00.167Z"
   },
   {
    "duration": 481,
    "start_time": "2023-10-04T15:01:18.184Z"
   },
   {
    "duration": 576,
    "start_time": "2023-10-04T15:01:28.584Z"
   },
   {
    "duration": 11,
    "start_time": "2023-10-04T15:02:01.755Z"
   },
   {
    "duration": 9,
    "start_time": "2023-10-04T15:02:12.656Z"
   },
   {
    "duration": 8,
    "start_time": "2023-10-04T15:02:49.821Z"
   },
   {
    "duration": 1333,
    "start_time": "2023-10-06T16:30:19.805Z"
   },
   {
    "duration": 78,
    "start_time": "2023-10-06T16:30:21.140Z"
   },
   {
    "duration": 68,
    "start_time": "2023-10-06T16:30:21.220Z"
   },
   {
    "duration": 52,
    "start_time": "2023-10-06T16:30:21.290Z"
   },
   {
    "duration": 13,
    "start_time": "2023-10-06T16:30:21.343Z"
   },
   {
    "duration": 12,
    "start_time": "2023-10-06T16:30:21.358Z"
   },
   {
    "duration": 14,
    "start_time": "2023-10-06T16:30:21.372Z"
   },
   {
    "duration": 35,
    "start_time": "2023-10-06T16:30:21.388Z"
   },
   {
    "duration": 15,
    "start_time": "2023-10-06T16:30:21.425Z"
   },
   {
    "duration": 18,
    "start_time": "2023-10-06T16:30:21.443Z"
   },
   {
    "duration": 6,
    "start_time": "2023-10-06T16:30:21.463Z"
   },
   {
    "duration": 10,
    "start_time": "2023-10-06T16:30:21.470Z"
   },
   {
    "duration": 6,
    "start_time": "2023-10-06T16:30:21.482Z"
   },
   {
    "duration": 9,
    "start_time": "2023-10-06T16:30:21.489Z"
   },
   {
    "duration": 10,
    "start_time": "2023-10-06T16:30:21.500Z"
   },
   {
    "duration": 10,
    "start_time": "2023-10-06T16:30:21.511Z"
   },
   {
    "duration": 30,
    "start_time": "2023-10-06T16:30:21.522Z"
   },
   {
    "duration": 24,
    "start_time": "2023-10-06T16:30:21.553Z"
   },
   {
    "duration": 10,
    "start_time": "2023-10-06T16:30:21.579Z"
   },
   {
    "duration": 7,
    "start_time": "2023-10-06T16:30:21.591Z"
   },
   {
    "duration": 8,
    "start_time": "2023-10-06T16:30:21.600Z"
   },
   {
    "duration": 8,
    "start_time": "2023-10-06T16:30:21.609Z"
   },
   {
    "duration": 12,
    "start_time": "2023-10-06T16:30:21.619Z"
   },
   {
    "duration": 24,
    "start_time": "2023-10-06T16:30:21.632Z"
   },
   {
    "duration": 21,
    "start_time": "2023-10-06T16:30:21.658Z"
   },
   {
    "duration": 10,
    "start_time": "2023-10-06T16:30:21.681Z"
   },
   {
    "duration": 99,
    "start_time": "2023-10-06T16:30:21.692Z"
   },
   {
    "duration": 0,
    "start_time": "2023-10-06T16:30:21.793Z"
   },
   {
    "duration": 0,
    "start_time": "2023-10-06T16:30:21.794Z"
   },
   {
    "duration": 5,
    "start_time": "2023-10-06T16:30:33.182Z"
   },
   {
    "duration": 4,
    "start_time": "2023-10-06T16:30:34.314Z"
   },
   {
    "duration": 3,
    "start_time": "2023-10-06T16:30:35.449Z"
   },
   {
    "duration": 7,
    "start_time": "2023-10-06T16:30:35.796Z"
   },
   {
    "duration": 2142,
    "start_time": "2023-10-06T16:31:08.021Z"
   },
   {
    "duration": 0,
    "start_time": "2023-10-06T16:31:10.165Z"
   },
   {
    "duration": 0,
    "start_time": "2023-10-06T16:31:10.166Z"
   },
   {
    "duration": 0,
    "start_time": "2023-10-06T16:31:10.168Z"
   },
   {
    "duration": 3,
    "start_time": "2023-10-06T16:31:27.495Z"
   },
   {
    "duration": 27,
    "start_time": "2023-10-06T16:31:27.506Z"
   },
   {
    "duration": 31,
    "start_time": "2023-10-06T16:31:27.535Z"
   },
   {
    "duration": 17,
    "start_time": "2023-10-06T16:31:27.567Z"
   },
   {
    "duration": 9,
    "start_time": "2023-10-06T16:31:27.586Z"
   },
   {
    "duration": 30,
    "start_time": "2023-10-06T16:31:27.596Z"
   },
   {
    "duration": 13,
    "start_time": "2023-10-06T16:31:27.628Z"
   },
   {
    "duration": 12,
    "start_time": "2023-10-06T16:31:27.643Z"
   },
   {
    "duration": 7,
    "start_time": "2023-10-06T16:31:27.657Z"
   },
   {
    "duration": 10,
    "start_time": "2023-10-06T16:31:27.665Z"
   },
   {
    "duration": 4,
    "start_time": "2023-10-06T16:31:27.678Z"
   },
   {
    "duration": 16,
    "start_time": "2023-10-06T16:31:27.684Z"
   },
   {
    "duration": 11,
    "start_time": "2023-10-06T16:31:27.702Z"
   },
   {
    "duration": 14,
    "start_time": "2023-10-06T16:31:27.714Z"
   },
   {
    "duration": 20,
    "start_time": "2023-10-06T16:31:27.730Z"
   },
   {
    "duration": 13,
    "start_time": "2023-10-06T16:31:27.751Z"
   },
   {
    "duration": 40,
    "start_time": "2023-10-06T16:31:27.766Z"
   },
   {
    "duration": 8,
    "start_time": "2023-10-06T16:31:27.807Z"
   },
   {
    "duration": 10,
    "start_time": "2023-10-06T16:31:27.816Z"
   },
   {
    "duration": 15,
    "start_time": "2023-10-06T16:31:27.828Z"
   },
   {
    "duration": 7,
    "start_time": "2023-10-06T16:31:27.844Z"
   },
   {
    "duration": 13,
    "start_time": "2023-10-06T16:31:27.852Z"
   },
   {
    "duration": 12,
    "start_time": "2023-10-06T16:31:27.867Z"
   },
   {
    "duration": 17,
    "start_time": "2023-10-06T16:31:27.881Z"
   },
   {
    "duration": 19,
    "start_time": "2023-10-06T16:31:27.900Z"
   },
   {
    "duration": 35,
    "start_time": "2023-10-06T16:31:27.920Z"
   },
   {
    "duration": 21,
    "start_time": "2023-10-06T16:31:27.957Z"
   },
   {
    "duration": 9,
    "start_time": "2023-10-06T16:31:27.980Z"
   },
   {
    "duration": 5,
    "start_time": "2023-10-06T16:31:27.992Z"
   },
   {
    "duration": 21,
    "start_time": "2023-10-06T16:31:27.998Z"
   },
   {
    "duration": 2,
    "start_time": "2023-10-06T16:31:58.963Z"
   },
   {
    "duration": 54,
    "start_time": "2023-10-06T16:31:58.969Z"
   },
   {
    "duration": 41,
    "start_time": "2023-10-06T16:31:59.025Z"
   },
   {
    "duration": 17,
    "start_time": "2023-10-06T16:31:59.068Z"
   },
   {
    "duration": 43,
    "start_time": "2023-10-06T16:31:59.087Z"
   },
   {
    "duration": 61,
    "start_time": "2023-10-06T16:31:59.134Z"
   },
   {
    "duration": 62,
    "start_time": "2023-10-06T16:31:59.196Z"
   },
   {
    "duration": 62,
    "start_time": "2023-10-06T16:31:59.260Z"
   },
   {
    "duration": 39,
    "start_time": "2023-10-06T16:31:59.323Z"
   },
   {
    "duration": 52,
    "start_time": "2023-10-06T16:31:59.364Z"
   },
   {
    "duration": 68,
    "start_time": "2023-10-06T16:31:59.419Z"
   },
   {
    "duration": 62,
    "start_time": "2023-10-06T16:31:59.488Z"
   },
   {
    "duration": 44,
    "start_time": "2023-10-06T16:31:59.551Z"
   },
   {
    "duration": 58,
    "start_time": "2023-10-06T16:31:59.596Z"
   },
   {
    "duration": 41,
    "start_time": "2023-10-06T16:31:59.655Z"
   },
   {
    "duration": 33,
    "start_time": "2023-10-06T16:31:59.697Z"
   },
   {
    "duration": 31,
    "start_time": "2023-10-06T16:31:59.732Z"
   },
   {
    "duration": 33,
    "start_time": "2023-10-06T16:31:59.764Z"
   },
   {
    "duration": 31,
    "start_time": "2023-10-06T16:31:59.799Z"
   },
   {
    "duration": 26,
    "start_time": "2023-10-06T16:31:59.832Z"
   },
   {
    "duration": 24,
    "start_time": "2023-10-06T16:31:59.859Z"
   },
   {
    "duration": 25,
    "start_time": "2023-10-06T16:31:59.885Z"
   },
   {
    "duration": 22,
    "start_time": "2023-10-06T16:31:59.911Z"
   },
   {
    "duration": 31,
    "start_time": "2023-10-06T16:31:59.935Z"
   },
   {
    "duration": 15,
    "start_time": "2023-10-06T16:31:59.967Z"
   },
   {
    "duration": 47,
    "start_time": "2023-10-06T16:31:59.983Z"
   },
   {
    "duration": 58,
    "start_time": "2023-10-06T16:32:00.032Z"
   },
   {
    "duration": 37,
    "start_time": "2023-10-06T16:32:00.091Z"
   },
   {
    "duration": 39,
    "start_time": "2023-10-06T16:32:00.131Z"
   },
   {
    "duration": 3,
    "start_time": "2023-10-06T16:32:05.714Z"
   },
   {
    "duration": 8,
    "start_time": "2023-10-06T16:32:06.124Z"
   },
   {
    "duration": 2,
    "start_time": "2023-10-06T16:32:19.904Z"
   },
   {
    "duration": 49,
    "start_time": "2023-10-06T16:32:19.911Z"
   },
   {
    "duration": 27,
    "start_time": "2023-10-06T16:32:19.962Z"
   },
   {
    "duration": 15,
    "start_time": "2023-10-06T16:32:19.991Z"
   },
   {
    "duration": 29,
    "start_time": "2023-10-06T16:32:20.008Z"
   },
   {
    "duration": 31,
    "start_time": "2023-10-06T16:32:20.038Z"
   },
   {
    "duration": 24,
    "start_time": "2023-10-06T16:32:20.071Z"
   },
   {
    "duration": 32,
    "start_time": "2023-10-06T16:32:20.097Z"
   },
   {
    "duration": 8,
    "start_time": "2023-10-06T16:32:20.130Z"
   },
   {
    "duration": 11,
    "start_time": "2023-10-06T16:32:20.140Z"
   },
   {
    "duration": 17,
    "start_time": "2023-10-06T16:32:20.154Z"
   },
   {
    "duration": 7,
    "start_time": "2023-10-06T16:32:20.173Z"
   },
   {
    "duration": 23,
    "start_time": "2023-10-06T16:32:20.182Z"
   },
   {
    "duration": 29,
    "start_time": "2023-10-06T16:32:20.206Z"
   },
   {
    "duration": 13,
    "start_time": "2023-10-06T16:32:20.236Z"
   },
   {
    "duration": 24,
    "start_time": "2023-10-06T16:32:20.250Z"
   },
   {
    "duration": 42,
    "start_time": "2023-10-06T16:32:20.276Z"
   },
   {
    "duration": 15,
    "start_time": "2023-10-06T16:32:20.319Z"
   },
   {
    "duration": 39,
    "start_time": "2023-10-06T16:32:20.335Z"
   },
   {
    "duration": 18,
    "start_time": "2023-10-06T16:32:20.376Z"
   },
   {
    "duration": 36,
    "start_time": "2023-10-06T16:32:20.395Z"
   },
   {
    "duration": 31,
    "start_time": "2023-10-06T16:32:20.432Z"
   },
   {
    "duration": 12,
    "start_time": "2023-10-06T16:32:20.465Z"
   },
   {
    "duration": 11,
    "start_time": "2023-10-06T16:32:20.479Z"
   },
   {
    "duration": 8,
    "start_time": "2023-10-06T16:32:20.491Z"
   },
   {
    "duration": 9,
    "start_time": "2023-10-06T16:32:20.500Z"
   },
   {
    "duration": 21,
    "start_time": "2023-10-06T16:32:20.510Z"
   },
   {
    "duration": 40,
    "start_time": "2023-10-06T16:32:20.533Z"
   },
   {
    "duration": 9,
    "start_time": "2023-10-06T16:32:20.576Z"
   },
   {
    "duration": 4,
    "start_time": "2023-10-06T16:32:26.243Z"
   },
   {
    "duration": 8,
    "start_time": "2023-10-06T16:32:26.654Z"
   },
   {
    "duration": 2,
    "start_time": "2023-10-06T16:44:27.896Z"
   },
   {
    "duration": 98,
    "start_time": "2023-10-06T16:44:27.900Z"
   },
   {
    "duration": 51,
    "start_time": "2023-10-06T16:44:28.000Z"
   },
   {
    "duration": 27,
    "start_time": "2023-10-06T16:44:28.053Z"
   },
   {
    "duration": 17,
    "start_time": "2023-10-06T16:44:28.081Z"
   },
   {
    "duration": 45,
    "start_time": "2023-10-06T16:44:28.100Z"
   },
   {
    "duration": 49,
    "start_time": "2023-10-06T16:44:28.147Z"
   },
   {
    "duration": 46,
    "start_time": "2023-10-06T16:44:28.198Z"
   },
   {
    "duration": 47,
    "start_time": "2023-10-06T16:44:28.246Z"
   },
   {
    "duration": 60,
    "start_time": "2023-10-06T16:44:28.295Z"
   },
   {
    "duration": 68,
    "start_time": "2023-10-06T16:44:28.357Z"
   },
   {
    "duration": 60,
    "start_time": "2023-10-06T16:44:28.427Z"
   },
   {
    "duration": 39,
    "start_time": "2023-10-06T16:44:28.489Z"
   },
   {
    "duration": 32,
    "start_time": "2023-10-06T16:44:28.530Z"
   },
   {
    "duration": 38,
    "start_time": "2023-10-06T16:44:28.564Z"
   },
   {
    "duration": 35,
    "start_time": "2023-10-06T16:44:28.605Z"
   },
   {
    "duration": 26,
    "start_time": "2023-10-06T16:44:28.641Z"
   },
   {
    "duration": 37,
    "start_time": "2023-10-06T16:44:28.669Z"
   },
   {
    "duration": 41,
    "start_time": "2023-10-06T16:44:28.708Z"
   },
   {
    "duration": 22,
    "start_time": "2023-10-06T16:44:28.751Z"
   },
   {
    "duration": 38,
    "start_time": "2023-10-06T16:44:28.775Z"
   },
   {
    "duration": 41,
    "start_time": "2023-10-06T16:44:28.815Z"
   },
   {
    "duration": 32,
    "start_time": "2023-10-06T16:44:28.858Z"
   },
   {
    "duration": 29,
    "start_time": "2023-10-06T16:44:28.893Z"
   },
   {
    "duration": 53,
    "start_time": "2023-10-06T16:44:28.924Z"
   },
   {
    "duration": 41,
    "start_time": "2023-10-06T16:44:28.979Z"
   },
   {
    "duration": 30,
    "start_time": "2023-10-06T16:44:29.022Z"
   },
   {
    "duration": 52,
    "start_time": "2023-10-06T16:44:29.054Z"
   },
   {
    "duration": 33,
    "start_time": "2023-10-06T16:44:29.108Z"
   },
   {
    "duration": 40,
    "start_time": "2023-10-06T16:44:29.143Z"
   },
   {
    "duration": 308,
    "start_time": "2023-10-06T16:44:29.185Z"
   },
   {
    "duration": 9,
    "start_time": "2023-10-06T16:44:29.495Z"
   },
   {
    "duration": 40,
    "start_time": "2023-10-06T16:44:29.505Z"
   },
   {
    "duration": 34,
    "start_time": "2023-10-06T16:44:29.546Z"
   },
   {
    "duration": 59,
    "start_time": "2023-10-06T16:44:29.582Z"
   },
   {
    "duration": 116,
    "start_time": "2023-10-06T16:44:29.643Z"
   },
   {
    "duration": 9,
    "start_time": "2023-10-06T16:44:29.761Z"
   },
   {
    "duration": 58,
    "start_time": "2023-10-06T16:44:29.772Z"
   },
   {
    "duration": 359,
    "start_time": "2023-10-06T16:44:29.832Z"
   },
   {
    "duration": 9,
    "start_time": "2023-10-06T16:44:30.193Z"
   },
   {
    "duration": 400,
    "start_time": "2023-10-06T16:44:30.204Z"
   },
   {
    "duration": 10,
    "start_time": "2023-10-06T16:44:30.606Z"
   },
   {
    "duration": 79,
    "start_time": "2023-10-06T16:44:30.618Z"
   },
   {
    "duration": 467,
    "start_time": "2023-10-06T16:44:30.699Z"
   },
   {
    "duration": 10,
    "start_time": "2023-10-06T16:44:31.168Z"
   },
   {
    "duration": 36,
    "start_time": "2023-10-06T16:44:31.179Z"
   },
   {
    "duration": 3,
    "start_time": "2023-10-06T16:47:24.522Z"
   },
   {
    "duration": 12,
    "start_time": "2023-10-06T16:47:50.237Z"
   },
   {
    "duration": 11,
    "start_time": "2023-10-06T16:47:57.182Z"
   },
   {
    "duration": 30,
    "start_time": "2023-10-06T16:50:21.928Z"
   },
   {
    "duration": 9,
    "start_time": "2023-10-06T16:50:47.239Z"
   },
   {
    "duration": 14,
    "start_time": "2023-10-06T16:51:02.738Z"
   },
   {
    "duration": 10,
    "start_time": "2023-10-06T16:51:13.235Z"
   },
   {
    "duration": 11,
    "start_time": "2023-10-06T16:51:15.583Z"
   },
   {
    "duration": 9,
    "start_time": "2023-10-06T16:51:57.903Z"
   },
   {
    "duration": 11,
    "start_time": "2023-10-06T16:51:58.379Z"
   },
   {
    "duration": 20,
    "start_time": "2023-10-06T16:52:39.143Z"
   },
   {
    "duration": 12,
    "start_time": "2023-10-06T16:52:55.296Z"
   },
   {
    "duration": 7,
    "start_time": "2023-10-06T16:56:19.604Z"
   },
   {
    "duration": 33,
    "start_time": "2023-10-06T16:56:54.960Z"
   },
   {
    "duration": 27,
    "start_time": "2023-10-06T16:57:03.473Z"
   },
   {
    "duration": 9,
    "start_time": "2023-10-06T16:57:40.014Z"
   },
   {
    "duration": 19,
    "start_time": "2023-10-06T16:57:51.956Z"
   },
   {
    "duration": 7,
    "start_time": "2023-10-06T17:00:07.485Z"
   },
   {
    "duration": 17,
    "start_time": "2023-10-06T17:00:16.070Z"
   },
   {
    "duration": 13,
    "start_time": "2023-10-06T17:04:02.082Z"
   },
   {
    "duration": 13,
    "start_time": "2023-10-06T17:04:09.122Z"
   },
   {
    "duration": 13,
    "start_time": "2023-10-06T17:04:27.595Z"
   },
   {
    "duration": 115,
    "start_time": "2023-10-06T17:04:39.117Z"
   },
   {
    "duration": 15,
    "start_time": "2023-10-06T17:04:44.490Z"
   },
   {
    "duration": 3,
    "start_time": "2023-10-06T17:04:58.289Z"
   },
   {
    "duration": 5,
    "start_time": "2023-10-06T17:05:10.665Z"
   },
   {
    "duration": 18,
    "start_time": "2023-10-06T17:05:21.958Z"
   },
   {
    "duration": 12,
    "start_time": "2023-10-06T17:05:31.826Z"
   },
   {
    "duration": 15,
    "start_time": "2023-10-06T17:06:51.057Z"
   },
   {
    "duration": 140,
    "start_time": "2023-10-06T17:10:02.402Z"
   },
   {
    "duration": 246,
    "start_time": "2023-10-06T17:10:10.465Z"
   },
   {
    "duration": 325,
    "start_time": "2023-10-06T17:10:22.384Z"
   },
   {
    "duration": 296,
    "start_time": "2023-10-06T17:10:25.091Z"
   },
   {
    "duration": 508,
    "start_time": "2023-10-06T17:11:11.608Z"
   },
   {
    "duration": 347,
    "start_time": "2023-10-06T17:11:17.307Z"
   },
   {
    "duration": 310,
    "start_time": "2023-10-06T17:11:21.919Z"
   },
   {
    "duration": 267,
    "start_time": "2023-10-06T17:11:26.674Z"
   },
   {
    "duration": 324,
    "start_time": "2023-10-06T17:12:55.921Z"
   },
   {
    "duration": 9,
    "start_time": "2023-10-06T17:14:14.768Z"
   },
   {
    "duration": 221,
    "start_time": "2023-10-06T17:16:47.476Z"
   },
   {
    "duration": 8,
    "start_time": "2023-10-06T17:17:10.213Z"
   },
   {
    "duration": 16,
    "start_time": "2023-10-06T17:23:51.249Z"
   },
   {
    "duration": 428,
    "start_time": "2023-10-06T17:24:22.590Z"
   },
   {
    "duration": 292,
    "start_time": "2023-10-06T17:24:31.897Z"
   },
   {
    "duration": 298,
    "start_time": "2023-10-06T17:25:05.955Z"
   },
   {
    "duration": 347,
    "start_time": "2023-10-06T17:25:34.598Z"
   },
   {
    "duration": 331,
    "start_time": "2023-10-06T17:25:40.219Z"
   },
   {
    "duration": 494,
    "start_time": "2023-10-06T17:26:03.648Z"
   },
   {
    "duration": 402,
    "start_time": "2023-10-06T17:26:10.726Z"
   },
   {
    "duration": 467,
    "start_time": "2023-10-06T17:26:26.965Z"
   },
   {
    "duration": 347,
    "start_time": "2023-10-06T17:26:40.963Z"
   },
   {
    "duration": 352,
    "start_time": "2023-10-06T17:28:55.310Z"
   },
   {
    "duration": 8,
    "start_time": "2023-10-06T17:29:16.001Z"
   },
   {
    "duration": 9,
    "start_time": "2023-10-06T17:29:22.986Z"
   },
   {
    "duration": 474,
    "start_time": "2023-10-06T17:31:10.935Z"
   },
   {
    "duration": 284,
    "start_time": "2023-10-06T17:34:12.363Z"
   },
   {
    "duration": 320,
    "start_time": "2023-10-06T17:35:00.263Z"
   },
   {
    "duration": 9,
    "start_time": "2023-10-06T17:36:22.751Z"
   },
   {
    "duration": 363,
    "start_time": "2023-10-06T17:43:12.772Z"
   },
   {
    "duration": 322,
    "start_time": "2023-10-06T17:43:20.341Z"
   },
   {
    "duration": 9,
    "start_time": "2023-10-06T17:44:22.770Z"
   },
   {
    "duration": 13,
    "start_time": "2023-10-06T17:59:19.878Z"
   },
   {
    "duration": 16,
    "start_time": "2023-10-06T18:04:47.343Z"
   },
   {
    "duration": 17,
    "start_time": "2023-10-06T18:04:57.506Z"
   },
   {
    "duration": 9,
    "start_time": "2023-10-06T18:08:01.223Z"
   },
   {
    "duration": 18,
    "start_time": "2023-10-06T18:15:56.590Z"
   },
   {
    "duration": 30,
    "start_time": "2023-10-06T18:16:11.336Z"
   },
   {
    "duration": 1618,
    "start_time": "2023-10-06T18:26:44.342Z"
   },
   {
    "duration": 1493,
    "start_time": "2023-10-06T18:34:52.985Z"
   },
   {
    "duration": 17,
    "start_time": "2023-10-06T18:35:02.382Z"
   },
   {
    "duration": 49,
    "start_time": "2023-10-07T02:33:26.623Z"
   },
   {
    "duration": 1461,
    "start_time": "2023-10-07T02:33:38.257Z"
   },
   {
    "duration": 76,
    "start_time": "2023-10-07T02:33:39.720Z"
   },
   {
    "duration": 77,
    "start_time": "2023-10-07T02:33:39.798Z"
   },
   {
    "duration": 62,
    "start_time": "2023-10-07T02:33:39.878Z"
   },
   {
    "duration": 14,
    "start_time": "2023-10-07T02:33:39.942Z"
   },
   {
    "duration": 95,
    "start_time": "2023-10-07T02:33:39.958Z"
   },
   {
    "duration": 41,
    "start_time": "2023-10-07T02:33:40.055Z"
   },
   {
    "duration": 33,
    "start_time": "2023-10-07T02:33:40.097Z"
   },
   {
    "duration": 8,
    "start_time": "2023-10-07T02:33:40.131Z"
   },
   {
    "duration": 12,
    "start_time": "2023-10-07T02:33:40.143Z"
   },
   {
    "duration": 32,
    "start_time": "2023-10-07T02:33:40.157Z"
   },
   {
    "duration": 29,
    "start_time": "2023-10-07T02:33:40.191Z"
   },
   {
    "duration": 39,
    "start_time": "2023-10-07T02:33:40.221Z"
   },
   {
    "duration": 35,
    "start_time": "2023-10-07T02:33:40.262Z"
   },
   {
    "duration": 24,
    "start_time": "2023-10-07T02:33:40.299Z"
   },
   {
    "duration": 20,
    "start_time": "2023-10-07T02:33:40.325Z"
   },
   {
    "duration": 31,
    "start_time": "2023-10-07T02:33:40.347Z"
   },
   {
    "duration": 14,
    "start_time": "2023-10-07T02:33:40.380Z"
   },
   {
    "duration": 30,
    "start_time": "2023-10-07T02:33:40.396Z"
   },
   {
    "duration": 5,
    "start_time": "2023-10-07T02:33:40.428Z"
   },
   {
    "duration": 23,
    "start_time": "2023-10-07T02:33:40.435Z"
   },
   {
    "duration": 36,
    "start_time": "2023-10-07T02:33:40.459Z"
   },
   {
    "duration": 25,
    "start_time": "2023-10-07T02:33:40.497Z"
   },
   {
    "duration": 14,
    "start_time": "2023-10-07T02:33:40.524Z"
   },
   {
    "duration": 33,
    "start_time": "2023-10-07T02:33:40.540Z"
   },
   {
    "duration": 12,
    "start_time": "2023-10-07T02:33:40.575Z"
   },
   {
    "duration": 9,
    "start_time": "2023-10-07T02:33:40.589Z"
   },
   {
    "duration": 15,
    "start_time": "2023-10-07T02:33:40.603Z"
   },
   {
    "duration": 8,
    "start_time": "2023-10-07T02:33:40.619Z"
   },
   {
    "duration": 20,
    "start_time": "2023-10-07T02:33:40.629Z"
   },
   {
    "duration": 279,
    "start_time": "2023-10-07T02:33:40.651Z"
   },
   {
    "duration": 8,
    "start_time": "2023-10-07T02:33:40.931Z"
   },
   {
    "duration": 27,
    "start_time": "2023-10-07T02:33:40.941Z"
   },
   {
    "duration": 17,
    "start_time": "2023-10-07T02:33:40.970Z"
   },
   {
    "duration": 10,
    "start_time": "2023-10-07T02:33:40.989Z"
   },
   {
    "duration": 119,
    "start_time": "2023-10-07T02:33:41.000Z"
   },
   {
    "duration": 8,
    "start_time": "2023-10-07T02:33:41.121Z"
   },
   {
    "duration": 39,
    "start_time": "2023-10-07T02:33:41.131Z"
   },
   {
    "duration": 382,
    "start_time": "2023-10-07T02:33:41.171Z"
   },
   {
    "duration": 10,
    "start_time": "2023-10-07T02:33:41.555Z"
   },
   {
    "duration": 430,
    "start_time": "2023-10-07T02:33:41.566Z"
   },
   {
    "duration": 22,
    "start_time": "2023-10-07T02:33:41.998Z"
   },
   {
    "duration": 48,
    "start_time": "2023-10-07T02:33:42.022Z"
   },
   {
    "duration": 548,
    "start_time": "2023-10-07T02:33:42.072Z"
   },
   {
    "duration": 11,
    "start_time": "2023-10-07T02:33:42.622Z"
   },
   {
    "duration": 17,
    "start_time": "2023-10-07T02:33:42.635Z"
   },
   {
    "duration": 22,
    "start_time": "2023-10-07T02:33:42.654Z"
   },
   {
    "duration": 37,
    "start_time": "2023-10-07T02:33:42.678Z"
   },
   {
    "duration": 9,
    "start_time": "2023-10-07T02:33:42.717Z"
   },
   {
    "duration": 18,
    "start_time": "2023-10-07T02:33:42.728Z"
   },
   {
    "duration": 22,
    "start_time": "2023-10-07T02:33:42.747Z"
   },
   {
    "duration": 8,
    "start_time": "2023-10-07T02:33:42.771Z"
   },
   {
    "duration": 16,
    "start_time": "2023-10-07T02:33:42.780Z"
   },
   {
    "duration": 17,
    "start_time": "2023-10-07T02:33:42.797Z"
   },
   {
    "duration": 370,
    "start_time": "2023-10-07T02:33:42.816Z"
   },
   {
    "duration": 29,
    "start_time": "2023-10-07T02:33:43.188Z"
   },
   {
    "duration": 401,
    "start_time": "2023-10-07T02:33:43.219Z"
   },
   {
    "duration": 10,
    "start_time": "2023-10-07T02:33:43.622Z"
   },
   {
    "duration": 393,
    "start_time": "2023-10-07T02:33:43.633Z"
   },
   {
    "duration": 10,
    "start_time": "2023-10-07T02:33:44.028Z"
   },
   {
    "duration": 427,
    "start_time": "2023-10-07T02:33:44.040Z"
   },
   {
    "duration": 9,
    "start_time": "2023-10-07T02:33:44.469Z"
   },
   {
    "duration": 39,
    "start_time": "2023-10-07T02:33:44.480Z"
   },
   {
    "duration": 25,
    "start_time": "2023-10-07T02:33:44.522Z"
   },
   {
    "duration": 20,
    "start_time": "2023-10-07T02:33:44.549Z"
   },
   {
    "duration": 130,
    "start_time": "2023-10-07T02:33:44.570Z"
   },
   {
    "duration": 13,
    "start_time": "2023-10-07T02:36:26.862Z"
   },
   {
    "duration": 13,
    "start_time": "2023-10-07T02:36:41.114Z"
   },
   {
    "duration": 3,
    "start_time": "2023-10-07T02:36:57.849Z"
   },
   {
    "duration": 1472,
    "start_time": "2023-10-07T02:39:50.780Z"
   },
   {
    "duration": 5,
    "start_time": "2023-10-07T02:41:30.494Z"
   },
   {
    "duration": 5,
    "start_time": "2023-10-07T02:41:36.168Z"
   },
   {
    "duration": 6,
    "start_time": "2023-10-07T02:41:42.960Z"
   },
   {
    "duration": 221,
    "start_time": "2023-10-07T02:41:57.475Z"
   },
   {
    "duration": 34,
    "start_time": "2023-10-07T02:42:01.685Z"
   },
   {
    "duration": 2545,
    "start_time": "2023-10-07T02:42:11.190Z"
   },
   {
    "duration": 5,
    "start_time": "2023-10-07T02:42:20.060Z"
   },
   {
    "duration": 7,
    "start_time": "2023-10-07T02:42:27.215Z"
   },
   {
    "duration": 1651,
    "start_time": "2023-10-07T02:43:18.544Z"
   },
   {
    "duration": 2045,
    "start_time": "2023-10-07T02:43:35.937Z"
   },
   {
    "duration": 17,
    "start_time": "2023-10-07T02:43:55.096Z"
   },
   {
    "duration": 4,
    "start_time": "2023-10-07T02:44:15.258Z"
   },
   {
    "duration": 4,
    "start_time": "2023-10-07T02:44:20.449Z"
   },
   {
    "duration": 4,
    "start_time": "2023-10-07T02:49:31.193Z"
   },
   {
    "duration": 11,
    "start_time": "2023-10-07T02:49:56.711Z"
   },
   {
    "duration": 7,
    "start_time": "2023-10-07T02:50:06.248Z"
   },
   {
    "duration": 3,
    "start_time": "2023-10-07T02:50:10.372Z"
   },
   {
    "duration": 9,
    "start_time": "2023-10-07T02:50:27.519Z"
   },
   {
    "duration": 4,
    "start_time": "2023-10-07T02:50:57.214Z"
   },
   {
    "duration": 7,
    "start_time": "2023-10-07T02:50:57.756Z"
   },
   {
    "duration": 15,
    "start_time": "2023-10-07T02:51:33.323Z"
   },
   {
    "duration": 4,
    "start_time": "2023-10-07T02:53:14.777Z"
   },
   {
    "duration": 16,
    "start_time": "2023-10-07T02:53:15.421Z"
   },
   {
    "duration": 3,
    "start_time": "2023-10-07T02:56:58.123Z"
   },
   {
    "duration": 5,
    "start_time": "2023-10-07T02:57:13.014Z"
   },
   {
    "duration": 9,
    "start_time": "2023-10-07T02:57:13.562Z"
   },
   {
    "duration": 5,
    "start_time": "2023-10-07T02:58:05.886Z"
   },
   {
    "duration": 11,
    "start_time": "2023-10-07T02:58:06.258Z"
   },
   {
    "duration": 14,
    "start_time": "2023-10-07T02:59:12.482Z"
   },
   {
    "duration": 25,
    "start_time": "2023-10-07T02:59:33.288Z"
   },
   {
    "duration": 2,
    "start_time": "2023-10-07T02:59:47.056Z"
   },
   {
    "duration": 1826,
    "start_time": "2023-10-07T02:59:54.997Z"
   },
   {
    "duration": 14,
    "start_time": "2023-10-07T03:03:38.395Z"
   },
   {
    "duration": 2399,
    "start_time": "2023-10-07T03:03:39.024Z"
   },
   {
    "duration": 4,
    "start_time": "2023-10-07T03:06:25.663Z"
   },
   {
    "duration": 3952,
    "start_time": "2023-10-07T03:06:26.237Z"
   },
   {
    "duration": 1976,
    "start_time": "2023-10-07T03:06:45.398Z"
   },
   {
    "duration": 5,
    "start_time": "2023-10-07T03:08:17.490Z"
   },
   {
    "duration": 9,
    "start_time": "2023-10-07T03:08:18.015Z"
   },
   {
    "duration": 4,
    "start_time": "2023-10-07T03:15:07.394Z"
   },
   {
    "duration": 7,
    "start_time": "2023-10-07T03:15:07.841Z"
   },
   {
    "duration": 4,
    "start_time": "2023-10-07T03:15:37.459Z"
   },
   {
    "duration": 9,
    "start_time": "2023-10-07T03:15:37.719Z"
   },
   {
    "duration": 2126,
    "start_time": "2023-10-07T03:19:57.419Z"
   },
   {
    "duration": 1742,
    "start_time": "2023-10-07T03:22:52.972Z"
   },
   {
    "duration": 1433,
    "start_time": "2023-10-07T03:23:25.157Z"
   },
   {
    "duration": 8,
    "start_time": "2023-10-07T03:23:37.416Z"
   },
   {
    "duration": 9,
    "start_time": "2023-10-07T03:30:04.449Z"
   },
   {
    "duration": 6,
    "start_time": "2023-10-07T03:38:43.060Z"
   },
   {
    "duration": 18,
    "start_time": "2023-10-07T03:39:08.798Z"
   },
   {
    "duration": 5,
    "start_time": "2023-10-07T03:39:22.247Z"
   },
   {
    "duration": 4,
    "start_time": "2023-10-07T03:39:32.561Z"
   },
   {
    "duration": 5,
    "start_time": "2023-10-07T03:39:44.813Z"
   },
   {
    "duration": 6,
    "start_time": "2023-10-07T03:39:53.512Z"
   },
   {
    "duration": 5,
    "start_time": "2023-10-07T03:40:02.852Z"
   },
   {
    "duration": 6,
    "start_time": "2023-10-07T03:40:06.480Z"
   },
   {
    "duration": 30968,
    "start_time": "2023-10-07T03:40:41.231Z"
   },
   {
    "duration": 21,
    "start_time": "2023-10-07T03:41:23.729Z"
   },
   {
    "duration": 13,
    "start_time": "2023-10-07T03:42:21.521Z"
   },
   {
    "duration": 11,
    "start_time": "2023-10-07T03:44:29.558Z"
   },
   {
    "duration": 23,
    "start_time": "2023-10-07T03:44:43.001Z"
   },
   {
    "duration": 4,
    "start_time": "2023-10-07T03:47:20.826Z"
   },
   {
    "duration": 57,
    "start_time": "2023-10-07T03:47:20.833Z"
   },
   {
    "duration": 46,
    "start_time": "2023-10-07T03:47:20.892Z"
   },
   {
    "duration": 142,
    "start_time": "2023-10-07T03:47:20.941Z"
   },
   {
    "duration": 76,
    "start_time": "2023-10-07T03:47:21.085Z"
   },
   {
    "duration": 56,
    "start_time": "2023-10-07T03:47:21.163Z"
   },
   {
    "duration": 18,
    "start_time": "2023-10-07T03:47:21.222Z"
   },
   {
    "duration": 51,
    "start_time": "2023-10-07T03:47:21.242Z"
   },
   {
    "duration": 68,
    "start_time": "2023-10-07T03:47:21.297Z"
   },
   {
    "duration": 162,
    "start_time": "2023-10-07T03:47:21.367Z"
   },
   {
    "duration": 328,
    "start_time": "2023-10-07T03:47:21.531Z"
   },
   {
    "duration": 47,
    "start_time": "2023-10-07T03:47:21.861Z"
   },
   {
    "duration": 50,
    "start_time": "2023-10-07T03:47:21.911Z"
   },
   {
    "duration": 259,
    "start_time": "2023-10-07T03:47:21.963Z"
   },
   {
    "duration": 37,
    "start_time": "2023-10-07T03:47:22.224Z"
   },
   {
    "duration": 18,
    "start_time": "2023-10-07T03:47:22.264Z"
   },
   {
    "duration": 39,
    "start_time": "2023-10-07T03:47:22.284Z"
   },
   {
    "duration": 23,
    "start_time": "2023-10-07T03:47:22.325Z"
   },
   {
    "duration": 25,
    "start_time": "2023-10-07T03:47:22.350Z"
   },
   {
    "duration": 16,
    "start_time": "2023-10-07T03:47:22.377Z"
   },
   {
    "duration": 24,
    "start_time": "2023-10-07T03:47:22.394Z"
   },
   {
    "duration": 37,
    "start_time": "2023-10-07T03:47:22.420Z"
   },
   {
    "duration": 39,
    "start_time": "2023-10-07T03:47:22.459Z"
   },
   {
    "duration": 20,
    "start_time": "2023-10-07T03:47:22.503Z"
   },
   {
    "duration": 19,
    "start_time": "2023-10-07T03:47:22.525Z"
   },
   {
    "duration": 23,
    "start_time": "2023-10-07T03:47:22.546Z"
   },
   {
    "duration": 44,
    "start_time": "2023-10-07T03:47:22.571Z"
   },
   {
    "duration": 13,
    "start_time": "2023-10-07T03:47:22.617Z"
   },
   {
    "duration": 35,
    "start_time": "2023-10-07T03:47:22.633Z"
   },
   {
    "duration": 147,
    "start_time": "2023-10-07T03:47:22.670Z"
   },
   {
    "duration": 443,
    "start_time": "2023-10-07T03:47:22.819Z"
   },
   {
    "duration": 10,
    "start_time": "2023-10-07T03:47:23.264Z"
   },
   {
    "duration": 75,
    "start_time": "2023-10-07T03:47:23.276Z"
   },
   {
    "duration": 62,
    "start_time": "2023-10-07T03:47:23.352Z"
   },
   {
    "duration": 32,
    "start_time": "2023-10-07T03:47:23.416Z"
   },
   {
    "duration": 116,
    "start_time": "2023-10-07T03:47:23.451Z"
   },
   {
    "duration": 9,
    "start_time": "2023-10-07T03:47:23.569Z"
   },
   {
    "duration": 35,
    "start_time": "2023-10-07T03:47:23.580Z"
   },
   {
    "duration": 397,
    "start_time": "2023-10-07T03:47:23.616Z"
   },
   {
    "duration": 8,
    "start_time": "2023-10-07T03:47:24.018Z"
   },
   {
    "duration": 463,
    "start_time": "2023-10-07T03:47:24.028Z"
   },
   {
    "duration": 20,
    "start_time": "2023-10-07T03:47:24.493Z"
   },
   {
    "duration": 11,
    "start_time": "2023-10-07T03:47:24.516Z"
   },
   {
    "duration": 618,
    "start_time": "2023-10-07T03:47:24.529Z"
   },
   {
    "duration": 10,
    "start_time": "2023-10-07T03:47:25.149Z"
   },
   {
    "duration": 58,
    "start_time": "2023-10-07T03:47:25.160Z"
   },
   {
    "duration": 178,
    "start_time": "2023-10-07T03:47:25.220Z"
   },
   {
    "duration": 617,
    "start_time": "2023-10-07T03:47:25.400Z"
   },
   {
    "duration": 201,
    "start_time": "2023-10-07T03:47:26.020Z"
   },
   {
    "duration": 113,
    "start_time": "2023-10-07T03:47:26.222Z"
   },
   {
    "duration": 53,
    "start_time": "2023-10-07T03:47:26.336Z"
   },
   {
    "duration": 22,
    "start_time": "2023-10-07T03:47:26.391Z"
   },
   {
    "duration": 156,
    "start_time": "2023-10-07T03:47:26.415Z"
   },
   {
    "duration": 40,
    "start_time": "2023-10-07T03:47:26.573Z"
   },
   {
    "duration": 449,
    "start_time": "2023-10-07T03:47:26.615Z"
   },
   {
    "duration": 10,
    "start_time": "2023-10-07T03:47:27.065Z"
   },
   {
    "duration": 594,
    "start_time": "2023-10-07T03:47:27.076Z"
   },
   {
    "duration": 8,
    "start_time": "2023-10-07T03:47:27.672Z"
   },
   {
    "duration": 376,
    "start_time": "2023-10-07T03:47:27.682Z"
   },
   {
    "duration": 9,
    "start_time": "2023-10-07T03:47:28.060Z"
   },
   {
    "duration": 415,
    "start_time": "2023-10-07T03:47:28.071Z"
   },
   {
    "duration": 9,
    "start_time": "2023-10-07T03:47:28.487Z"
   },
   {
    "duration": 36,
    "start_time": "2023-10-07T03:47:28.505Z"
   },
   {
    "duration": 80,
    "start_time": "2023-10-07T03:47:28.543Z"
   },
   {
    "duration": 51,
    "start_time": "2023-10-07T03:47:28.625Z"
   },
   {
    "duration": 35,
    "start_time": "2023-10-07T03:47:28.678Z"
   },
   {
    "duration": 30090,
    "start_time": "2023-10-07T03:47:28.715Z"
   },
   {
    "duration": 22,
    "start_time": "2023-10-07T03:47:58.807Z"
   },
   {
    "duration": 24,
    "start_time": "2023-10-07T03:47:58.835Z"
   },
   {
    "duration": 13,
    "start_time": "2023-10-07T03:48:40.346Z"
   },
   {
    "duration": 94,
    "start_time": "2023-10-07T04:10:11.486Z"
   },
   {
    "duration": 4,
    "start_time": "2023-10-07T04:10:56.072Z"
   },
   {
    "duration": 5,
    "start_time": "2023-10-07T04:11:01.215Z"
   },
   {
    "duration": 5,
    "start_time": "2023-10-07T04:15:14.054Z"
   },
   {
    "duration": 3,
    "start_time": "2023-10-07T04:15:28.419Z"
   },
   {
    "duration": 5,
    "start_time": "2023-10-07T04:15:34.288Z"
   },
   {
    "duration": 5,
    "start_time": "2023-10-07T04:15:34.716Z"
   },
   {
    "duration": 19,
    "start_time": "2023-10-07T04:16:10.212Z"
   },
   {
    "duration": 5,
    "start_time": "2023-10-07T04:16:13.525Z"
   },
   {
    "duration": 10,
    "start_time": "2023-10-07T04:16:15.398Z"
   },
   {
    "duration": 5,
    "start_time": "2023-10-07T04:16:23.842Z"
   },
   {
    "duration": 8,
    "start_time": "2023-10-07T04:16:24.218Z"
   },
   {
    "duration": 21,
    "start_time": "2023-10-07T04:21:20.396Z"
   },
   {
    "duration": 4,
    "start_time": "2023-10-07T04:21:20.840Z"
   },
   {
    "duration": 4,
    "start_time": "2023-10-07T04:21:36.588Z"
   },
   {
    "duration": 3,
    "start_time": "2023-10-07T04:21:37.073Z"
   },
   {
    "duration": 4,
    "start_time": "2023-10-07T04:21:56.191Z"
   },
   {
    "duration": 4,
    "start_time": "2023-10-07T04:21:56.449Z"
   },
   {
    "duration": 5,
    "start_time": "2023-10-07T05:03:54.625Z"
   },
   {
    "duration": 6,
    "start_time": "2023-10-07T05:04:04.639Z"
   },
   {
    "duration": 4,
    "start_time": "2023-10-07T05:04:15.143Z"
   },
   {
    "duration": 15,
    "start_time": "2023-10-07T05:04:15.997Z"
   },
   {
    "duration": 4,
    "start_time": "2023-10-07T05:04:42.281Z"
   },
   {
    "duration": 4,
    "start_time": "2023-10-07T05:04:42.722Z"
   },
   {
    "duration": 5,
    "start_time": "2023-10-07T05:05:04.123Z"
   },
   {
    "duration": 4,
    "start_time": "2023-10-07T05:05:09.116Z"
   },
   {
    "duration": 6,
    "start_time": "2023-10-07T05:05:14.913Z"
   },
   {
    "duration": 5,
    "start_time": "2023-10-07T05:05:21.156Z"
   },
   {
    "duration": 4,
    "start_time": "2023-10-07T05:05:31.317Z"
   },
   {
    "duration": 5,
    "start_time": "2023-10-07T05:05:43.029Z"
   },
   {
    "duration": 4,
    "start_time": "2023-10-07T06:11:48.469Z"
   },
   {
    "duration": 23433,
    "start_time": "2023-10-07T06:11:48.881Z"
   },
   {
    "duration": 19,
    "start_time": "2023-10-07T06:12:14.345Z"
   },
   {
    "duration": 50,
    "start_time": "2023-10-07T11:07:52.337Z"
   },
   {
    "duration": 1302,
    "start_time": "2023-10-07T11:07:58.930Z"
   },
   {
    "duration": 82,
    "start_time": "2023-10-07T11:08:00.234Z"
   },
   {
    "duration": 99,
    "start_time": "2023-10-07T11:08:00.318Z"
   },
   {
    "duration": 65,
    "start_time": "2023-10-07T11:08:00.419Z"
   },
   {
    "duration": 13,
    "start_time": "2023-10-07T11:08:00.486Z"
   },
   {
    "duration": 57,
    "start_time": "2023-10-07T11:08:00.500Z"
   },
   {
    "duration": 43,
    "start_time": "2023-10-07T11:08:00.559Z"
   },
   {
    "duration": 36,
    "start_time": "2023-10-07T11:08:00.604Z"
   },
   {
    "duration": 31,
    "start_time": "2023-10-07T11:08:00.641Z"
   },
   {
    "duration": 39,
    "start_time": "2023-10-07T11:08:00.674Z"
   },
   {
    "duration": 33,
    "start_time": "2023-10-07T11:08:00.715Z"
   },
   {
    "duration": 45,
    "start_time": "2023-10-07T11:08:00.750Z"
   },
   {
    "duration": 63,
    "start_time": "2023-10-07T11:08:00.797Z"
   },
   {
    "duration": 36,
    "start_time": "2023-10-07T11:08:00.862Z"
   },
   {
    "duration": 41,
    "start_time": "2023-10-07T11:08:00.900Z"
   },
   {
    "duration": 32,
    "start_time": "2023-10-07T11:08:00.943Z"
   },
   {
    "duration": 45,
    "start_time": "2023-10-07T11:08:00.977Z"
   },
   {
    "duration": 45,
    "start_time": "2023-10-07T11:08:01.023Z"
   },
   {
    "duration": 45,
    "start_time": "2023-10-07T11:08:01.070Z"
   },
   {
    "duration": 25,
    "start_time": "2023-10-07T11:08:01.117Z"
   },
   {
    "duration": 32,
    "start_time": "2023-10-07T11:08:01.144Z"
   },
   {
    "duration": 79,
    "start_time": "2023-10-07T11:08:01.178Z"
   },
   {
    "duration": 37,
    "start_time": "2023-10-07T11:08:01.259Z"
   },
   {
    "duration": 44,
    "start_time": "2023-10-07T11:08:01.297Z"
   },
   {
    "duration": 41,
    "start_time": "2023-10-07T11:08:01.343Z"
   },
   {
    "duration": 47,
    "start_time": "2023-10-07T11:08:01.386Z"
   },
   {
    "duration": 41,
    "start_time": "2023-10-07T11:08:01.435Z"
   },
   {
    "duration": 58,
    "start_time": "2023-10-07T11:08:01.480Z"
   },
   {
    "duration": 26,
    "start_time": "2023-10-07T11:08:01.540Z"
   },
   {
    "duration": 40,
    "start_time": "2023-10-07T11:08:01.568Z"
   },
   {
    "duration": 243,
    "start_time": "2023-10-07T11:08:01.609Z"
   },
   {
    "duration": 9,
    "start_time": "2023-10-07T11:08:01.854Z"
   },
   {
    "duration": 26,
    "start_time": "2023-10-07T11:08:01.865Z"
   },
   {
    "duration": 63,
    "start_time": "2023-10-07T11:08:01.893Z"
   },
   {
    "duration": 23,
    "start_time": "2023-10-07T11:08:01.958Z"
   },
   {
    "duration": 119,
    "start_time": "2023-10-07T11:08:01.983Z"
   },
   {
    "duration": 20,
    "start_time": "2023-10-07T11:08:02.104Z"
   },
   {
    "duration": 28,
    "start_time": "2023-10-07T11:08:02.126Z"
   },
   {
    "duration": 346,
    "start_time": "2023-10-07T11:08:02.156Z"
   },
   {
    "duration": 8,
    "start_time": "2023-10-07T11:08:02.504Z"
   },
   {
    "duration": 374,
    "start_time": "2023-10-07T11:08:02.524Z"
   },
   {
    "duration": 8,
    "start_time": "2023-10-07T11:08:02.900Z"
   },
   {
    "duration": 56,
    "start_time": "2023-10-07T11:08:02.910Z"
   },
   {
    "duration": 454,
    "start_time": "2023-10-07T11:08:02.967Z"
   },
   {
    "duration": 10,
    "start_time": "2023-10-07T11:08:03.422Z"
   },
   {
    "duration": 33,
    "start_time": "2023-10-07T11:08:03.433Z"
   },
   {
    "duration": 11,
    "start_time": "2023-10-07T11:08:03.468Z"
   },
   {
    "duration": 31,
    "start_time": "2023-10-07T11:08:03.481Z"
   },
   {
    "duration": 34,
    "start_time": "2023-10-07T11:08:03.514Z"
   },
   {
    "duration": 32,
    "start_time": "2023-10-07T11:08:03.549Z"
   },
   {
    "duration": 64,
    "start_time": "2023-10-07T11:08:03.583Z"
   },
   {
    "duration": 52,
    "start_time": "2023-10-07T11:08:03.649Z"
   },
   {
    "duration": 17,
    "start_time": "2023-10-07T11:08:03.702Z"
   },
   {
    "duration": 17,
    "start_time": "2023-10-07T11:08:03.720Z"
   },
   {
    "duration": 340,
    "start_time": "2023-10-07T11:08:03.739Z"
   },
   {
    "duration": 9,
    "start_time": "2023-10-07T11:08:04.081Z"
   },
   {
    "duration": 354,
    "start_time": "2023-10-07T11:08:04.092Z"
   },
   {
    "duration": 9,
    "start_time": "2023-10-07T11:08:04.448Z"
   },
   {
    "duration": 312,
    "start_time": "2023-10-07T11:08:04.459Z"
   },
   {
    "duration": 10,
    "start_time": "2023-10-07T11:08:04.773Z"
   },
   {
    "duration": 334,
    "start_time": "2023-10-07T11:08:04.785Z"
   },
   {
    "duration": 11,
    "start_time": "2023-10-07T11:08:05.123Z"
   },
   {
    "duration": 21,
    "start_time": "2023-10-07T11:08:05.135Z"
   },
   {
    "duration": 28,
    "start_time": "2023-10-07T11:08:05.158Z"
   },
   {
    "duration": 28,
    "start_time": "2023-10-07T11:08:05.188Z"
   },
   {
    "duration": 14,
    "start_time": "2023-10-07T11:08:05.218Z"
   },
   {
    "duration": 24989,
    "start_time": "2023-10-07T11:08:05.234Z"
   },
   {
    "duration": 13,
    "start_time": "2023-10-07T11:08:30.225Z"
   },
   {
    "duration": 265,
    "start_time": "2023-10-07T11:08:30.239Z"
   },
   {
    "duration": 222,
    "start_time": "2023-10-07T11:08:30.506Z"
   },
   {
    "duration": 73,
    "start_time": "2023-10-07T11:08:30.729Z"
   },
   {
    "duration": 86,
    "start_time": "2023-10-07T11:08:30.804Z"
   },
   {
    "duration": 136,
    "start_time": "2023-10-07T11:08:30.891Z"
   },
   {
    "duration": 0,
    "start_time": "2023-10-07T11:08:31.030Z"
   },
   {
    "duration": 0,
    "start_time": "2023-10-07T11:08:31.032Z"
   },
   {
    "duration": 0,
    "start_time": "2023-10-07T11:08:31.033Z"
   },
   {
    "duration": 3,
    "start_time": "2023-10-07T11:08:36.021Z"
   },
   {
    "duration": 19662,
    "start_time": "2023-10-07T11:08:36.390Z"
   },
   {
    "duration": 14,
    "start_time": "2023-10-07T11:08:56.053Z"
   },
   {
    "duration": 4,
    "start_time": "2023-10-07T11:10:51.771Z"
   },
   {
    "duration": 4,
    "start_time": "2023-10-07T11:10:52.167Z"
   },
   {
    "duration": 6,
    "start_time": "2023-10-07T11:14:01.678Z"
   },
   {
    "duration": 15,
    "start_time": "2023-10-07T11:14:02.045Z"
   },
   {
    "duration": 5,
    "start_time": "2023-10-07T11:16:28.850Z"
   },
   {
    "duration": 4,
    "start_time": "2023-10-07T11:16:43.318Z"
   },
   {
    "duration": 16,
    "start_time": "2023-10-07T11:17:14.109Z"
   },
   {
    "duration": 16,
    "start_time": "2023-10-07T11:17:47.460Z"
   },
   {
    "duration": 3,
    "start_time": "2023-10-07T12:07:37.293Z"
   },
   {
    "duration": 9,
    "start_time": "2023-10-07T12:14:17.727Z"
   },
   {
    "duration": 3,
    "start_time": "2023-10-07T12:14:41.647Z"
   },
   {
    "duration": 10,
    "start_time": "2023-10-07T12:14:44.994Z"
   },
   {
    "duration": 9,
    "start_time": "2023-10-07T12:14:47.695Z"
   },
   {
    "duration": 3,
    "start_time": "2023-10-07T12:15:11.874Z"
   },
   {
    "duration": 145,
    "start_time": "2023-10-07T12:15:17.876Z"
   },
   {
    "duration": 9,
    "start_time": "2023-10-07T12:15:36.361Z"
   },
   {
    "duration": 113,
    "start_time": "2023-10-07T12:15:48.181Z"
   },
   {
    "duration": 121,
    "start_time": "2023-10-07T12:15:56.127Z"
   },
   {
    "duration": 168,
    "start_time": "2023-10-07T12:16:13.773Z"
   },
   {
    "duration": 132,
    "start_time": "2023-10-07T12:16:20.429Z"
   },
   {
    "duration": 116,
    "start_time": "2023-10-07T12:16:41.818Z"
   },
   {
    "duration": 120,
    "start_time": "2023-10-07T12:18:03.066Z"
   },
   {
    "duration": 158,
    "start_time": "2023-10-07T12:18:08.143Z"
   },
   {
    "duration": 2,
    "start_time": "2023-10-07T12:36:15.783Z"
   },
   {
    "duration": 228,
    "start_time": "2023-10-07T12:36:16.660Z"
   },
   {
    "duration": 4,
    "start_time": "2023-10-07T12:36:17.106Z"
   },
   {
    "duration": 2,
    "start_time": "2023-10-07T12:36:23.224Z"
   },
   {
    "duration": 162,
    "start_time": "2023-10-07T12:36:24.779Z"
   },
   {
    "duration": 4,
    "start_time": "2023-10-07T12:36:25.206Z"
   },
   {
    "duration": 2,
    "start_time": "2023-10-07T12:36:41.208Z"
   },
   {
    "duration": 159,
    "start_time": "2023-10-07T12:36:41.567Z"
   },
   {
    "duration": 5,
    "start_time": "2023-10-07T12:36:41.872Z"
   },
   {
    "duration": 3,
    "start_time": "2023-10-07T12:36:49.674Z"
   },
   {
    "duration": 156,
    "start_time": "2023-10-07T12:36:49.989Z"
   },
   {
    "duration": 6,
    "start_time": "2023-10-07T12:36:50.328Z"
   },
   {
    "duration": 2,
    "start_time": "2023-10-07T12:37:01.861Z"
   },
   {
    "duration": 169,
    "start_time": "2023-10-07T12:37:02.198Z"
   },
   {
    "duration": 5,
    "start_time": "2023-10-07T12:37:02.489Z"
   },
   {
    "duration": 2,
    "start_time": "2023-10-07T12:37:12.005Z"
   },
   {
    "duration": 160,
    "start_time": "2023-10-07T12:37:12.330Z"
   },
   {
    "duration": 5,
    "start_time": "2023-10-07T12:37:12.619Z"
   },
   {
    "duration": 3,
    "start_time": "2023-10-07T12:37:18.485Z"
   },
   {
    "duration": 175,
    "start_time": "2023-10-07T12:37:19.491Z"
   },
   {
    "duration": 5,
    "start_time": "2023-10-07T12:37:19.668Z"
   },
   {
    "duration": 120,
    "start_time": "2023-10-07T12:37:54.120Z"
   },
   {
    "duration": 4,
    "start_time": "2023-10-07T12:37:54.494Z"
   },
   {
    "duration": 3,
    "start_time": "2023-10-07T12:38:18.210Z"
   },
   {
    "duration": 134,
    "start_time": "2023-10-07T12:38:18.525Z"
   },
   {
    "duration": 5,
    "start_time": "2023-10-07T12:38:19.147Z"
   },
   {
    "duration": 3,
    "start_time": "2023-10-07T12:38:37.135Z"
   },
   {
    "duration": 116,
    "start_time": "2023-10-07T12:38:37.436Z"
   },
   {
    "duration": 4,
    "start_time": "2023-10-07T12:38:37.740Z"
   },
   {
    "duration": 2,
    "start_time": "2023-10-07T12:38:45.068Z"
   },
   {
    "duration": 157,
    "start_time": "2023-10-07T12:38:45.339Z"
   },
   {
    "duration": 5,
    "start_time": "2023-10-07T12:38:45.989Z"
   },
   {
    "duration": 3,
    "start_time": "2023-10-07T13:47:11.967Z"
   },
   {
    "duration": 224,
    "start_time": "2023-10-07T13:47:12.331Z"
   },
   {
    "duration": 5,
    "start_time": "2023-10-07T13:47:12.593Z"
   },
   {
    "duration": 3,
    "start_time": "2023-10-07T13:47:28.857Z"
   },
   {
    "duration": 138,
    "start_time": "2023-10-07T13:47:29.287Z"
   },
   {
    "duration": 5,
    "start_time": "2023-10-07T13:47:29.577Z"
   },
   {
    "duration": 3,
    "start_time": "2023-10-07T13:47:41.007Z"
   },
   {
    "duration": 130,
    "start_time": "2023-10-07T13:47:41.237Z"
   },
   {
    "duration": 5,
    "start_time": "2023-10-07T13:47:41.901Z"
   },
   {
    "duration": 3,
    "start_time": "2023-10-07T13:47:47.411Z"
   },
   {
    "duration": 127,
    "start_time": "2023-10-07T13:47:47.549Z"
   },
   {
    "duration": 5,
    "start_time": "2023-10-07T13:47:47.810Z"
   },
   {
    "duration": 3,
    "start_time": "2023-10-07T13:47:51.018Z"
   },
   {
    "duration": 137,
    "start_time": "2023-10-07T13:47:51.231Z"
   },
   {
    "duration": 4,
    "start_time": "2023-10-07T13:47:51.533Z"
   },
   {
    "duration": 2,
    "start_time": "2023-10-07T13:47:56.386Z"
   },
   {
    "duration": 136,
    "start_time": "2023-10-07T13:47:56.607Z"
   },
   {
    "duration": 5,
    "start_time": "2023-10-07T13:47:56.794Z"
   },
   {
    "duration": 3,
    "start_time": "2023-10-07T13:48:02.990Z"
   },
   {
    "duration": 142,
    "start_time": "2023-10-07T13:48:03.209Z"
   },
   {
    "duration": 5,
    "start_time": "2023-10-07T13:48:03.916Z"
   },
   {
    "duration": 3,
    "start_time": "2023-10-07T13:48:09.790Z"
   },
   {
    "duration": 143,
    "start_time": "2023-10-07T13:48:09.983Z"
   },
   {
    "duration": 5,
    "start_time": "2023-10-07T13:48:10.851Z"
   },
   {
    "duration": 3,
    "start_time": "2023-10-07T13:48:15.071Z"
   },
   {
    "duration": 146,
    "start_time": "2023-10-07T13:48:15.246Z"
   },
   {
    "duration": 5,
    "start_time": "2023-10-07T13:48:15.432Z"
   },
   {
    "duration": 4,
    "start_time": "2023-10-07T13:49:51.263Z"
   },
   {
    "duration": 93,
    "start_time": "2023-10-07T13:49:51.701Z"
   },
   {
    "duration": 4,
    "start_time": "2023-10-07T13:50:28.857Z"
   },
   {
    "duration": 3,
    "start_time": "2023-10-07T13:50:38.384Z"
   },
   {
    "duration": 135,
    "start_time": "2023-10-07T13:51:18.783Z"
   },
   {
    "duration": 5,
    "start_time": "2023-10-07T13:51:43.796Z"
   },
   {
    "duration": 4,
    "start_time": "2023-10-07T13:51:59.448Z"
   },
   {
    "duration": 2,
    "start_time": "2023-10-07T14:02:17.338Z"
   },
   {
    "duration": 38,
    "start_time": "2023-10-07T14:02:17.347Z"
   },
   {
    "duration": 29,
    "start_time": "2023-10-07T14:02:17.387Z"
   },
   {
    "duration": 16,
    "start_time": "2023-10-07T14:02:17.418Z"
   },
   {
    "duration": 21,
    "start_time": "2023-10-07T14:02:17.436Z"
   },
   {
    "duration": 13,
    "start_time": "2023-10-07T14:02:17.458Z"
   },
   {
    "duration": 27,
    "start_time": "2023-10-07T14:02:17.472Z"
   },
   {
    "duration": 33,
    "start_time": "2023-10-07T14:02:17.500Z"
   },
   {
    "duration": 21,
    "start_time": "2023-10-07T14:02:17.535Z"
   },
   {
    "duration": 23,
    "start_time": "2023-10-07T14:02:17.558Z"
   },
   {
    "duration": 10,
    "start_time": "2023-10-07T14:02:17.584Z"
   },
   {
    "duration": 17,
    "start_time": "2023-10-07T14:02:17.595Z"
   },
   {
    "duration": 19,
    "start_time": "2023-10-07T14:02:17.614Z"
   },
   {
    "duration": 22,
    "start_time": "2023-10-07T14:02:17.635Z"
   },
   {
    "duration": 28,
    "start_time": "2023-10-07T14:02:17.659Z"
   },
   {
    "duration": 16,
    "start_time": "2023-10-07T14:02:17.689Z"
   },
   {
    "duration": 19,
    "start_time": "2023-10-07T14:02:17.707Z"
   },
   {
    "duration": 33,
    "start_time": "2023-10-07T14:02:17.727Z"
   },
   {
    "duration": 29,
    "start_time": "2023-10-07T14:02:17.761Z"
   },
   {
    "duration": 29,
    "start_time": "2023-10-07T14:02:17.792Z"
   },
   {
    "duration": 17,
    "start_time": "2023-10-07T14:02:17.823Z"
   },
   {
    "duration": 19,
    "start_time": "2023-10-07T14:02:17.842Z"
   },
   {
    "duration": 19,
    "start_time": "2023-10-07T14:02:17.863Z"
   },
   {
    "duration": 22,
    "start_time": "2023-10-07T14:02:17.883Z"
   },
   {
    "duration": 25,
    "start_time": "2023-10-07T14:02:17.907Z"
   },
   {
    "duration": 20,
    "start_time": "2023-10-07T14:02:17.933Z"
   },
   {
    "duration": 23,
    "start_time": "2023-10-07T14:02:17.955Z"
   },
   {
    "duration": 49,
    "start_time": "2023-10-07T14:02:17.980Z"
   },
   {
    "duration": 77,
    "start_time": "2023-10-07T14:02:18.034Z"
   },
   {
    "duration": 31,
    "start_time": "2023-10-07T14:02:18.113Z"
   },
   {
    "duration": 284,
    "start_time": "2023-10-07T14:02:18.146Z"
   },
   {
    "duration": 8,
    "start_time": "2023-10-07T14:02:18.432Z"
   },
   {
    "duration": 18,
    "start_time": "2023-10-07T14:02:18.442Z"
   },
   {
    "duration": 21,
    "start_time": "2023-10-07T14:02:18.462Z"
   },
   {
    "duration": 42,
    "start_time": "2023-10-07T14:02:18.485Z"
   },
   {
    "duration": 117,
    "start_time": "2023-10-07T14:02:18.529Z"
   },
   {
    "duration": 8,
    "start_time": "2023-10-07T14:02:18.648Z"
   },
   {
    "duration": 6,
    "start_time": "2023-10-07T14:02:18.658Z"
   },
   {
    "duration": 473,
    "start_time": "2023-10-07T14:02:18.666Z"
   },
   {
    "duration": 9,
    "start_time": "2023-10-07T14:02:19.140Z"
   },
   {
    "duration": 399,
    "start_time": "2023-10-07T14:02:19.151Z"
   },
   {
    "duration": 8,
    "start_time": "2023-10-07T14:02:19.552Z"
   },
   {
    "duration": 8,
    "start_time": "2023-10-07T14:02:19.562Z"
   },
   {
    "duration": 401,
    "start_time": "2023-10-07T14:02:19.571Z"
   },
   {
    "duration": 9,
    "start_time": "2023-10-07T14:02:19.973Z"
   },
   {
    "duration": 9,
    "start_time": "2023-10-07T14:02:19.984Z"
   },
   {
    "duration": 16,
    "start_time": "2023-10-07T14:02:19.995Z"
   },
   {
    "duration": 23,
    "start_time": "2023-10-07T14:02:20.013Z"
   },
   {
    "duration": 9,
    "start_time": "2023-10-07T14:02:20.038Z"
   },
   {
    "duration": 30,
    "start_time": "2023-10-07T14:02:20.048Z"
   },
   {
    "duration": 21,
    "start_time": "2023-10-07T14:02:20.079Z"
   },
   {
    "duration": 6,
    "start_time": "2023-10-07T14:02:20.101Z"
   },
   {
    "duration": 25,
    "start_time": "2023-10-07T14:02:20.109Z"
   },
   {
    "duration": 9,
    "start_time": "2023-10-07T14:02:20.135Z"
   },
   {
    "duration": 334,
    "start_time": "2023-10-07T14:02:20.146Z"
   },
   {
    "duration": 9,
    "start_time": "2023-10-07T14:02:20.482Z"
   },
   {
    "duration": 375,
    "start_time": "2023-10-07T14:02:20.492Z"
   },
   {
    "duration": 9,
    "start_time": "2023-10-07T14:02:20.868Z"
   },
   {
    "duration": 490,
    "start_time": "2023-10-07T14:02:20.879Z"
   },
   {
    "duration": 9,
    "start_time": "2023-10-07T14:02:21.371Z"
   },
   {
    "duration": 346,
    "start_time": "2023-10-07T14:02:21.382Z"
   },
   {
    "duration": 8,
    "start_time": "2023-10-07T14:02:21.730Z"
   },
   {
    "duration": 56,
    "start_time": "2023-10-07T14:02:21.739Z"
   },
   {
    "duration": 19,
    "start_time": "2023-10-07T14:02:21.797Z"
   },
   {
    "duration": 12,
    "start_time": "2023-10-07T14:02:21.818Z"
   },
   {
    "duration": 19,
    "start_time": "2023-10-07T14:02:21.832Z"
   },
   {
    "duration": 25674,
    "start_time": "2023-10-07T14:02:21.852Z"
   },
   {
    "duration": 12,
    "start_time": "2023-10-07T14:02:47.528Z"
   },
   {
    "duration": 4,
    "start_time": "2023-10-07T14:02:47.542Z"
   },
   {
    "duration": 10,
    "start_time": "2023-10-07T14:02:47.548Z"
   },
   {
    "duration": 8,
    "start_time": "2023-10-07T14:02:47.560Z"
   },
   {
    "duration": 11,
    "start_time": "2023-10-07T14:02:47.569Z"
   },
   {
    "duration": 6,
    "start_time": "2023-10-07T14:02:47.581Z"
   },
   {
    "duration": 20497,
    "start_time": "2023-10-07T14:02:47.588Z"
   },
   {
    "duration": 16,
    "start_time": "2023-10-07T14:03:08.087Z"
   },
   {
    "duration": 37,
    "start_time": "2023-10-07T14:03:08.104Z"
   },
   {
    "duration": 40,
    "start_time": "2023-10-07T14:03:08.143Z"
   },
   {
    "duration": 33,
    "start_time": "2023-10-07T14:03:08.184Z"
   },
   {
    "duration": 31,
    "start_time": "2023-10-07T14:03:08.218Z"
   },
   {
    "duration": 28,
    "start_time": "2023-10-07T14:03:08.251Z"
   },
   {
    "duration": 30,
    "start_time": "2023-10-07T14:03:08.281Z"
   },
   {
    "duration": 3,
    "start_time": "2023-10-07T14:03:11.759Z"
   },
   {
    "duration": 4,
    "start_time": "2023-10-07T14:03:12.179Z"
   },
   {
    "duration": 3,
    "start_time": "2023-10-07T14:04:12.963Z"
   },
   {
    "duration": 8,
    "start_time": "2023-10-07T14:05:59.810Z"
   },
   {
    "duration": 4,
    "start_time": "2023-10-07T14:06:02.388Z"
   },
   {
    "duration": 36,
    "start_time": "2023-10-07T14:06:02.876Z"
   },
   {
    "duration": 12,
    "start_time": "2023-10-07T14:07:56.676Z"
   },
   {
    "duration": 9,
    "start_time": "2023-10-07T14:08:05.372Z"
   },
   {
    "duration": 17,
    "start_time": "2023-10-07T14:11:38.796Z"
   },
   {
    "duration": 12,
    "start_time": "2023-10-07T14:13:04.196Z"
   },
   {
    "duration": 317,
    "start_time": "2023-10-07T14:13:14.461Z"
   },
   {
    "duration": 274,
    "start_time": "2023-10-07T14:13:41.852Z"
   },
   {
    "duration": 323,
    "start_time": "2023-10-07T14:14:05.970Z"
   },
   {
    "duration": 282,
    "start_time": "2023-10-07T14:15:26.028Z"
   },
   {
    "duration": 13,
    "start_time": "2023-10-07T14:16:56.454Z"
   },
   {
    "duration": 332,
    "start_time": "2023-10-07T14:17:02.602Z"
   },
   {
    "duration": 314,
    "start_time": "2023-10-07T14:17:24.980Z"
   },
   {
    "duration": 272,
    "start_time": "2023-10-07T14:17:29.123Z"
   },
   {
    "duration": 299,
    "start_time": "2023-10-07T14:17:33.068Z"
   },
   {
    "duration": 280,
    "start_time": "2023-10-07T14:17:36.999Z"
   },
   {
    "duration": 319,
    "start_time": "2023-10-07T14:17:42.494Z"
   },
   {
    "duration": 472,
    "start_time": "2023-10-07T14:17:45.902Z"
   },
   {
    "duration": 301,
    "start_time": "2023-10-07T14:17:50.534Z"
   },
   {
    "duration": 320,
    "start_time": "2023-10-07T14:17:54.269Z"
   },
   {
    "duration": 298,
    "start_time": "2023-10-07T14:17:58.398Z"
   },
   {
    "duration": 329,
    "start_time": "2023-10-07T14:18:02.968Z"
   },
   {
    "duration": 281,
    "start_time": "2023-10-07T14:18:06.833Z"
   },
   {
    "duration": 310,
    "start_time": "2023-10-07T14:18:10.260Z"
   },
   {
    "duration": 270,
    "start_time": "2023-10-07T14:18:13.339Z"
   },
   {
    "duration": 307,
    "start_time": "2023-10-07T14:18:17.000Z"
   },
   {
    "duration": 501,
    "start_time": "2023-10-07T14:18:21.470Z"
   },
   {
    "duration": 328,
    "start_time": "2023-10-07T14:18:24.882Z"
   },
   {
    "duration": 277,
    "start_time": "2023-10-07T14:19:49.260Z"
   },
   {
    "duration": 256,
    "start_time": "2023-10-07T14:20:08.970Z"
   },
   {
    "duration": 277,
    "start_time": "2023-10-07T14:20:21.734Z"
   },
   {
    "duration": 247,
    "start_time": "2023-10-07T14:20:49.477Z"
   },
   {
    "duration": 280,
    "start_time": "2023-10-07T14:21:05.344Z"
   },
   {
    "duration": 446,
    "start_time": "2023-10-07T14:21:21.498Z"
   },
   {
    "duration": 268,
    "start_time": "2023-10-07T14:21:24.433Z"
   },
   {
    "duration": 304,
    "start_time": "2023-10-07T14:21:27.887Z"
   },
   {
    "duration": 276,
    "start_time": "2023-10-07T14:21:31.059Z"
   },
   {
    "duration": 287,
    "start_time": "2023-10-07T14:21:33.374Z"
   },
   {
    "duration": 280,
    "start_time": "2023-10-07T14:21:36.633Z"
   },
   {
    "duration": 313,
    "start_time": "2023-10-07T14:21:39.217Z"
   },
   {
    "duration": 308,
    "start_time": "2023-10-07T14:21:41.800Z"
   },
   {
    "duration": 254,
    "start_time": "2023-10-07T14:21:44.850Z"
   },
   {
    "duration": 273,
    "start_time": "2023-10-07T14:21:47.259Z"
   },
   {
    "duration": 949,
    "start_time": "2023-10-07T14:24:32.857Z"
   },
   {
    "duration": 422,
    "start_time": "2023-10-07T14:25:05.026Z"
   },
   {
    "duration": 315,
    "start_time": "2023-10-07T14:25:12.487Z"
   },
   {
    "duration": 290,
    "start_time": "2023-10-07T14:25:16.859Z"
   },
   {
    "duration": 314,
    "start_time": "2023-10-07T14:25:22.582Z"
   },
   {
    "duration": 259,
    "start_time": "2023-10-07T14:28:13.395Z"
   },
   {
    "duration": 130,
    "start_time": "2023-10-07T14:28:23.628Z"
   },
   {
    "duration": 298,
    "start_time": "2023-10-07T14:28:28.098Z"
   },
   {
    "duration": 300,
    "start_time": "2023-10-07T14:30:22.052Z"
   },
   {
    "duration": 302,
    "start_time": "2023-10-07T14:30:27.362Z"
   },
   {
    "duration": 313,
    "start_time": "2023-10-07T14:30:32.093Z"
   },
   {
    "duration": 341,
    "start_time": "2023-10-07T14:30:35.855Z"
   },
   {
    "duration": 331,
    "start_time": "2023-10-07T14:30:47.069Z"
   },
   {
    "duration": 537,
    "start_time": "2023-10-07T14:30:51.603Z"
   },
   {
    "duration": 14,
    "start_time": "2023-10-07T14:32:07.873Z"
   },
   {
    "duration": 334,
    "start_time": "2023-10-07T14:32:18.675Z"
   },
   {
    "duration": 332,
    "start_time": "2023-10-07T14:33:54.483Z"
   },
   {
    "duration": 304,
    "start_time": "2023-10-07T14:34:31.554Z"
   },
   {
    "duration": 332,
    "start_time": "2023-10-07T14:35:12.629Z"
   },
   {
    "duration": 353,
    "start_time": "2023-10-07T14:35:54.887Z"
   },
   {
    "duration": 2,
    "start_time": "2023-10-07T14:46:14.087Z"
   },
   {
    "duration": 4,
    "start_time": "2023-10-07T14:46:14.964Z"
   },
   {
    "duration": 4,
    "start_time": "2023-10-07T14:46:15.441Z"
   },
   {
    "duration": 8,
    "start_time": "2023-10-07T14:46:16.900Z"
   },
   {
    "duration": 3,
    "start_time": "2023-10-07T14:46:17.950Z"
   },
   {
    "duration": 4,
    "start_time": "2023-10-07T14:46:19.583Z"
   },
   {
    "duration": 3,
    "start_time": "2023-10-07T14:46:29.029Z"
   },
   {
    "duration": 3,
    "start_time": "2023-10-07T14:46:33.509Z"
   },
   {
    "duration": 4,
    "start_time": "2023-10-07T14:46:47.403Z"
   },
   {
    "duration": 3,
    "start_time": "2023-10-07T15:14:33.974Z"
   },
   {
    "duration": 3,
    "start_time": "2023-10-07T15:14:50.079Z"
   },
   {
    "duration": 4,
    "start_time": "2023-10-07T15:15:08.688Z"
   },
   {
    "duration": 4,
    "start_time": "2023-10-07T15:15:32.326Z"
   },
   {
    "duration": 4,
    "start_time": "2023-10-07T15:15:38.068Z"
   },
   {
    "duration": 5,
    "start_time": "2023-10-07T15:15:54.034Z"
   },
   {
    "duration": 4,
    "start_time": "2023-10-07T15:16:31.997Z"
   },
   {
    "duration": 4,
    "start_time": "2023-10-07T15:16:39.634Z"
   },
   {
    "duration": 3,
    "start_time": "2023-10-07T15:17:06.425Z"
   },
   {
    "duration": 9,
    "start_time": "2023-10-07T15:18:00.400Z"
   },
   {
    "duration": 37438,
    "start_time": "2023-10-07T15:18:44.942Z"
   },
   {
    "duration": 221,
    "start_time": "2023-10-07T15:19:31.017Z"
   },
   {
    "duration": 817,
    "start_time": "2023-10-07T15:19:42.689Z"
   },
   {
    "duration": 224,
    "start_time": "2023-10-07T15:19:49.863Z"
   },
   {
    "duration": 184,
    "start_time": "2023-10-07T15:21:38.812Z"
   },
   {
    "duration": 207,
    "start_time": "2023-10-07T15:22:15.499Z"
   },
   {
    "duration": 207,
    "start_time": "2023-10-07T15:23:35.202Z"
   },
   {
    "duration": 194,
    "start_time": "2023-10-07T15:23:41.966Z"
   },
   {
    "duration": 14,
    "start_time": "2023-10-07T15:24:02.906Z"
   },
   {
    "duration": 3,
    "start_time": "2023-10-07T15:31:46.944Z"
   },
   {
    "duration": 2,
    "start_time": "2023-10-07T15:32:40.382Z"
   },
   {
    "duration": 929,
    "start_time": "2023-10-07T15:32:40.820Z"
   },
   {
    "duration": 4,
    "start_time": "2023-10-07T15:32:43.863Z"
   },
   {
    "duration": 4,
    "start_time": "2023-10-07T15:32:47.454Z"
   },
   {
    "duration": 3,
    "start_time": "2023-10-07T15:33:19.539Z"
   },
   {
    "duration": 3,
    "start_time": "2023-10-07T15:33:32.547Z"
   },
   {
    "duration": 5,
    "start_time": "2023-10-07T15:33:36.019Z"
   },
   {
    "duration": 4,
    "start_time": "2023-10-07T15:33:46.445Z"
   },
   {
    "duration": 4,
    "start_time": "2023-10-07T15:40:41.479Z"
   },
   {
    "duration": 3,
    "start_time": "2023-10-07T15:42:22.546Z"
   },
   {
    "duration": 6,
    "start_time": "2023-10-07T15:42:25.704Z"
   },
   {
    "duration": 10,
    "start_time": "2023-10-07T15:44:04.827Z"
   },
   {
    "duration": 10,
    "start_time": "2023-10-07T15:44:27.850Z"
   },
   {
    "duration": 9,
    "start_time": "2023-10-07T15:44:34.650Z"
   },
   {
    "duration": 123,
    "start_time": "2023-10-07T15:44:45.811Z"
   },
   {
    "duration": 124,
    "start_time": "2023-10-07T15:45:56.845Z"
   },
   {
    "duration": 109,
    "start_time": "2023-10-07T15:46:19.575Z"
   },
   {
    "duration": 107,
    "start_time": "2023-10-07T15:46:24.608Z"
   },
   {
    "duration": 116,
    "start_time": "2023-10-07T15:46:43.389Z"
   },
   {
    "duration": 3,
    "start_time": "2023-10-07T15:46:57.450Z"
   },
   {
    "duration": 128,
    "start_time": "2023-10-07T15:46:58.009Z"
   },
   {
    "duration": 256,
    "start_time": "2023-10-07T15:48:20.797Z"
   },
   {
    "duration": 12,
    "start_time": "2023-10-07T15:48:50.363Z"
   },
   {
    "duration": 337,
    "start_time": "2023-10-07T15:48:56.962Z"
   },
   {
    "duration": 157,
    "start_time": "2023-10-07T15:49:51.046Z"
   },
   {
    "duration": 293,
    "start_time": "2023-10-07T15:50:07.861Z"
   },
   {
    "duration": 132,
    "start_time": "2023-10-07T15:50:18.153Z"
   },
   {
    "duration": 116,
    "start_time": "2023-10-07T15:52:03.554Z"
   },
   {
    "duration": 115,
    "start_time": "2023-10-07T15:52:14.174Z"
   },
   {
    "duration": 118,
    "start_time": "2023-10-07T15:52:23.159Z"
   },
   {
    "duration": 113,
    "start_time": "2023-10-07T15:52:30.745Z"
   },
   {
    "duration": 105,
    "start_time": "2023-10-07T15:54:58.760Z"
   },
   {
    "duration": 154,
    "start_time": "2023-10-07T15:55:10.378Z"
   },
   {
    "duration": 133,
    "start_time": "2023-10-07T15:55:32.158Z"
   },
   {
    "duration": 158,
    "start_time": "2023-10-07T15:58:05.054Z"
   },
   {
    "duration": 144,
    "start_time": "2023-10-07T15:58:06.857Z"
   },
   {
    "duration": 449,
    "start_time": "2023-10-07T15:58:12.634Z"
   },
   {
    "duration": 18,
    "start_time": "2023-10-07T15:59:28.118Z"
   },
   {
    "duration": 142,
    "start_time": "2023-10-07T16:01:20.815Z"
   },
   {
    "duration": 130,
    "start_time": "2023-10-07T16:01:26.735Z"
   },
   {
    "duration": 147,
    "start_time": "2023-10-07T16:02:38.809Z"
   },
   {
    "duration": 121,
    "start_time": "2023-10-07T16:02:54.171Z"
   },
   {
    "duration": 124,
    "start_time": "2023-10-07T16:03:06.390Z"
   },
   {
    "duration": 130,
    "start_time": "2023-10-07T16:05:40.777Z"
   },
   {
    "duration": 134,
    "start_time": "2023-10-07T16:05:50.842Z"
   },
   {
    "duration": 130,
    "start_time": "2023-10-07T16:05:56.040Z"
   },
   {
    "duration": 120,
    "start_time": "2023-10-07T16:06:12.135Z"
   },
   {
    "duration": 126,
    "start_time": "2023-10-07T16:07:03.786Z"
   },
   {
    "duration": 225,
    "start_time": "2023-10-07T16:07:12.819Z"
   },
   {
    "duration": 9,
    "start_time": "2023-10-07T16:11:25.055Z"
   },
   {
    "duration": 80,
    "start_time": "2023-10-07T16:15:04.422Z"
   },
   {
    "duration": 11,
    "start_time": "2023-10-07T16:15:08.706Z"
   },
   {
    "duration": 10,
    "start_time": "2023-10-07T16:21:50.329Z"
   },
   {
    "duration": 182,
    "start_time": "2023-10-07T16:22:44.912Z"
   },
   {
    "duration": 219,
    "start_time": "2023-10-07T16:22:56.062Z"
   },
   {
    "duration": 3,
    "start_time": "2023-10-07T16:23:38.697Z"
   },
   {
    "duration": 3,
    "start_time": "2023-10-07T16:23:39.106Z"
   },
   {
    "duration": 4,
    "start_time": "2023-10-07T16:23:39.446Z"
   },
   {
    "duration": 3,
    "start_time": "2023-10-07T16:23:39.703Z"
   },
   {
    "duration": 3,
    "start_time": "2023-10-07T16:23:39.980Z"
   },
   {
    "duration": 4,
    "start_time": "2023-10-07T16:23:40.190Z"
   },
   {
    "duration": 4,
    "start_time": "2023-10-07T16:23:40.413Z"
   },
   {
    "duration": 210,
    "start_time": "2023-10-07T16:23:40.782Z"
   },
   {
    "duration": 6,
    "start_time": "2023-10-07T16:23:45.280Z"
   },
   {
    "duration": 15,
    "start_time": "2023-10-07T17:47:03.399Z"
   },
   {
    "duration": 6,
    "start_time": "2023-10-07T17:48:13.580Z"
   },
   {
    "duration": 8,
    "start_time": "2023-10-07T17:48:28.314Z"
   },
   {
    "duration": 7,
    "start_time": "2023-10-07T17:48:36.068Z"
   },
   {
    "duration": 7,
    "start_time": "2023-10-07T17:48:53.772Z"
   },
   {
    "duration": 116,
    "start_time": "2023-10-07T17:52:35.655Z"
   },
   {
    "duration": 17,
    "start_time": "2023-10-07T17:52:44.759Z"
   },
   {
    "duration": 6,
    "start_time": "2023-10-07T17:53:31.498Z"
   },
   {
    "duration": 6,
    "start_time": "2023-10-07T17:53:38.895Z"
   },
   {
    "duration": 10,
    "start_time": "2023-10-07T17:56:36.261Z"
   },
   {
    "duration": 7,
    "start_time": "2023-10-07T17:57:10.116Z"
   },
   {
    "duration": 4,
    "start_time": "2023-10-07T17:57:40.455Z"
   },
   {
    "duration": 10,
    "start_time": "2023-10-07T18:04:47.542Z"
   },
   {
    "duration": 7,
    "start_time": "2023-10-07T18:04:52.343Z"
   },
   {
    "duration": 8,
    "start_time": "2023-10-07T18:05:16.320Z"
   },
   {
    "duration": 3,
    "start_time": "2023-10-07T18:05:26.481Z"
   },
   {
    "duration": 52,
    "start_time": "2023-10-07T18:05:26.490Z"
   },
   {
    "duration": 27,
    "start_time": "2023-10-07T18:05:26.544Z"
   },
   {
    "duration": 15,
    "start_time": "2023-10-07T18:05:26.573Z"
   },
   {
    "duration": 8,
    "start_time": "2023-10-07T18:05:26.590Z"
   },
   {
    "duration": 13,
    "start_time": "2023-10-07T18:05:26.600Z"
   },
   {
    "duration": 36,
    "start_time": "2023-10-07T18:05:26.614Z"
   },
   {
    "duration": 14,
    "start_time": "2023-10-07T18:05:26.652Z"
   },
   {
    "duration": 61,
    "start_time": "2023-10-07T18:05:26.667Z"
   },
   {
    "duration": 35,
    "start_time": "2023-10-07T18:05:26.731Z"
   },
   {
    "duration": 52,
    "start_time": "2023-10-07T18:05:26.768Z"
   },
   {
    "duration": 14,
    "start_time": "2023-10-07T18:05:26.822Z"
   },
   {
    "duration": 13,
    "start_time": "2023-10-07T18:05:26.843Z"
   },
   {
    "duration": 20,
    "start_time": "2023-10-07T18:05:26.857Z"
   },
   {
    "duration": 21,
    "start_time": "2023-10-07T18:05:26.879Z"
   },
   {
    "duration": 33,
    "start_time": "2023-10-07T18:05:26.902Z"
   },
   {
    "duration": 24,
    "start_time": "2023-10-07T18:05:26.937Z"
   },
   {
    "duration": 31,
    "start_time": "2023-10-07T18:05:26.962Z"
   },
   {
    "duration": 12,
    "start_time": "2023-10-07T18:05:26.994Z"
   },
   {
    "duration": 23,
    "start_time": "2023-10-07T18:05:27.008Z"
   },
   {
    "duration": 23,
    "start_time": "2023-10-07T18:05:27.033Z"
   },
   {
    "duration": 13,
    "start_time": "2023-10-07T18:05:27.057Z"
   },
   {
    "duration": 7,
    "start_time": "2023-10-07T18:05:27.072Z"
   },
   {
    "duration": 8,
    "start_time": "2023-10-07T18:05:27.081Z"
   },
   {
    "duration": 11,
    "start_time": "2023-10-07T18:05:27.091Z"
   },
   {
    "duration": 13,
    "start_time": "2023-10-07T18:05:27.103Z"
   },
   {
    "duration": 16,
    "start_time": "2023-10-07T18:05:27.124Z"
   },
   {
    "duration": 6,
    "start_time": "2023-10-07T18:05:27.146Z"
   },
   {
    "duration": 4,
    "start_time": "2023-10-07T18:05:27.157Z"
   },
   {
    "duration": 15,
    "start_time": "2023-10-07T18:05:27.163Z"
   },
   {
    "duration": 233,
    "start_time": "2023-10-07T18:05:27.180Z"
   },
   {
    "duration": 9,
    "start_time": "2023-10-07T18:05:27.426Z"
   },
   {
    "duration": 8,
    "start_time": "2023-10-07T18:05:27.448Z"
   },
   {
    "duration": 8,
    "start_time": "2023-10-07T18:05:27.458Z"
   },
   {
    "duration": 17,
    "start_time": "2023-10-07T18:05:27.468Z"
   },
   {
    "duration": 127,
    "start_time": "2023-10-07T18:05:27.487Z"
   },
   {
    "duration": 25,
    "start_time": "2023-10-07T18:05:27.615Z"
   },
   {
    "duration": 5,
    "start_time": "2023-10-07T18:05:27.649Z"
   },
   {
    "duration": 362,
    "start_time": "2023-10-07T18:05:27.655Z"
   },
   {
    "duration": 30,
    "start_time": "2023-10-07T18:05:28.019Z"
   },
   {
    "duration": 403,
    "start_time": "2023-10-07T18:05:28.050Z"
   },
   {
    "duration": 10,
    "start_time": "2023-10-07T18:05:28.455Z"
   },
   {
    "duration": 15,
    "start_time": "2023-10-07T18:05:28.467Z"
   },
   {
    "duration": 411,
    "start_time": "2023-10-07T18:05:28.484Z"
   },
   {
    "duration": 9,
    "start_time": "2023-10-07T18:05:28.897Z"
   },
   {
    "duration": 17,
    "start_time": "2023-10-07T18:05:28.908Z"
   },
   {
    "duration": 17,
    "start_time": "2023-10-07T18:05:28.929Z"
   },
   {
    "duration": 10,
    "start_time": "2023-10-07T18:05:28.948Z"
   },
   {
    "duration": 4,
    "start_time": "2023-10-07T18:05:28.960Z"
   },
   {
    "duration": 6,
    "start_time": "2023-10-07T18:05:28.965Z"
   },
   {
    "duration": 12,
    "start_time": "2023-10-07T18:05:28.972Z"
   },
   {
    "duration": 9,
    "start_time": "2023-10-07T18:05:28.986Z"
   },
   {
    "duration": 7,
    "start_time": "2023-10-07T18:05:28.997Z"
   },
   {
    "duration": 44,
    "start_time": "2023-10-07T18:05:29.006Z"
   },
   {
    "duration": 8,
    "start_time": "2023-10-07T18:05:29.051Z"
   },
   {
    "duration": 3,
    "start_time": "2023-10-07T18:05:29.061Z"
   },
   {
    "duration": 15,
    "start_time": "2023-10-07T18:05:29.065Z"
   },
   {
    "duration": 6,
    "start_time": "2023-10-07T18:05:29.081Z"
   },
   {
    "duration": 582,
    "start_time": "2023-10-07T18:05:29.088Z"
   },
   {
    "duration": 9,
    "start_time": "2023-10-07T18:05:29.671Z"
   },
   {
    "duration": 406,
    "start_time": "2023-10-07T18:05:29.682Z"
   },
   {
    "duration": 9,
    "start_time": "2023-10-07T18:05:30.089Z"
   },
   {
    "duration": 408,
    "start_time": "2023-10-07T18:05:30.100Z"
   },
   {
    "duration": 19,
    "start_time": "2023-10-07T18:05:30.510Z"
   },
   {
    "duration": 486,
    "start_time": "2023-10-07T18:05:30.530Z"
   },
   {
    "duration": 20,
    "start_time": "2023-10-07T18:05:31.024Z"
   },
   {
    "duration": 54,
    "start_time": "2023-10-07T18:05:31.046Z"
   },
   {
    "duration": 126,
    "start_time": "2023-10-07T18:05:31.101Z"
   },
   {
    "duration": 88,
    "start_time": "2023-10-07T18:05:31.235Z"
   },
   {
    "duration": 361,
    "start_time": "2023-10-07T18:05:31.324Z"
   },
   {
    "duration": 28835,
    "start_time": "2023-10-07T18:05:31.687Z"
   },
   {
    "duration": 24,
    "start_time": "2023-10-07T18:06:00.529Z"
   },
   {
    "duration": 36,
    "start_time": "2023-10-07T18:06:00.555Z"
   },
   {
    "duration": 41,
    "start_time": "2023-10-07T18:06:00.593Z"
   },
   {
    "duration": 36,
    "start_time": "2023-10-07T18:06:00.636Z"
   },
   {
    "duration": 29,
    "start_time": "2023-10-07T18:06:00.674Z"
   },
   {
    "duration": 35,
    "start_time": "2023-10-07T18:06:00.704Z"
   },
   {
    "duration": 23610,
    "start_time": "2023-10-07T18:06:00.741Z"
   },
   {
    "duration": 16,
    "start_time": "2023-10-07T18:06:24.354Z"
   },
   {
    "duration": 17,
    "start_time": "2023-10-07T18:06:24.371Z"
   },
   {
    "duration": 10,
    "start_time": "2023-10-07T18:06:24.390Z"
   },
   {
    "duration": 4,
    "start_time": "2023-10-07T18:06:24.402Z"
   },
   {
    "duration": 6,
    "start_time": "2023-10-07T18:06:24.407Z"
   },
   {
    "duration": 31,
    "start_time": "2023-10-07T18:06:24.414Z"
   },
   {
    "duration": 19,
    "start_time": "2023-10-07T18:06:24.449Z"
   },
   {
    "duration": 29,
    "start_time": "2023-10-07T18:06:24.470Z"
   },
   {
    "duration": 10,
    "start_time": "2023-10-07T18:06:24.501Z"
   },
   {
    "duration": 9,
    "start_time": "2023-10-07T18:06:24.512Z"
   },
   {
    "duration": 21,
    "start_time": "2023-10-07T18:06:24.523Z"
   },
   {
    "duration": 361,
    "start_time": "2023-10-07T18:06:24.547Z"
   },
   {
    "duration": 4,
    "start_time": "2023-10-07T18:06:24.910Z"
   },
   {
    "duration": 10,
    "start_time": "2023-10-07T18:06:24.924Z"
   },
   {
    "duration": 11,
    "start_time": "2023-10-07T18:06:24.935Z"
   },
   {
    "duration": 3,
    "start_time": "2023-10-07T18:06:24.949Z"
   },
   {
    "duration": 6,
    "start_time": "2023-10-07T18:06:24.953Z"
   },
   {
    "duration": 10,
    "start_time": "2023-10-07T18:06:24.960Z"
   },
   {
    "duration": 10,
    "start_time": "2023-10-07T18:06:24.971Z"
   },
   {
    "duration": 5,
    "start_time": "2023-10-07T18:06:24.982Z"
   },
   {
    "duration": 14,
    "start_time": "2023-10-07T18:06:24.989Z"
   },
   {
    "duration": 224,
    "start_time": "2023-10-07T18:06:25.005Z"
   },
   {
    "duration": 371,
    "start_time": "2023-10-07T18:10:51.632Z"
   },
   {
    "duration": 11,
    "start_time": "2023-10-07T18:11:10.871Z"
   },
   {
    "duration": 311,
    "start_time": "2023-10-07T18:50:11.006Z"
   },
   {
    "duration": 604,
    "start_time": "2023-10-07T18:51:20.444Z"
   },
   {
    "duration": 333,
    "start_time": "2023-10-07T18:51:58.538Z"
   },
   {
    "duration": 342,
    "start_time": "2023-10-07T18:52:22.869Z"
   },
   {
    "duration": 344,
    "start_time": "2023-10-07T18:52:28.863Z"
   },
   {
    "duration": 343,
    "start_time": "2023-10-07T18:52:34.997Z"
   },
   {
    "duration": 375,
    "start_time": "2023-10-07T18:52:44.037Z"
   },
   {
    "duration": 435,
    "start_time": "2023-10-07T18:53:10.235Z"
   },
   {
    "duration": 760,
    "start_time": "2023-10-07T18:53:15.966Z"
   },
   {
    "duration": 339,
    "start_time": "2023-10-07T18:53:29.824Z"
   },
   {
    "duration": 25,
    "start_time": "2023-10-07T18:54:13.913Z"
   },
   {
    "duration": 19,
    "start_time": "2023-10-07T18:54:28.372Z"
   },
   {
    "duration": 361,
    "start_time": "2023-10-07T18:54:55.012Z"
   },
   {
    "duration": 343,
    "start_time": "2023-10-07T18:54:59.769Z"
   },
   {
    "duration": 376,
    "start_time": "2023-10-07T18:55:04.896Z"
   },
   {
    "duration": 390,
    "start_time": "2023-10-07T18:55:10.860Z"
   },
   {
    "duration": 618,
    "start_time": "2023-10-07T18:55:14.419Z"
   },
   {
    "duration": 1202,
    "start_time": "2023-10-07T18:58:02.387Z"
   },
   {
    "duration": 33,
    "start_time": "2023-10-07T18:58:03.591Z"
   },
   {
    "duration": 163,
    "start_time": "2023-10-07T18:58:03.630Z"
   },
   {
    "duration": 25,
    "start_time": "2023-10-07T18:58:03.795Z"
   },
   {
    "duration": 16,
    "start_time": "2023-10-07T18:58:03.821Z"
   },
   {
    "duration": 20,
    "start_time": "2023-10-07T18:58:03.839Z"
   },
   {
    "duration": 18,
    "start_time": "2023-10-07T18:58:03.861Z"
   },
   {
    "duration": 21,
    "start_time": "2023-10-07T18:58:03.881Z"
   },
   {
    "duration": 32,
    "start_time": "2023-10-07T18:58:03.904Z"
   },
   {
    "duration": 11,
    "start_time": "2023-10-07T18:58:03.939Z"
   },
   {
    "duration": 16,
    "start_time": "2023-10-07T18:58:03.952Z"
   },
   {
    "duration": 8,
    "start_time": "2023-10-07T18:58:03.970Z"
   },
   {
    "duration": 5,
    "start_time": "2023-10-07T18:58:03.979Z"
   },
   {
    "duration": 16,
    "start_time": "2023-10-07T18:58:03.986Z"
   },
   {
    "duration": 6,
    "start_time": "2023-10-07T18:58:04.004Z"
   },
   {
    "duration": 8,
    "start_time": "2023-10-07T18:58:04.011Z"
   },
   {
    "duration": 18,
    "start_time": "2023-10-07T18:58:04.028Z"
   },
   {
    "duration": 18,
    "start_time": "2023-10-07T18:58:04.048Z"
   },
   {
    "duration": 18,
    "start_time": "2023-10-07T18:58:04.067Z"
   },
   {
    "duration": 5,
    "start_time": "2023-10-07T18:58:04.087Z"
   },
   {
    "duration": 24,
    "start_time": "2023-10-07T18:58:04.094Z"
   },
   {
    "duration": 17,
    "start_time": "2023-10-07T18:58:04.120Z"
   },
   {
    "duration": 20,
    "start_time": "2023-10-07T18:58:04.139Z"
   },
   {
    "duration": 6,
    "start_time": "2023-10-07T18:58:04.161Z"
   },
   {
    "duration": 7,
    "start_time": "2023-10-07T18:58:04.168Z"
   },
   {
    "duration": 9,
    "start_time": "2023-10-07T18:58:04.177Z"
   },
   {
    "duration": 14,
    "start_time": "2023-10-07T18:58:04.187Z"
   },
   {
    "duration": 14,
    "start_time": "2023-10-07T18:58:04.205Z"
   },
   {
    "duration": 11,
    "start_time": "2023-10-07T18:58:04.221Z"
   },
   {
    "duration": 11,
    "start_time": "2023-10-07T18:58:04.233Z"
   },
   {
    "duration": 219,
    "start_time": "2023-10-07T18:58:04.246Z"
   },
   {
    "duration": 7,
    "start_time": "2023-10-07T18:58:04.467Z"
   },
   {
    "duration": 16,
    "start_time": "2023-10-07T18:58:04.476Z"
   },
   {
    "duration": 10,
    "start_time": "2023-10-07T18:58:04.494Z"
   },
   {
    "duration": 30,
    "start_time": "2023-10-07T18:58:04.505Z"
   },
   {
    "duration": 107,
    "start_time": "2023-10-07T18:58:04.537Z"
   },
   {
    "duration": 8,
    "start_time": "2023-10-07T18:58:04.645Z"
   },
   {
    "duration": 18,
    "start_time": "2023-10-07T18:58:04.655Z"
   },
   {
    "duration": 341,
    "start_time": "2023-10-07T18:58:04.675Z"
   },
   {
    "duration": 19,
    "start_time": "2023-10-07T18:58:05.018Z"
   },
   {
    "duration": 399,
    "start_time": "2023-10-07T18:58:05.041Z"
   },
   {
    "duration": 9,
    "start_time": "2023-10-07T18:58:05.441Z"
   },
   {
    "duration": 53,
    "start_time": "2023-10-07T18:58:05.451Z"
   },
   {
    "duration": 589,
    "start_time": "2023-10-07T18:58:05.506Z"
   },
   {
    "duration": 9,
    "start_time": "2023-10-07T18:58:06.097Z"
   },
   {
    "duration": 33,
    "start_time": "2023-10-07T18:58:06.107Z"
   },
   {
    "duration": 153,
    "start_time": "2023-10-07T18:58:06.142Z"
   },
   {
    "duration": 193,
    "start_time": "2023-10-07T18:58:06.297Z"
   },
   {
    "duration": 45,
    "start_time": "2023-10-07T18:58:06.491Z"
   },
   {
    "duration": 49,
    "start_time": "2023-10-07T18:58:06.538Z"
   },
   {
    "duration": 451,
    "start_time": "2023-10-07T18:58:06.589Z"
   },
   {
    "duration": 8,
    "start_time": "2023-10-07T18:58:07.042Z"
   },
   {
    "duration": 42,
    "start_time": "2023-10-07T18:58:07.052Z"
   },
   {
    "duration": 55,
    "start_time": "2023-10-07T18:58:07.096Z"
   },
   {
    "duration": 52,
    "start_time": "2023-10-07T18:58:07.153Z"
   },
   {
    "duration": 48,
    "start_time": "2023-10-07T18:58:07.206Z"
   },
   {
    "duration": 203,
    "start_time": "2023-10-07T18:58:07.256Z"
   },
   {
    "duration": 124,
    "start_time": "2023-10-07T18:58:07.461Z"
   },
   {
    "duration": 115,
    "start_time": "2023-10-07T18:58:07.587Z"
   },
   {
    "duration": 34,
    "start_time": "2023-10-07T18:58:07.704Z"
   },
   {
    "duration": 376,
    "start_time": "2023-10-07T18:58:07.740Z"
   },
   {
    "duration": 20,
    "start_time": "2023-10-07T18:58:08.123Z"
   },
   {
    "duration": 491,
    "start_time": "2023-10-07T18:58:08.144Z"
   },
   {
    "duration": 9,
    "start_time": "2023-10-07T18:58:08.637Z"
   },
   {
    "duration": 394,
    "start_time": "2023-10-07T18:58:08.648Z"
   },
   {
    "duration": 8,
    "start_time": "2023-10-07T18:58:09.044Z"
   },
   {
    "duration": 535,
    "start_time": "2023-10-07T18:58:09.054Z"
   },
   {
    "duration": 9,
    "start_time": "2023-10-07T18:58:09.591Z"
   },
   {
    "duration": 56,
    "start_time": "2023-10-07T18:58:09.601Z"
   },
   {
    "duration": 44,
    "start_time": "2023-10-07T18:58:09.659Z"
   },
   {
    "duration": 54,
    "start_time": "2023-10-07T18:58:09.705Z"
   },
   {
    "duration": 34,
    "start_time": "2023-10-07T18:58:09.760Z"
   },
   {
    "duration": 27232,
    "start_time": "2023-10-07T18:58:09.796Z"
   },
   {
    "duration": 24,
    "start_time": "2023-10-07T18:58:37.030Z"
   },
   {
    "duration": 499,
    "start_time": "2023-10-07T18:58:37.056Z"
   },
   {
    "duration": 19,
    "start_time": "2023-10-07T18:58:37.558Z"
   },
   {
    "duration": 221,
    "start_time": "2023-10-07T18:58:37.579Z"
   },
   {
    "duration": 47,
    "start_time": "2023-10-07T18:58:37.802Z"
   },
   {
    "duration": 71,
    "start_time": "2023-10-07T18:58:37.851Z"
   },
   {
    "duration": 65,
    "start_time": "2023-10-07T18:58:37.926Z"
   },
   {
    "duration": 67,
    "start_time": "2023-10-07T18:58:37.992Z"
   },
   {
    "duration": 21650,
    "start_time": "2023-10-07T18:58:38.064Z"
   },
   {
    "duration": 33,
    "start_time": "2023-10-07T18:58:59.715Z"
   },
   {
    "duration": 27,
    "start_time": "2023-10-07T18:58:59.749Z"
   },
   {
    "duration": 20,
    "start_time": "2023-10-07T18:58:59.778Z"
   },
   {
    "duration": 4,
    "start_time": "2023-10-07T18:58:59.799Z"
   },
   {
    "duration": 5,
    "start_time": "2023-10-07T18:58:59.805Z"
   },
   {
    "duration": 6,
    "start_time": "2023-10-07T18:58:59.811Z"
   },
   {
    "duration": 11,
    "start_time": "2023-10-07T18:58:59.819Z"
   },
   {
    "duration": 4,
    "start_time": "2023-10-07T18:58:59.834Z"
   },
   {
    "duration": 9,
    "start_time": "2023-10-07T18:58:59.839Z"
   },
   {
    "duration": 8,
    "start_time": "2023-10-07T18:58:59.850Z"
   },
   {
    "duration": 8,
    "start_time": "2023-10-07T18:58:59.859Z"
   },
   {
    "duration": 341,
    "start_time": "2023-10-07T18:58:59.868Z"
   },
   {
    "duration": 4,
    "start_time": "2023-10-07T18:59:00.210Z"
   },
   {
    "duration": 178,
    "start_time": "2023-10-07T18:59:00.215Z"
   },
   {
    "duration": 73,
    "start_time": "2023-10-07T18:59:00.395Z"
   },
   {
    "duration": 190,
    "start_time": "2023-10-07T18:59:00.470Z"
   },
   {
    "duration": 261,
    "start_time": "2023-10-07T18:59:00.662Z"
   },
   {
    "duration": 319,
    "start_time": "2023-10-07T18:59:00.924Z"
   },
   {
    "duration": 57,
    "start_time": "2023-10-07T18:59:01.245Z"
   },
   {
    "duration": 36,
    "start_time": "2023-10-07T18:59:01.304Z"
   },
   {
    "duration": 34,
    "start_time": "2023-10-07T18:59:01.342Z"
   },
   {
    "duration": 329,
    "start_time": "2023-10-07T18:59:01.378Z"
   },
   {
    "duration": 1178,
    "start_time": "2023-10-07T19:46:30.463Z"
   },
   {
    "duration": 77,
    "start_time": "2023-10-07T19:46:31.642Z"
   },
   {
    "duration": 67,
    "start_time": "2023-10-07T19:46:31.721Z"
   },
   {
    "duration": 53,
    "start_time": "2023-10-07T19:46:31.790Z"
   },
   {
    "duration": 11,
    "start_time": "2023-10-07T19:46:31.844Z"
   },
   {
    "duration": 19,
    "start_time": "2023-10-07T19:46:31.856Z"
   },
   {
    "duration": 21,
    "start_time": "2023-10-07T19:46:31.877Z"
   },
   {
    "duration": 27,
    "start_time": "2023-10-07T19:46:31.899Z"
   },
   {
    "duration": 36,
    "start_time": "2023-10-07T19:46:31.928Z"
   },
   {
    "duration": 38,
    "start_time": "2023-10-07T19:46:31.967Z"
   },
   {
    "duration": 29,
    "start_time": "2023-10-07T19:46:32.007Z"
   },
   {
    "duration": 20,
    "start_time": "2023-10-07T19:46:32.038Z"
   },
   {
    "duration": 24,
    "start_time": "2023-10-07T19:46:32.059Z"
   },
   {
    "duration": 36,
    "start_time": "2023-10-07T19:46:32.085Z"
   },
   {
    "duration": 21,
    "start_time": "2023-10-07T19:46:32.123Z"
   },
   {
    "duration": 16,
    "start_time": "2023-10-07T19:46:32.145Z"
   },
   {
    "duration": 45,
    "start_time": "2023-10-07T19:46:32.163Z"
   },
   {
    "duration": 12,
    "start_time": "2023-10-07T19:46:32.209Z"
   },
   {
    "duration": 32,
    "start_time": "2023-10-07T19:46:32.222Z"
   },
   {
    "duration": 10,
    "start_time": "2023-10-07T19:46:32.255Z"
   },
   {
    "duration": 16,
    "start_time": "2023-10-07T19:46:32.266Z"
   },
   {
    "duration": 17,
    "start_time": "2023-10-07T19:46:32.283Z"
   },
   {
    "duration": 10,
    "start_time": "2023-10-07T19:46:32.301Z"
   },
   {
    "duration": 18,
    "start_time": "2023-10-07T19:46:32.312Z"
   },
   {
    "duration": 14,
    "start_time": "2023-10-07T19:46:32.332Z"
   },
   {
    "duration": 12,
    "start_time": "2023-10-07T19:46:32.348Z"
   },
   {
    "duration": 17,
    "start_time": "2023-10-07T19:46:32.361Z"
   },
   {
    "duration": 4,
    "start_time": "2023-10-07T19:46:32.383Z"
   },
   {
    "duration": 11,
    "start_time": "2023-10-07T19:46:32.388Z"
   },
   {
    "duration": 22,
    "start_time": "2023-10-07T19:46:32.400Z"
   },
   {
    "duration": 271,
    "start_time": "2023-10-07T19:46:32.423Z"
   },
   {
    "duration": 12,
    "start_time": "2023-10-07T19:46:32.696Z"
   },
   {
    "duration": 5,
    "start_time": "2023-10-07T19:46:32.710Z"
   },
   {
    "duration": 3,
    "start_time": "2023-10-07T19:46:32.717Z"
   },
   {
    "duration": 21,
    "start_time": "2023-10-07T19:46:32.722Z"
   },
   {
    "duration": 105,
    "start_time": "2023-10-07T19:46:32.744Z"
   },
   {
    "duration": 10,
    "start_time": "2023-10-07T19:46:32.851Z"
   },
   {
    "duration": 54,
    "start_time": "2023-10-07T19:46:32.863Z"
   },
   {
    "duration": 350,
    "start_time": "2023-10-07T19:46:32.919Z"
   },
   {
    "duration": 7,
    "start_time": "2023-10-07T19:46:33.270Z"
   },
   {
    "duration": 349,
    "start_time": "2023-10-07T19:46:33.278Z"
   },
   {
    "duration": 19,
    "start_time": "2023-10-07T19:46:33.629Z"
   },
   {
    "duration": 51,
    "start_time": "2023-10-07T19:46:33.650Z"
   },
   {
    "duration": 425,
    "start_time": "2023-10-07T19:46:33.702Z"
   },
   {
    "duration": 17,
    "start_time": "2023-10-07T19:46:34.128Z"
   },
   {
    "duration": 10,
    "start_time": "2023-10-07T19:46:34.146Z"
   },
   {
    "duration": 8,
    "start_time": "2023-10-07T19:46:34.157Z"
   },
   {
    "duration": 8,
    "start_time": "2023-10-07T19:46:34.166Z"
   },
   {
    "duration": 4,
    "start_time": "2023-10-07T19:46:34.176Z"
   },
   {
    "duration": 4,
    "start_time": "2023-10-07T19:46:34.182Z"
   },
   {
    "duration": 348,
    "start_time": "2023-10-07T19:46:34.188Z"
   },
   {
    "duration": 8,
    "start_time": "2023-10-07T19:46:34.539Z"
   },
   {
    "duration": 2,
    "start_time": "2023-10-07T19:46:34.549Z"
   },
   {
    "duration": 10,
    "start_time": "2023-10-07T19:46:34.552Z"
   },
   {
    "duration": 7,
    "start_time": "2023-10-07T19:46:34.564Z"
   },
   {
    "duration": 21,
    "start_time": "2023-10-07T19:46:34.573Z"
   },
   {
    "duration": 9,
    "start_time": "2023-10-07T19:46:34.596Z"
   },
   {
    "duration": 34,
    "start_time": "2023-10-07T19:46:34.606Z"
   },
   {
    "duration": 6,
    "start_time": "2023-10-07T19:46:34.642Z"
   },
   {
    "duration": 4,
    "start_time": "2023-10-07T19:46:34.650Z"
   },
   {
    "duration": 322,
    "start_time": "2023-10-07T19:46:34.656Z"
   },
   {
    "duration": 8,
    "start_time": "2023-10-07T19:46:34.980Z"
   },
   {
    "duration": 293,
    "start_time": "2023-10-07T19:46:34.990Z"
   },
   {
    "duration": 8,
    "start_time": "2023-10-07T19:46:35.284Z"
   },
   {
    "duration": 266,
    "start_time": "2023-10-07T19:46:35.293Z"
   },
   {
    "duration": 7,
    "start_time": "2023-10-07T19:46:35.560Z"
   },
   {
    "duration": 366,
    "start_time": "2023-10-07T19:46:35.568Z"
   },
   {
    "duration": 10,
    "start_time": "2023-10-07T19:46:35.939Z"
   },
   {
    "duration": 11,
    "start_time": "2023-10-07T19:46:35.951Z"
   },
   {
    "duration": 17,
    "start_time": "2023-10-07T19:46:35.963Z"
   },
   {
    "duration": 11,
    "start_time": "2023-10-07T19:46:35.981Z"
   },
   {
    "duration": 10,
    "start_time": "2023-10-07T19:46:35.993Z"
   },
   {
    "duration": 20995,
    "start_time": "2023-10-07T19:46:36.005Z"
   },
   {
    "duration": 12,
    "start_time": "2023-10-07T19:46:57.001Z"
   },
   {
    "duration": 295,
    "start_time": "2023-10-07T19:46:57.014Z"
   },
   {
    "duration": 15,
    "start_time": "2023-10-07T19:46:57.310Z"
   },
   {
    "duration": 3,
    "start_time": "2023-10-07T19:46:57.326Z"
   },
   {
    "duration": 7,
    "start_time": "2023-10-07T19:46:57.340Z"
   },
   {
    "duration": 4,
    "start_time": "2023-10-07T19:46:57.348Z"
   },
   {
    "duration": 5,
    "start_time": "2023-10-07T19:46:57.353Z"
   },
   {
    "duration": 5,
    "start_time": "2023-10-07T19:46:57.359Z"
   },
   {
    "duration": 16965,
    "start_time": "2023-10-07T19:46:57.368Z"
   },
   {
    "duration": 15,
    "start_time": "2023-10-07T19:47:14.334Z"
   },
   {
    "duration": 10,
    "start_time": "2023-10-07T19:47:14.350Z"
   },
   {
    "duration": 5,
    "start_time": "2023-10-07T19:47:14.361Z"
   },
   {
    "duration": 7,
    "start_time": "2023-10-07T19:47:14.367Z"
   },
   {
    "duration": 4,
    "start_time": "2023-10-07T19:47:14.375Z"
   },
   {
    "duration": 8,
    "start_time": "2023-10-07T19:47:14.381Z"
   },
   {
    "duration": 10,
    "start_time": "2023-10-07T19:47:14.390Z"
   },
   {
    "duration": 5,
    "start_time": "2023-10-07T19:47:14.401Z"
   },
   {
    "duration": 5,
    "start_time": "2023-10-07T19:47:14.407Z"
   },
   {
    "duration": 8,
    "start_time": "2023-10-07T19:47:14.413Z"
   },
   {
    "duration": 16,
    "start_time": "2023-10-07T19:47:14.423Z"
   },
   {
    "duration": 355,
    "start_time": "2023-10-07T19:47:14.441Z"
   },
   {
    "duration": 2,
    "start_time": "2023-10-07T19:47:14.798Z"
   },
   {
    "duration": 8,
    "start_time": "2023-10-07T19:47:14.801Z"
   },
   {
    "duration": 10,
    "start_time": "2023-10-07T19:47:14.810Z"
   },
   {
    "duration": 8,
    "start_time": "2023-10-07T19:47:14.822Z"
   },
   {
    "duration": 4,
    "start_time": "2023-10-07T19:47:14.831Z"
   },
   {
    "duration": 11,
    "start_time": "2023-10-07T19:47:14.836Z"
   },
   {
    "duration": 9,
    "start_time": "2023-10-07T19:47:14.848Z"
   },
   {
    "duration": 4,
    "start_time": "2023-10-07T19:47:14.858Z"
   },
   {
    "duration": 5,
    "start_time": "2023-10-07T19:47:14.864Z"
   },
   {
    "duration": 177,
    "start_time": "2023-10-07T19:47:14.871Z"
   },
   {
    "duration": 50,
    "start_time": "2023-10-08T17:10:07.803Z"
   },
   {
    "duration": 1396,
    "start_time": "2023-10-08T17:10:13.782Z"
   },
   {
    "duration": 78,
    "start_time": "2023-10-08T17:10:15.180Z"
   },
   {
    "duration": 82,
    "start_time": "2023-10-08T17:10:15.260Z"
   },
   {
    "duration": 55,
    "start_time": "2023-10-08T17:10:15.345Z"
   },
   {
    "duration": 14,
    "start_time": "2023-10-08T17:10:15.402Z"
   },
   {
    "duration": 67,
    "start_time": "2023-10-08T17:10:15.418Z"
   },
   {
    "duration": 56,
    "start_time": "2023-10-08T17:10:15.487Z"
   },
   {
    "duration": 38,
    "start_time": "2023-10-08T17:10:15.546Z"
   },
   {
    "duration": 18,
    "start_time": "2023-10-08T17:10:15.587Z"
   },
   {
    "duration": 69,
    "start_time": "2023-10-08T17:10:15.609Z"
   },
   {
    "duration": 198,
    "start_time": "2023-10-08T17:10:15.680Z"
   },
   {
    "duration": 243,
    "start_time": "2023-10-08T17:10:15.880Z"
   },
   {
    "duration": 89,
    "start_time": "2023-10-08T17:10:16.124Z"
   },
   {
    "duration": 46,
    "start_time": "2023-10-08T17:10:16.215Z"
   },
   {
    "duration": 39,
    "start_time": "2023-10-08T17:10:16.263Z"
   },
   {
    "duration": 37,
    "start_time": "2023-10-08T17:10:16.304Z"
   },
   {
    "duration": 32,
    "start_time": "2023-10-08T17:10:16.343Z"
   },
   {
    "duration": 6,
    "start_time": "2023-10-08T17:10:20.472Z"
   },
   {
    "duration": 5,
    "start_time": "2023-10-08T17:10:36.580Z"
   },
   {
    "duration": 8,
    "start_time": "2023-10-08T17:13:50.959Z"
   },
   {
    "duration": 10,
    "start_time": "2023-10-08T17:13:51.242Z"
   },
   {
    "duration": 9,
    "start_time": "2023-10-08T17:13:51.733Z"
   },
   {
    "duration": 8,
    "start_time": "2023-10-08T17:13:56.667Z"
   },
   {
    "duration": 17,
    "start_time": "2023-10-08T17:13:56.920Z"
   },
   {
    "duration": 5,
    "start_time": "2023-10-08T17:13:57.218Z"
   },
   {
    "duration": 6,
    "start_time": "2023-10-08T17:13:58.012Z"
   },
   {
    "duration": 8,
    "start_time": "2023-10-08T17:13:59.761Z"
   },
   {
    "duration": 14,
    "start_time": "2023-10-08T17:14:05.937Z"
   },
   {
    "duration": 4,
    "start_time": "2023-10-08T17:14:06.192Z"
   },
   {
    "duration": 5,
    "start_time": "2023-10-08T17:14:06.461Z"
   },
   {
    "duration": 4,
    "start_time": "2023-10-08T17:14:06.683Z"
   },
   {
    "duration": 8,
    "start_time": "2023-10-08T17:14:06.958Z"
   },
   {
    "duration": 220,
    "start_time": "2023-10-08T17:14:07.584Z"
   },
   {
    "duration": 14,
    "start_time": "2023-10-08T17:14:15.987Z"
   },
   {
    "duration": 5,
    "start_time": "2023-10-08T17:14:16.240Z"
   },
   {
    "duration": 4,
    "start_time": "2023-10-08T17:14:16.467Z"
   },
   {
    "duration": 8,
    "start_time": "2023-10-08T17:14:16.694Z"
   },
   {
    "duration": 125,
    "start_time": "2023-10-08T17:14:16.909Z"
   },
   {
    "duration": 9,
    "start_time": "2023-10-08T17:14:43.041Z"
   },
   {
    "duration": 5,
    "start_time": "2023-10-08T17:14:43.720Z"
   },
   {
    "duration": 362,
    "start_time": "2023-10-08T17:14:43.929Z"
   },
   {
    "duration": 11,
    "start_time": "2023-10-08T17:14:44.346Z"
   },
   {
    "duration": 409,
    "start_time": "2023-10-08T17:14:45.200Z"
   },
   {
    "duration": 16,
    "start_time": "2023-10-08T17:14:45.611Z"
   },
   {
    "duration": 182,
    "start_time": "2023-10-08T17:14:46.037Z"
   },
   {
    "duration": 395,
    "start_time": "2023-10-08T17:14:50.995Z"
   },
   {
    "duration": 11,
    "start_time": "2023-10-08T17:14:51.630Z"
   },
   {
    "duration": 8,
    "start_time": "2023-10-08T17:14:52.186Z"
   },
   {
    "duration": 7,
    "start_time": "2023-10-08T17:14:53.563Z"
   },
   {
    "duration": 7,
    "start_time": "2023-10-08T17:14:54.016Z"
   },
   {
    "duration": 6,
    "start_time": "2023-10-08T17:14:55.453Z"
   },
   {
    "duration": 7,
    "start_time": "2023-10-08T17:14:56.081Z"
   },
   {
    "duration": 417,
    "start_time": "2023-10-08T17:14:57.138Z"
   },
   {
    "duration": 11,
    "start_time": "2023-10-08T17:14:58.391Z"
   },
   {
    "duration": 3,
    "start_time": "2023-10-08T17:16:06.030Z"
   },
   {
    "duration": 10,
    "start_time": "2023-10-08T17:16:06.319Z"
   },
   {
    "duration": 10,
    "start_time": "2023-10-08T17:16:06.524Z"
   },
   {
    "duration": 17,
    "start_time": "2023-10-08T17:16:06.835Z"
   },
   {
    "duration": 12,
    "start_time": "2023-10-08T17:16:10.359Z"
   },
   {
    "duration": 5,
    "start_time": "2023-10-08T17:16:10.771Z"
   },
   {
    "duration": 11,
    "start_time": "2023-10-08T17:16:11.660Z"
   },
   {
    "duration": 5,
    "start_time": "2023-10-08T17:16:11.949Z"
   },
   {
    "duration": 14,
    "start_time": "2023-10-08T17:16:32.304Z"
   },
   {
    "duration": 14,
    "start_time": "2023-10-08T17:16:42.209Z"
   },
   {
    "duration": 17,
    "start_time": "2023-10-08T17:17:02.352Z"
   },
   {
    "duration": 24,
    "start_time": "2023-10-08T17:17:19.017Z"
   },
   {
    "duration": 15,
    "start_time": "2023-10-08T17:17:29.775Z"
   },
   {
    "duration": 17,
    "start_time": "2023-10-08T17:17:39.739Z"
   },
   {
    "duration": 2,
    "start_time": "2023-10-08T17:22:49.362Z"
   },
   {
    "duration": 37,
    "start_time": "2023-10-08T17:22:49.381Z"
   },
   {
    "duration": 34,
    "start_time": "2023-10-08T17:22:49.421Z"
   },
   {
    "duration": 24,
    "start_time": "2023-10-08T17:22:49.457Z"
   },
   {
    "duration": 22,
    "start_time": "2023-10-08T17:22:49.483Z"
   },
   {
    "duration": 13,
    "start_time": "2023-10-08T17:22:49.507Z"
   },
   {
    "duration": 31,
    "start_time": "2023-10-08T17:22:49.522Z"
   },
   {
    "duration": 38,
    "start_time": "2023-10-08T17:22:49.554Z"
   },
   {
    "duration": 13,
    "start_time": "2023-10-08T17:22:49.593Z"
   },
   {
    "duration": 20,
    "start_time": "2023-10-08T17:22:49.608Z"
   },
   {
    "duration": 6,
    "start_time": "2023-10-08T17:22:49.636Z"
   },
   {
    "duration": 6,
    "start_time": "2023-10-08T17:22:49.644Z"
   },
   {
    "duration": 7,
    "start_time": "2023-10-08T17:22:49.652Z"
   },
   {
    "duration": 14,
    "start_time": "2023-10-08T17:22:49.660Z"
   },
   {
    "duration": 10,
    "start_time": "2023-10-08T17:22:49.676Z"
   },
   {
    "duration": 9,
    "start_time": "2023-10-08T17:22:49.688Z"
   },
   {
    "duration": 29,
    "start_time": "2023-10-08T17:22:49.699Z"
   },
   {
    "duration": 11,
    "start_time": "2023-10-08T17:22:49.729Z"
   },
   {
    "duration": 5,
    "start_time": "2023-10-08T17:22:49.742Z"
   },
   {
    "duration": 12,
    "start_time": "2023-10-08T17:22:49.749Z"
   },
   {
    "duration": 7,
    "start_time": "2023-10-08T17:22:49.763Z"
   },
   {
    "duration": 8,
    "start_time": "2023-10-08T17:22:49.772Z"
   },
   {
    "duration": 12,
    "start_time": "2023-10-08T17:22:49.781Z"
   },
   {
    "duration": 8,
    "start_time": "2023-10-08T17:22:49.795Z"
   },
   {
    "duration": 12,
    "start_time": "2023-10-08T17:22:49.825Z"
   },
   {
    "duration": 7,
    "start_time": "2023-10-08T17:22:49.839Z"
   },
   {
    "duration": 8,
    "start_time": "2023-10-08T17:22:49.848Z"
   },
   {
    "duration": 8,
    "start_time": "2023-10-08T17:22:49.857Z"
   },
   {
    "duration": 5,
    "start_time": "2023-10-08T17:22:49.868Z"
   },
   {
    "duration": 6,
    "start_time": "2023-10-08T17:22:49.874Z"
   },
   {
    "duration": 20,
    "start_time": "2023-10-08T17:22:49.881Z"
   },
   {
    "duration": 9,
    "start_time": "2023-10-08T17:22:49.903Z"
   },
   {
    "duration": 235,
    "start_time": "2023-10-08T17:22:49.913Z"
   },
   {
    "duration": 9,
    "start_time": "2023-10-08T17:22:50.149Z"
   },
   {
    "duration": 10,
    "start_time": "2023-10-08T17:22:50.159Z"
   },
   {
    "duration": 9,
    "start_time": "2023-10-08T17:22:50.170Z"
   },
   {
    "duration": 15,
    "start_time": "2023-10-08T17:22:50.180Z"
   },
   {
    "duration": 112,
    "start_time": "2023-10-08T17:22:50.196Z"
   },
   {
    "duration": 24,
    "start_time": "2023-10-08T17:22:50.309Z"
   },
   {
    "duration": 6,
    "start_time": "2023-10-08T17:22:50.341Z"
   },
   {
    "duration": 353,
    "start_time": "2023-10-08T17:22:50.349Z"
   },
   {
    "duration": 9,
    "start_time": "2023-10-08T17:22:50.703Z"
   },
   {
    "duration": 489,
    "start_time": "2023-10-08T17:22:50.723Z"
   },
   {
    "duration": 17,
    "start_time": "2023-10-08T17:22:51.215Z"
   },
   {
    "duration": 17,
    "start_time": "2023-10-08T17:22:51.235Z"
   },
   {
    "duration": 428,
    "start_time": "2023-10-08T17:22:51.254Z"
   },
   {
    "duration": 9,
    "start_time": "2023-10-08T17:22:51.684Z"
   },
   {
    "duration": 17,
    "start_time": "2023-10-08T17:22:51.694Z"
   },
   {
    "duration": 11,
    "start_time": "2023-10-08T17:22:51.725Z"
   },
   {
    "duration": 14,
    "start_time": "2023-10-08T17:22:51.738Z"
   },
   {
    "duration": 5,
    "start_time": "2023-10-08T17:22:51.754Z"
   },
   {
    "duration": 6,
    "start_time": "2023-10-08T17:22:51.760Z"
   },
   {
    "duration": 419,
    "start_time": "2023-10-08T17:22:51.767Z"
   },
   {
    "duration": 8,
    "start_time": "2023-10-08T17:22:52.187Z"
   },
   {
    "duration": 21,
    "start_time": "2023-10-08T17:22:52.197Z"
   },
   {
    "duration": 50,
    "start_time": "2023-10-08T17:22:52.220Z"
   },
   {
    "duration": 14,
    "start_time": "2023-10-08T17:22:52.272Z"
   },
   {
    "duration": 7,
    "start_time": "2023-10-08T17:23:22.443Z"
   },
   {
    "duration": 5,
    "start_time": "2023-10-08T17:32:00.241Z"
   },
   {
    "duration": 7,
    "start_time": "2023-10-08T17:32:12.633Z"
   },
   {
    "duration": 5,
    "start_time": "2023-10-08T17:32:39.186Z"
   },
   {
    "duration": 9,
    "start_time": "2023-10-08T17:32:59.686Z"
   },
   {
    "duration": 13,
    "start_time": "2023-10-08T17:34:34.970Z"
   },
   {
    "duration": 12,
    "start_time": "2023-10-08T17:34:40.174Z"
   },
   {
    "duration": 72,
    "start_time": "2023-10-08T17:37:02.831Z"
   },
   {
    "duration": 3,
    "start_time": "2023-10-08T17:37:37.907Z"
   },
   {
    "duration": 36,
    "start_time": "2023-10-08T17:37:37.927Z"
   },
   {
    "duration": 28,
    "start_time": "2023-10-08T17:37:37.965Z"
   },
   {
    "duration": 15,
    "start_time": "2023-10-08T17:37:37.995Z"
   },
   {
    "duration": 8,
    "start_time": "2023-10-08T17:37:38.012Z"
   },
   {
    "duration": 19,
    "start_time": "2023-10-08T17:37:38.022Z"
   },
   {
    "duration": 12,
    "start_time": "2023-10-08T17:37:38.043Z"
   },
   {
    "duration": 19,
    "start_time": "2023-10-08T17:37:38.056Z"
   },
   {
    "duration": 15,
    "start_time": "2023-10-08T17:37:38.077Z"
   },
   {
    "duration": 12,
    "start_time": "2023-10-08T17:37:38.094Z"
   },
   {
    "duration": 21,
    "start_time": "2023-10-08T17:37:38.108Z"
   },
   {
    "duration": 12,
    "start_time": "2023-10-08T17:37:38.131Z"
   },
   {
    "duration": 5,
    "start_time": "2023-10-08T17:37:38.145Z"
   },
   {
    "duration": 19,
    "start_time": "2023-10-08T17:37:38.152Z"
   },
   {
    "duration": 13,
    "start_time": "2023-10-08T17:37:38.173Z"
   },
   {
    "duration": 16,
    "start_time": "2023-10-08T17:37:38.188Z"
   },
   {
    "duration": 22,
    "start_time": "2023-10-08T17:37:38.207Z"
   },
   {
    "duration": 7,
    "start_time": "2023-10-08T17:37:38.236Z"
   },
   {
    "duration": 29,
    "start_time": "2023-10-08T17:37:38.244Z"
   },
   {
    "duration": 28,
    "start_time": "2023-10-08T17:37:38.275Z"
   },
   {
    "duration": 7,
    "start_time": "2023-10-08T17:37:38.305Z"
   },
   {
    "duration": 17,
    "start_time": "2023-10-08T17:37:38.313Z"
   },
   {
    "duration": 19,
    "start_time": "2023-10-08T17:37:38.334Z"
   },
   {
    "duration": 10,
    "start_time": "2023-10-08T17:37:38.355Z"
   },
   {
    "duration": 7,
    "start_time": "2023-10-08T17:37:38.367Z"
   },
   {
    "duration": 12,
    "start_time": "2023-10-08T17:37:38.375Z"
   },
   {
    "duration": 23,
    "start_time": "2023-10-08T17:37:38.389Z"
   },
   {
    "duration": 34,
    "start_time": "2023-10-08T17:37:38.414Z"
   },
   {
    "duration": 16,
    "start_time": "2023-10-08T17:37:38.451Z"
   },
   {
    "duration": 18,
    "start_time": "2023-10-08T17:37:38.468Z"
   },
   {
    "duration": 16,
    "start_time": "2023-10-08T17:37:38.488Z"
   },
   {
    "duration": 17,
    "start_time": "2023-10-08T17:37:38.505Z"
   },
   {
    "duration": 209,
    "start_time": "2023-10-08T17:37:38.523Z"
   },
   {
    "duration": 10,
    "start_time": "2023-10-08T17:37:38.733Z"
   },
   {
    "duration": 8,
    "start_time": "2023-10-08T17:37:38.745Z"
   },
   {
    "duration": 7,
    "start_time": "2023-10-08T17:37:38.755Z"
   },
   {
    "duration": 10,
    "start_time": "2023-10-08T17:37:38.764Z"
   },
   {
    "duration": 134,
    "start_time": "2023-10-08T17:37:38.776Z"
   },
   {
    "duration": 15,
    "start_time": "2023-10-08T17:37:38.911Z"
   },
   {
    "duration": 11,
    "start_time": "2023-10-08T17:37:38.927Z"
   },
   {
    "duration": 366,
    "start_time": "2023-10-08T17:37:38.943Z"
   },
   {
    "duration": 25,
    "start_time": "2023-10-08T17:37:39.311Z"
   },
   {
    "duration": 428,
    "start_time": "2023-10-08T17:37:39.338Z"
   },
   {
    "duration": 8,
    "start_time": "2023-10-08T17:37:39.768Z"
   },
   {
    "duration": 8,
    "start_time": "2023-10-08T17:37:39.778Z"
   },
   {
    "duration": 533,
    "start_time": "2023-10-08T17:37:39.788Z"
   },
   {
    "duration": 23,
    "start_time": "2023-10-08T17:37:40.324Z"
   },
   {
    "duration": 11,
    "start_time": "2023-10-08T17:37:40.349Z"
   },
   {
    "duration": 8,
    "start_time": "2023-10-08T17:37:40.362Z"
   },
   {
    "duration": 10,
    "start_time": "2023-10-08T17:37:40.372Z"
   },
   {
    "duration": 14,
    "start_time": "2023-10-08T17:37:40.385Z"
   },
   {
    "duration": 23,
    "start_time": "2023-10-08T17:37:40.401Z"
   },
   {
    "duration": 416,
    "start_time": "2023-10-08T17:37:40.426Z"
   },
   {
    "duration": 9,
    "start_time": "2023-10-08T17:37:40.844Z"
   },
   {
    "duration": 23,
    "start_time": "2023-10-08T17:37:40.855Z"
   },
   {
    "duration": 33,
    "start_time": "2023-10-08T17:37:40.880Z"
   },
   {
    "duration": 43,
    "start_time": "2023-10-08T17:37:40.915Z"
   },
   {
    "duration": 1593,
    "start_time": "2023-10-08T17:37:40.960Z"
   },
   {
    "duration": 0,
    "start_time": "2023-10-08T17:37:42.556Z"
   },
   {
    "duration": 0,
    "start_time": "2023-10-08T17:37:42.559Z"
   },
   {
    "duration": 0,
    "start_time": "2023-10-08T17:37:42.560Z"
   },
   {
    "duration": 0,
    "start_time": "2023-10-08T17:37:42.562Z"
   },
   {
    "duration": 0,
    "start_time": "2023-10-08T17:37:42.564Z"
   },
   {
    "duration": 0,
    "start_time": "2023-10-08T17:37:42.565Z"
   },
   {
    "duration": 5,
    "start_time": "2023-10-08T17:38:01.693Z"
   },
   {
    "duration": 5,
    "start_time": "2023-10-08T17:38:02.570Z"
   },
   {
    "duration": 5,
    "start_time": "2023-10-08T17:38:02.907Z"
   },
   {
    "duration": 40,
    "start_time": "2023-10-08T17:38:03.070Z"
   },
   {
    "duration": 13,
    "start_time": "2023-10-08T17:38:03.469Z"
   },
   {
    "duration": 9,
    "start_time": "2023-10-08T17:38:06.262Z"
   },
   {
    "duration": 25,
    "start_time": "2023-10-08T17:38:08.649Z"
   },
   {
    "duration": 4,
    "start_time": "2023-10-08T17:38:35.538Z"
   },
   {
    "duration": 4,
    "start_time": "2023-10-08T17:39:08.045Z"
   },
   {
    "duration": 4,
    "start_time": "2023-10-08T17:40:34.013Z"
   },
   {
    "duration": 7,
    "start_time": "2023-10-08T17:40:44.220Z"
   },
   {
    "duration": 6,
    "start_time": "2023-10-08T17:41:29.839Z"
   },
   {
    "duration": 23,
    "start_time": "2023-10-08T17:44:41.536Z"
   },
   {
    "duration": 10,
    "start_time": "2023-10-08T17:44:56.971Z"
   },
   {
    "duration": 8,
    "start_time": "2023-10-08T17:46:56.244Z"
   },
   {
    "duration": 4,
    "start_time": "2023-10-08T17:46:56.711Z"
   },
   {
    "duration": 16,
    "start_time": "2023-10-08T17:46:57.380Z"
   },
   {
    "duration": 6,
    "start_time": "2023-10-08T17:47:01.372Z"
   },
   {
    "duration": 4,
    "start_time": "2023-10-08T17:47:01.873Z"
   },
   {
    "duration": 16,
    "start_time": "2023-10-08T17:47:03.035Z"
   },
   {
    "duration": 334,
    "start_time": "2023-10-08T17:57:53.806Z"
   },
   {
    "duration": 8,
    "start_time": "2023-10-08T17:57:54.150Z"
   },
   {
    "duration": 416,
    "start_time": "2023-10-08T17:57:54.652Z"
   },
   {
    "duration": 9,
    "start_time": "2023-10-08T17:57:55.192Z"
   },
   {
    "duration": 349,
    "start_time": "2023-10-08T17:57:56.168Z"
   },
   {
    "duration": 8,
    "start_time": "2023-10-08T17:57:57.406Z"
   },
   {
    "duration": 468,
    "start_time": "2023-10-08T17:58:00.642Z"
   },
   {
    "duration": 8,
    "start_time": "2023-10-08T17:58:02.065Z"
   },
   {
    "duration": 12,
    "start_time": "2023-10-08T17:58:22.186Z"
   },
   {
    "duration": 8,
    "start_time": "2023-10-08T17:58:32.546Z"
   },
   {
    "duration": 18,
    "start_time": "2023-10-08T17:58:42.122Z"
   },
   {
    "duration": 241,
    "start_time": "2023-10-08T18:00:45.810Z"
   },
   {
    "duration": 451,
    "start_time": "2023-10-08T18:05:22.413Z"
   },
   {
    "duration": 438,
    "start_time": "2023-10-08T18:08:18.651Z"
   },
   {
    "duration": 468,
    "start_time": "2023-10-08T18:08:42.146Z"
   },
   {
    "duration": 587,
    "start_time": "2023-10-08T18:09:20.403Z"
   },
   {
    "duration": 516,
    "start_time": "2023-10-08T18:09:43.371Z"
   },
   {
    "duration": 541,
    "start_time": "2023-10-08T18:09:59.843Z"
   },
   {
    "duration": 124,
    "start_time": "2023-10-08T18:11:42.951Z"
   },
   {
    "duration": 684,
    "start_time": "2023-10-08T18:11:46.962Z"
   },
   {
    "duration": 555,
    "start_time": "2023-10-08T18:12:14.268Z"
   },
   {
    "duration": 534,
    "start_time": "2023-10-08T18:12:37.296Z"
   },
   {
    "duration": 595,
    "start_time": "2023-10-08T18:12:54.760Z"
   },
   {
    "duration": 753,
    "start_time": "2023-10-08T18:13:30.522Z"
   },
   {
    "duration": 581,
    "start_time": "2023-10-08T18:13:46.248Z"
   },
   {
    "duration": 559,
    "start_time": "2023-10-08T18:13:51.378Z"
   },
   {
    "duration": 584,
    "start_time": "2023-10-08T18:13:57.899Z"
   },
   {
    "duration": 694,
    "start_time": "2023-10-08T18:14:04.296Z"
   },
   {
    "duration": 490,
    "start_time": "2023-10-08T18:15:08.811Z"
   },
   {
    "duration": 509,
    "start_time": "2023-10-08T18:15:21.035Z"
   },
   {
    "duration": 741,
    "start_time": "2023-10-08T18:15:25.358Z"
   },
   {
    "duration": 648,
    "start_time": "2023-10-08T18:16:00.306Z"
   },
   {
    "duration": 618,
    "start_time": "2023-10-08T18:16:21.062Z"
   },
   {
    "duration": 78,
    "start_time": "2023-10-08T18:16:57.783Z"
   },
   {
    "duration": 566,
    "start_time": "2023-10-08T18:17:12.039Z"
   },
   {
    "duration": 704,
    "start_time": "2023-10-08T18:17:33.107Z"
   },
   {
    "duration": 569,
    "start_time": "2023-10-08T18:17:33.813Z"
   },
   {
    "duration": 8,
    "start_time": "2023-10-08T18:22:18.176Z"
   },
   {
    "duration": 14,
    "start_time": "2023-10-08T18:22:27.322Z"
   },
   {
    "duration": 16,
    "start_time": "2023-10-08T18:22:27.979Z"
   },
   {
    "duration": 16,
    "start_time": "2023-10-08T18:22:28.946Z"
   },
   {
    "duration": 6,
    "start_time": "2023-10-08T18:22:29.965Z"
   },
   {
    "duration": 6,
    "start_time": "2023-10-08T18:27:38.366Z"
   },
   {
    "duration": 27483,
    "start_time": "2023-10-08T18:27:40.677Z"
   },
   {
    "duration": 28572,
    "start_time": "2023-10-08T18:29:54.044Z"
   },
   {
    "duration": 20,
    "start_time": "2023-10-08T18:30:22.618Z"
   },
   {
    "duration": 9,
    "start_time": "2023-10-08T18:30:43.743Z"
   },
   {
    "duration": 500,
    "start_time": "2023-10-08T18:30:56.969Z"
   },
   {
    "duration": 19,
    "start_time": "2023-10-08T18:31:01.456Z"
   },
   {
    "duration": 4,
    "start_time": "2023-10-08T18:31:09.828Z"
   },
   {
    "duration": 5,
    "start_time": "2023-10-08T18:31:10.311Z"
   },
   {
    "duration": 23,
    "start_time": "2023-10-08T18:31:51.344Z"
   },
   {
    "duration": 25,
    "start_time": "2023-10-08T18:32:04.170Z"
   },
   {
    "duration": 38,
    "start_time": "2023-10-08T18:33:17.433Z"
   },
   {
    "duration": 26,
    "start_time": "2023-10-08T18:40:54.970Z"
   },
   {
    "duration": 35,
    "start_time": "2023-10-08T18:41:08.409Z"
   },
   {
    "duration": 35,
    "start_time": "2023-10-08T18:45:18.009Z"
   },
   {
    "duration": 27,
    "start_time": "2023-10-08T18:45:24.041Z"
   },
   {
    "duration": 4,
    "start_time": "2023-10-08T18:45:36.136Z"
   },
   {
    "duration": 22262,
    "start_time": "2023-10-08T18:45:36.505Z"
   },
   {
    "duration": 17,
    "start_time": "2023-10-08T18:45:58.769Z"
   },
   {
    "duration": 6,
    "start_time": "2023-10-08T18:46:04.192Z"
   },
   {
    "duration": 7,
    "start_time": "2023-10-08T18:46:04.999Z"
   },
   {
    "duration": 5,
    "start_time": "2023-10-08T18:46:05.351Z"
   },
   {
    "duration": 9,
    "start_time": "2023-10-08T18:46:05.821Z"
   },
   {
    "duration": 23,
    "start_time": "2023-10-08T18:46:09.032Z"
   },
   {
    "duration": 19,
    "start_time": "2023-10-08T18:46:24.972Z"
   },
   {
    "duration": 22,
    "start_time": "2023-10-08T18:46:42.167Z"
   },
   {
    "duration": 23,
    "start_time": "2023-10-08T18:47:02.899Z"
   },
   {
    "duration": 1265,
    "start_time": "2023-10-08T18:55:25.075Z"
   },
   {
    "duration": 30,
    "start_time": "2023-10-08T18:55:26.342Z"
   },
   {
    "duration": 33,
    "start_time": "2023-10-08T18:55:26.374Z"
   },
   {
    "duration": 17,
    "start_time": "2023-10-08T18:55:26.409Z"
   },
   {
    "duration": 17,
    "start_time": "2023-10-08T18:55:26.427Z"
   },
   {
    "duration": 28,
    "start_time": "2023-10-08T18:55:26.445Z"
   },
   {
    "duration": 13,
    "start_time": "2023-10-08T18:55:26.475Z"
   },
   {
    "duration": 19,
    "start_time": "2023-10-08T18:55:26.489Z"
   },
   {
    "duration": 8,
    "start_time": "2023-10-08T18:55:26.510Z"
   },
   {
    "duration": 15,
    "start_time": "2023-10-08T18:55:26.521Z"
   },
   {
    "duration": 8,
    "start_time": "2023-10-08T18:55:26.537Z"
   },
   {
    "duration": 23,
    "start_time": "2023-10-08T18:55:26.547Z"
   },
   {
    "duration": 11,
    "start_time": "2023-10-08T18:55:26.571Z"
   },
   {
    "duration": 17,
    "start_time": "2023-10-08T18:55:26.583Z"
   },
   {
    "duration": 4,
    "start_time": "2023-10-08T18:55:26.602Z"
   },
   {
    "duration": 31,
    "start_time": "2023-10-08T18:55:26.608Z"
   },
   {
    "duration": 105,
    "start_time": "2023-10-08T18:55:26.641Z"
   },
   {
    "duration": 21,
    "start_time": "2023-10-08T18:55:26.747Z"
   },
   {
    "duration": 22,
    "start_time": "2023-10-08T18:55:26.770Z"
   },
   {
    "duration": 34,
    "start_time": "2023-10-08T18:55:26.793Z"
   },
   {
    "duration": 18,
    "start_time": "2023-10-08T18:55:26.829Z"
   },
   {
    "duration": 34,
    "start_time": "2023-10-08T18:55:26.849Z"
   },
   {
    "duration": 9,
    "start_time": "2023-10-08T18:55:26.885Z"
   },
   {
    "duration": 326,
    "start_time": "2023-10-08T18:55:26.896Z"
   },
   {
    "duration": 122,
    "start_time": "2023-10-08T18:55:27.225Z"
   },
   {
    "duration": 268,
    "start_time": "2023-10-08T18:55:27.349Z"
   },
   {
    "duration": 239,
    "start_time": "2023-10-08T18:55:27.618Z"
   },
   {
    "duration": 89,
    "start_time": "2023-10-08T18:55:27.862Z"
   },
   {
    "duration": 160,
    "start_time": "2023-10-08T18:55:27.953Z"
   },
   {
    "duration": 217,
    "start_time": "2023-10-08T18:55:28.114Z"
   },
   {
    "duration": 89,
    "start_time": "2023-10-08T18:55:28.333Z"
   },
   {
    "duration": 13,
    "start_time": "2023-10-08T18:55:28.424Z"
   },
   {
    "duration": 244,
    "start_time": "2023-10-08T18:55:28.439Z"
   },
   {
    "duration": 8,
    "start_time": "2023-10-08T18:55:28.685Z"
   },
   {
    "duration": 50,
    "start_time": "2023-10-08T18:55:28.695Z"
   },
   {
    "duration": 35,
    "start_time": "2023-10-08T18:55:28.746Z"
   },
   {
    "duration": 38,
    "start_time": "2023-10-08T18:55:28.783Z"
   },
   {
    "duration": 117,
    "start_time": "2023-10-08T18:55:28.823Z"
   },
   {
    "duration": 9,
    "start_time": "2023-10-08T18:55:28.941Z"
   },
   {
    "duration": 145,
    "start_time": "2023-10-08T18:55:28.951Z"
   },
   {
    "duration": 399,
    "start_time": "2023-10-08T18:55:29.097Z"
   },
   {
    "duration": 9,
    "start_time": "2023-10-08T18:55:29.497Z"
   },
   {
    "duration": 407,
    "start_time": "2023-10-08T18:55:29.508Z"
   },
   {
    "duration": 8,
    "start_time": "2023-10-08T18:55:29.924Z"
   },
   {
    "duration": 63,
    "start_time": "2023-10-08T18:55:29.934Z"
   },
   {
    "duration": 512,
    "start_time": "2023-10-08T18:55:29.998Z"
   },
   {
    "duration": 18,
    "start_time": "2023-10-08T18:55:30.512Z"
   },
   {
    "duration": 167,
    "start_time": "2023-10-08T18:55:30.531Z"
   },
   {
    "duration": 59,
    "start_time": "2023-10-08T18:55:30.700Z"
   },
   {
    "duration": 70,
    "start_time": "2023-10-08T18:55:30.761Z"
   },
   {
    "duration": 41,
    "start_time": "2023-10-08T18:55:30.833Z"
   },
   {
    "duration": 112,
    "start_time": "2023-10-08T18:55:30.877Z"
   },
   {
    "duration": 471,
    "start_time": "2023-10-08T18:55:30.991Z"
   },
   {
    "duration": 9,
    "start_time": "2023-10-08T18:55:31.464Z"
   },
   {
    "duration": 39,
    "start_time": "2023-10-08T18:55:31.475Z"
   },
   {
    "duration": 31,
    "start_time": "2023-10-08T18:55:31.516Z"
   },
   {
    "duration": 63,
    "start_time": "2023-10-08T18:55:31.549Z"
   },
   {
    "duration": 63,
    "start_time": "2023-10-08T18:55:31.615Z"
   },
   {
    "duration": 64,
    "start_time": "2023-10-08T18:55:31.680Z"
   },
   {
    "duration": 41,
    "start_time": "2023-10-08T18:55:31.746Z"
   },
   {
    "duration": 32,
    "start_time": "2023-10-08T18:55:31.790Z"
   },
   {
    "duration": 33,
    "start_time": "2023-10-08T18:55:31.823Z"
   },
   {
    "duration": 20,
    "start_time": "2023-10-08T18:55:31.858Z"
   },
   {
    "duration": 40,
    "start_time": "2023-10-08T18:55:31.879Z"
   },
   {
    "duration": 68,
    "start_time": "2023-10-08T18:55:31.921Z"
   },
   {
    "duration": 57,
    "start_time": "2023-10-08T18:55:31.991Z"
   },
   {
    "duration": 44,
    "start_time": "2023-10-08T18:55:32.049Z"
   },
   {
    "duration": 17,
    "start_time": "2023-10-08T18:55:32.095Z"
   },
   {
    "duration": 36,
    "start_time": "2023-10-08T18:55:32.114Z"
   },
   {
    "duration": 26,
    "start_time": "2023-10-08T18:55:32.151Z"
   },
   {
    "duration": 31,
    "start_time": "2023-10-08T18:55:32.178Z"
   },
   {
    "duration": 35,
    "start_time": "2023-10-08T18:55:32.211Z"
   },
   {
    "duration": 390,
    "start_time": "2023-10-08T18:55:32.248Z"
   },
   {
    "duration": 10,
    "start_time": "2023-10-08T18:55:32.640Z"
   },
   {
    "duration": 482,
    "start_time": "2023-10-08T18:55:32.651Z"
   },
   {
    "duration": 10,
    "start_time": "2023-10-08T18:55:33.135Z"
   },
   {
    "duration": 371,
    "start_time": "2023-10-08T18:55:33.147Z"
   },
   {
    "duration": 10,
    "start_time": "2023-10-08T18:55:33.520Z"
   },
   {
    "duration": 459,
    "start_time": "2023-10-08T18:55:33.532Z"
   },
   {
    "duration": 9,
    "start_time": "2023-10-08T18:55:33.993Z"
   },
   {
    "duration": 652,
    "start_time": "2023-10-08T18:55:34.004Z"
   },
   {
    "duration": 582,
    "start_time": "2023-10-08T18:55:34.663Z"
   },
   {
    "duration": 12,
    "start_time": "2023-10-08T18:55:35.247Z"
   },
   {
    "duration": 385,
    "start_time": "2023-10-08T18:55:35.261Z"
   },
   {
    "duration": 216,
    "start_time": "2023-10-08T18:55:35.648Z"
   },
   {
    "duration": 323,
    "start_time": "2023-10-08T18:55:35.867Z"
   },
   {
    "duration": 112,
    "start_time": "2023-10-08T18:55:36.192Z"
   },
   {
    "duration": 25865,
    "start_time": "2023-10-08T18:55:36.306Z"
   },
   {
    "duration": 16,
    "start_time": "2023-10-08T18:56:02.173Z"
   },
   {
    "duration": 460,
    "start_time": "2023-10-08T18:56:02.191Z"
   },
   {
    "duration": 20,
    "start_time": "2023-10-08T18:56:02.653Z"
   },
   {
    "duration": 25,
    "start_time": "2023-10-08T18:56:02.675Z"
   },
   {
    "duration": 32,
    "start_time": "2023-10-08T18:56:02.702Z"
   },
   {
    "duration": 49,
    "start_time": "2023-10-08T18:56:02.735Z"
   },
   {
    "duration": 35,
    "start_time": "2023-10-08T18:56:02.786Z"
   },
   {
    "duration": 3,
    "start_time": "2023-10-08T18:56:02.823Z"
   },
   {
    "duration": 17,
    "start_time": "2023-10-08T18:56:02.828Z"
   },
   {
    "duration": 61,
    "start_time": "2023-10-08T18:56:02.848Z"
   },
   {
    "duration": 3,
    "start_time": "2023-10-08T18:56:02.912Z"
   },
   {
    "duration": 20765,
    "start_time": "2023-10-08T18:56:02.917Z"
   },
   {
    "duration": 15,
    "start_time": "2023-10-08T18:56:23.683Z"
   },
   {
    "duration": 28,
    "start_time": "2023-10-08T18:56:23.700Z"
   },
   {
    "duration": 55,
    "start_time": "2023-10-08T18:56:23.730Z"
   },
   {
    "duration": 15,
    "start_time": "2023-10-08T18:56:23.787Z"
   },
   {
    "duration": 34,
    "start_time": "2023-10-08T18:56:23.803Z"
   },
   {
    "duration": 21,
    "start_time": "2023-10-08T18:56:23.839Z"
   },
   {
    "duration": 18,
    "start_time": "2023-10-08T18:56:23.862Z"
   },
   {
    "duration": 73,
    "start_time": "2023-10-08T18:56:23.882Z"
   },
   {
    "duration": 13,
    "start_time": "2023-10-08T18:56:23.957Z"
   },
   {
    "duration": 17,
    "start_time": "2023-10-08T18:56:23.971Z"
   },
   {
    "duration": 18,
    "start_time": "2023-10-08T18:56:23.990Z"
   },
   {
    "duration": 44,
    "start_time": "2023-10-08T18:56:24.010Z"
   },
   {
    "duration": 70,
    "start_time": "2023-10-08T18:56:24.055Z"
   },
   {
    "duration": 361,
    "start_time": "2023-10-08T18:56:24.127Z"
   },
   {
    "duration": 3,
    "start_time": "2023-10-08T18:56:24.490Z"
   },
   {
    "duration": 62,
    "start_time": "2023-10-08T18:56:24.495Z"
   },
   {
    "duration": 19,
    "start_time": "2023-10-08T18:56:24.559Z"
   },
   {
    "duration": 59,
    "start_time": "2023-10-08T18:56:24.580Z"
   },
   {
    "duration": 18,
    "start_time": "2023-10-08T18:56:24.641Z"
   },
   {
    "duration": 27,
    "start_time": "2023-10-08T18:56:24.661Z"
   },
   {
    "duration": 19,
    "start_time": "2023-10-08T18:56:24.689Z"
   },
   {
    "duration": 22,
    "start_time": "2023-10-08T18:56:24.710Z"
   },
   {
    "duration": 40,
    "start_time": "2023-10-08T18:56:24.734Z"
   },
   {
    "duration": 204,
    "start_time": "2023-10-08T18:56:24.776Z"
   }
  ],
  "kernelspec": {
   "display_name": "Python 3 (ipykernel)",
   "language": "python",
   "name": "python3"
  },
  "language_info": {
   "codemirror_mode": {
    "name": "ipython",
    "version": 3
   },
   "file_extension": ".py",
   "mimetype": "text/x-python",
   "name": "python",
   "nbconvert_exporter": "python",
   "pygments_lexer": "ipython3",
   "version": "3.10.12"
  },
  "toc": {
   "base_numbering": 1,
   "nav_menu": {
    "height": "286px",
    "width": "441px"
   },
   "number_sections": true,
   "sideBar": true,
   "skip_h1_title": true,
   "title_cell": "Table of Contents",
   "title_sidebar": "Contents",
   "toc_cell": false,
   "toc_position": {},
   "toc_section_display": true,
   "toc_window_display": false
  }
 },
 "nbformat": 4,
 "nbformat_minor": 5
}
